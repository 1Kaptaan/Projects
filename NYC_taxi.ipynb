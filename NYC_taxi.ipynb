{
 "cells": [
  {
   "cell_type": "markdown",
   "metadata": {},
   "source": [
    "# We are using NYC taxi data and predict the trip duration of customers\n",
    "# We start by importing essential libraries and then importing our training data"
   ]
  },
  {
   "cell_type": "markdown",
   "metadata": {},
   "source": [
    "# Data description \n",
    "id - a unique identifier for each trip,\n",
    "vendor_id - a code indicating the provider associated with the trip record,\n",
    "pickup_datetime - date and time when the meter was engaged,\n",
    "dropoff_datetime - date and time when the meter was disengaged,\n",
    "passenger_count - the number of passengers in the vehicle (driver entered value),\n",
    "pickup_longitude - the longitude where the meter was engaged,\n",
    "pickup_latitude - the latitude where the meter was engaged,\n",
    "dropoff_longitude - the longitude where the meter was disengaged,\n",
    "dropoff_latitude - the latitude where the meter was disengaged,\n",
    "store_and_fwd_flag - This flag indicates whether the trip record was held in vehicle memoryY=store N=not store,\n",
    "trip_duration - duration of the trip in seconds"
   ]
  },
  {
   "cell_type": "code",
   "execution_count": 1,
   "metadata": {},
   "outputs": [],
   "source": [
    "import numpy as np\n",
    "import pandas as pd\n",
    "import matplotlib.pyplot as plt\n",
    "import seaborn as sns\n",
    "%matplotlib inline"
   ]
  },
  {
   "cell_type": "code",
   "execution_count": 2,
   "metadata": {},
   "outputs": [],
   "source": [
    "train = pd.read_csv('train.csv')"
   ]
  },
  {
   "cell_type": "markdown",
   "metadata": {},
   "source": [
    "# Check the head, description and info of data "
   ]
  },
  {
   "cell_type": "code",
   "execution_count": 3,
   "metadata": {},
   "outputs": [
    {
     "data": {
      "text/html": [
       "<div>\n",
       "<style scoped>\n",
       "    .dataframe tbody tr th:only-of-type {\n",
       "        vertical-align: middle;\n",
       "    }\n",
       "\n",
       "    .dataframe tbody tr th {\n",
       "        vertical-align: top;\n",
       "    }\n",
       "\n",
       "    .dataframe thead th {\n",
       "        text-align: right;\n",
       "    }\n",
       "</style>\n",
       "<table border=\"1\" class=\"dataframe\">\n",
       "  <thead>\n",
       "    <tr style=\"text-align: right;\">\n",
       "      <th></th>\n",
       "      <th>id</th>\n",
       "      <th>vendor_id</th>\n",
       "      <th>pickup_datetime</th>\n",
       "      <th>dropoff_datetime</th>\n",
       "      <th>passenger_count</th>\n",
       "      <th>pickup_longitude</th>\n",
       "      <th>pickup_latitude</th>\n",
       "      <th>dropoff_longitude</th>\n",
       "      <th>dropoff_latitude</th>\n",
       "      <th>store_and_fwd_flag</th>\n",
       "      <th>trip_duration</th>\n",
       "    </tr>\n",
       "  </thead>\n",
       "  <tbody>\n",
       "    <tr>\n",
       "      <th>0</th>\n",
       "      <td>id2875421</td>\n",
       "      <td>2</td>\n",
       "      <td>2016-03-14 17:24:55</td>\n",
       "      <td>2016-03-14 17:32:30</td>\n",
       "      <td>1</td>\n",
       "      <td>-73.982155</td>\n",
       "      <td>40.767937</td>\n",
       "      <td>-73.964630</td>\n",
       "      <td>40.765602</td>\n",
       "      <td>N</td>\n",
       "      <td>455</td>\n",
       "    </tr>\n",
       "    <tr>\n",
       "      <th>1</th>\n",
       "      <td>id2377394</td>\n",
       "      <td>1</td>\n",
       "      <td>2016-06-12 00:43:35</td>\n",
       "      <td>2016-06-12 00:54:38</td>\n",
       "      <td>1</td>\n",
       "      <td>-73.980415</td>\n",
       "      <td>40.738564</td>\n",
       "      <td>-73.999481</td>\n",
       "      <td>40.731152</td>\n",
       "      <td>N</td>\n",
       "      <td>663</td>\n",
       "    </tr>\n",
       "    <tr>\n",
       "      <th>2</th>\n",
       "      <td>id3858529</td>\n",
       "      <td>2</td>\n",
       "      <td>2016-01-19 11:35:24</td>\n",
       "      <td>2016-01-19 12:10:48</td>\n",
       "      <td>1</td>\n",
       "      <td>-73.979027</td>\n",
       "      <td>40.763939</td>\n",
       "      <td>-74.005333</td>\n",
       "      <td>40.710087</td>\n",
       "      <td>N</td>\n",
       "      <td>2124</td>\n",
       "    </tr>\n",
       "  </tbody>\n",
       "</table>\n",
       "</div>"
      ],
      "text/plain": [
       "          id  vendor_id      pickup_datetime     dropoff_datetime  \\\n",
       "0  id2875421          2  2016-03-14 17:24:55  2016-03-14 17:32:30   \n",
       "1  id2377394          1  2016-06-12 00:43:35  2016-06-12 00:54:38   \n",
       "2  id3858529          2  2016-01-19 11:35:24  2016-01-19 12:10:48   \n",
       "\n",
       "   passenger_count  pickup_longitude  pickup_latitude  dropoff_longitude  \\\n",
       "0                1        -73.982155        40.767937         -73.964630   \n",
       "1                1        -73.980415        40.738564         -73.999481   \n",
       "2                1        -73.979027        40.763939         -74.005333   \n",
       "\n",
       "   dropoff_latitude store_and_fwd_flag  trip_duration  \n",
       "0         40.765602                  N            455  \n",
       "1         40.731152                  N            663  \n",
       "2         40.710087                  N           2124  "
      ]
     },
     "execution_count": 3,
     "metadata": {},
     "output_type": "execute_result"
    }
   ],
   "source": [
    "train.head(3)"
   ]
  },
  {
   "cell_type": "code",
   "execution_count": 4,
   "metadata": {},
   "outputs": [
    {
     "data": {
      "text/html": [
       "<div>\n",
       "<style scoped>\n",
       "    .dataframe tbody tr th:only-of-type {\n",
       "        vertical-align: middle;\n",
       "    }\n",
       "\n",
       "    .dataframe tbody tr th {\n",
       "        vertical-align: top;\n",
       "    }\n",
       "\n",
       "    .dataframe thead th {\n",
       "        text-align: right;\n",
       "    }\n",
       "</style>\n",
       "<table border=\"1\" class=\"dataframe\">\n",
       "  <thead>\n",
       "    <tr style=\"text-align: right;\">\n",
       "      <th></th>\n",
       "      <th>vendor_id</th>\n",
       "      <th>passenger_count</th>\n",
       "      <th>pickup_longitude</th>\n",
       "      <th>pickup_latitude</th>\n",
       "      <th>dropoff_longitude</th>\n",
       "      <th>dropoff_latitude</th>\n",
       "      <th>trip_duration</th>\n",
       "    </tr>\n",
       "  </thead>\n",
       "  <tbody>\n",
       "    <tr>\n",
       "      <th>count</th>\n",
       "      <td>1.458644e+06</td>\n",
       "      <td>1.458644e+06</td>\n",
       "      <td>1.458644e+06</td>\n",
       "      <td>1.458644e+06</td>\n",
       "      <td>1.458644e+06</td>\n",
       "      <td>1.458644e+06</td>\n",
       "      <td>1.458644e+06</td>\n",
       "    </tr>\n",
       "    <tr>\n",
       "      <th>mean</th>\n",
       "      <td>1.534950e+00</td>\n",
       "      <td>1.664530e+00</td>\n",
       "      <td>-7.397349e+01</td>\n",
       "      <td>4.075092e+01</td>\n",
       "      <td>-7.397342e+01</td>\n",
       "      <td>4.075180e+01</td>\n",
       "      <td>9.594923e+02</td>\n",
       "    </tr>\n",
       "    <tr>\n",
       "      <th>std</th>\n",
       "      <td>4.987772e-01</td>\n",
       "      <td>1.314242e+00</td>\n",
       "      <td>7.090186e-02</td>\n",
       "      <td>3.288119e-02</td>\n",
       "      <td>7.064327e-02</td>\n",
       "      <td>3.589056e-02</td>\n",
       "      <td>5.237432e+03</td>\n",
       "    </tr>\n",
       "    <tr>\n",
       "      <th>min</th>\n",
       "      <td>1.000000e+00</td>\n",
       "      <td>0.000000e+00</td>\n",
       "      <td>-1.219333e+02</td>\n",
       "      <td>3.435970e+01</td>\n",
       "      <td>-1.219333e+02</td>\n",
       "      <td>3.218114e+01</td>\n",
       "      <td>1.000000e+00</td>\n",
       "    </tr>\n",
       "    <tr>\n",
       "      <th>25%</th>\n",
       "      <td>1.000000e+00</td>\n",
       "      <td>1.000000e+00</td>\n",
       "      <td>-7.399187e+01</td>\n",
       "      <td>4.073735e+01</td>\n",
       "      <td>-7.399133e+01</td>\n",
       "      <td>4.073588e+01</td>\n",
       "      <td>3.970000e+02</td>\n",
       "    </tr>\n",
       "    <tr>\n",
       "      <th>50%</th>\n",
       "      <td>2.000000e+00</td>\n",
       "      <td>1.000000e+00</td>\n",
       "      <td>-7.398174e+01</td>\n",
       "      <td>4.075410e+01</td>\n",
       "      <td>-7.397975e+01</td>\n",
       "      <td>4.075452e+01</td>\n",
       "      <td>6.620000e+02</td>\n",
       "    </tr>\n",
       "    <tr>\n",
       "      <th>75%</th>\n",
       "      <td>2.000000e+00</td>\n",
       "      <td>2.000000e+00</td>\n",
       "      <td>-7.396733e+01</td>\n",
       "      <td>4.076836e+01</td>\n",
       "      <td>-7.396301e+01</td>\n",
       "      <td>4.076981e+01</td>\n",
       "      <td>1.075000e+03</td>\n",
       "    </tr>\n",
       "    <tr>\n",
       "      <th>max</th>\n",
       "      <td>2.000000e+00</td>\n",
       "      <td>9.000000e+00</td>\n",
       "      <td>-6.133553e+01</td>\n",
       "      <td>5.188108e+01</td>\n",
       "      <td>-6.133553e+01</td>\n",
       "      <td>4.392103e+01</td>\n",
       "      <td>3.526282e+06</td>\n",
       "    </tr>\n",
       "  </tbody>\n",
       "</table>\n",
       "</div>"
      ],
      "text/plain": [
       "          vendor_id  passenger_count  pickup_longitude  pickup_latitude  \\\n",
       "count  1.458644e+06     1.458644e+06      1.458644e+06     1.458644e+06   \n",
       "mean   1.534950e+00     1.664530e+00     -7.397349e+01     4.075092e+01   \n",
       "std    4.987772e-01     1.314242e+00      7.090186e-02     3.288119e-02   \n",
       "min    1.000000e+00     0.000000e+00     -1.219333e+02     3.435970e+01   \n",
       "25%    1.000000e+00     1.000000e+00     -7.399187e+01     4.073735e+01   \n",
       "50%    2.000000e+00     1.000000e+00     -7.398174e+01     4.075410e+01   \n",
       "75%    2.000000e+00     2.000000e+00     -7.396733e+01     4.076836e+01   \n",
       "max    2.000000e+00     9.000000e+00     -6.133553e+01     5.188108e+01   \n",
       "\n",
       "       dropoff_longitude  dropoff_latitude  trip_duration  \n",
       "count       1.458644e+06      1.458644e+06   1.458644e+06  \n",
       "mean       -7.397342e+01      4.075180e+01   9.594923e+02  \n",
       "std         7.064327e-02      3.589056e-02   5.237432e+03  \n",
       "min        -1.219333e+02      3.218114e+01   1.000000e+00  \n",
       "25%        -7.399133e+01      4.073588e+01   3.970000e+02  \n",
       "50%        -7.397975e+01      4.075452e+01   6.620000e+02  \n",
       "75%        -7.396301e+01      4.076981e+01   1.075000e+03  \n",
       "max        -6.133553e+01      4.392103e+01   3.526282e+06  "
      ]
     },
     "execution_count": 4,
     "metadata": {},
     "output_type": "execute_result"
    }
   ],
   "source": [
    "train.describe()"
   ]
  },
  {
   "cell_type": "code",
   "execution_count": 5,
   "metadata": {},
   "outputs": [
    {
     "name": "stdout",
     "output_type": "stream",
     "text": [
      "<class 'pandas.core.frame.DataFrame'>\n",
      "RangeIndex: 1458644 entries, 0 to 1458643\n",
      "Data columns (total 11 columns):\n",
      " #   Column              Non-Null Count    Dtype  \n",
      "---  ------              --------------    -----  \n",
      " 0   id                  1458644 non-null  object \n",
      " 1   vendor_id           1458644 non-null  int64  \n",
      " 2   pickup_datetime     1458644 non-null  object \n",
      " 3   dropoff_datetime    1458644 non-null  object \n",
      " 4   passenger_count     1458644 non-null  int64  \n",
      " 5   pickup_longitude    1458644 non-null  float64\n",
      " 6   pickup_latitude     1458644 non-null  float64\n",
      " 7   dropoff_longitude   1458644 non-null  float64\n",
      " 8   dropoff_latitude    1458644 non-null  float64\n",
      " 9   store_and_fwd_flag  1458644 non-null  object \n",
      " 10  trip_duration       1458644 non-null  int64  \n",
      "dtypes: float64(4), int64(3), object(4)\n",
      "memory usage: 122.4+ MB\n"
     ]
    }
   ],
   "source": [
    "train.info()"
   ]
  },
  {
   "cell_type": "markdown",
   "metadata": {},
   "source": [
    "# We look for number of missing values by using isnull"
   ]
  },
  {
   "cell_type": "code",
   "execution_count": 6,
   "metadata": {},
   "outputs": [
    {
     "data": {
      "text/plain": [
       "id                    0\n",
       "vendor_id             0\n",
       "pickup_datetime       0\n",
       "dropoff_datetime      0\n",
       "passenger_count       0\n",
       "pickup_longitude      0\n",
       "pickup_latitude       0\n",
       "dropoff_longitude     0\n",
       "dropoff_latitude      0\n",
       "store_and_fwd_flag    0\n",
       "trip_duration         0\n",
       "dtype: int64"
      ]
     },
     "execution_count": 6,
     "metadata": {},
     "output_type": "execute_result"
    }
   ],
   "source": [
    "train.isnull().sum()"
   ]
  },
  {
   "cell_type": "markdown",
   "metadata": {},
   "source": [
    "# Now we drop the unnecessary columns and add dummies"
   ]
  },
  {
   "cell_type": "code",
   "execution_count": 8,
   "metadata": {},
   "outputs": [],
   "source": [
    "f = pd.get_dummies(train['store_and_fwd_flag'],drop_first = True)"
   ]
  },
  {
   "cell_type": "code",
   "execution_count": 9,
   "metadata": {},
   "outputs": [],
   "source": [
    "train = pd.concat([train,f],axis = 1)"
   ]
  },
  {
   "cell_type": "code",
   "execution_count": 11,
   "metadata": {},
   "outputs": [],
   "source": [
    "train['flag_Y_N'] = train['Y']"
   ]
  },
  {
   "cell_type": "code",
   "execution_count": 14,
   "metadata": {},
   "outputs": [
    {
     "data": {
      "text/html": [
       "<div>\n",
       "<style scoped>\n",
       "    .dataframe tbody tr th:only-of-type {\n",
       "        vertical-align: middle;\n",
       "    }\n",
       "\n",
       "    .dataframe tbody tr th {\n",
       "        vertical-align: top;\n",
       "    }\n",
       "\n",
       "    .dataframe thead th {\n",
       "        text-align: right;\n",
       "    }\n",
       "</style>\n",
       "<table border=\"1\" class=\"dataframe\">\n",
       "  <thead>\n",
       "    <tr style=\"text-align: right;\">\n",
       "      <th></th>\n",
       "      <th>id</th>\n",
       "      <th>vendor_id</th>\n",
       "      <th>pickup_datetime</th>\n",
       "      <th>dropoff_datetime</th>\n",
       "      <th>passenger_count</th>\n",
       "      <th>pickup_longitude</th>\n",
       "      <th>pickup_latitude</th>\n",
       "      <th>dropoff_longitude</th>\n",
       "      <th>dropoff_latitude</th>\n",
       "      <th>store_and_fwd_flag</th>\n",
       "      <th>trip_duration</th>\n",
       "      <th>flag_Y_N</th>\n",
       "    </tr>\n",
       "  </thead>\n",
       "  <tbody>\n",
       "    <tr>\n",
       "      <th>0</th>\n",
       "      <td>id2875421</td>\n",
       "      <td>2</td>\n",
       "      <td>2016-03-14 17:24:55</td>\n",
       "      <td>2016-03-14 17:32:30</td>\n",
       "      <td>1</td>\n",
       "      <td>-73.982155</td>\n",
       "      <td>40.767937</td>\n",
       "      <td>-73.96463</td>\n",
       "      <td>40.765602</td>\n",
       "      <td>N</td>\n",
       "      <td>455</td>\n",
       "      <td>0</td>\n",
       "    </tr>\n",
       "  </tbody>\n",
       "</table>\n",
       "</div>"
      ],
      "text/plain": [
       "          id  vendor_id      pickup_datetime     dropoff_datetime  \\\n",
       "0  id2875421          2  2016-03-14 17:24:55  2016-03-14 17:32:30   \n",
       "\n",
       "   passenger_count  pickup_longitude  pickup_latitude  dropoff_longitude  \\\n",
       "0                1        -73.982155        40.767937          -73.96463   \n",
       "\n",
       "   dropoff_latitude store_and_fwd_flag  trip_duration  flag_Y_N  \n",
       "0         40.765602                  N            455         0  "
      ]
     },
     "execution_count": 14,
     "metadata": {},
     "output_type": "execute_result"
    }
   ],
   "source": [
    "train.head(1)"
   ]
  },
  {
   "cell_type": "code",
   "execution_count": 13,
   "metadata": {},
   "outputs": [],
   "source": [
    "train = train.drop('Y',axis = 1)"
   ]
  },
  {
   "cell_type": "code",
   "execution_count": 17,
   "metadata": {},
   "outputs": [
    {
     "name": "stdout",
     "output_type": "stream",
     "text": [
      "<class 'pandas.core.frame.DataFrame'>\n",
      "RangeIndex: 1458644 entries, 0 to 1458643\n",
      "Data columns (total 11 columns):\n",
      " #   Column             Non-Null Count    Dtype  \n",
      "---  ------             --------------    -----  \n",
      " 0   id                 1458644 non-null  object \n",
      " 1   vendor_id          1458644 non-null  int64  \n",
      " 2   pickup_datetime    1458644 non-null  object \n",
      " 3   dropoff_datetime   1458644 non-null  object \n",
      " 4   passenger_count    1458644 non-null  int64  \n",
      " 5   pickup_longitude   1458644 non-null  float64\n",
      " 6   pickup_latitude    1458644 non-null  float64\n",
      " 7   dropoff_longitude  1458644 non-null  float64\n",
      " 8   dropoff_latitude   1458644 non-null  float64\n",
      " 9   trip_duration      1458644 non-null  int64  \n",
      " 10  flag_Y_N           1458644 non-null  uint8  \n",
      "dtypes: float64(4), int64(3), object(3), uint8(1)\n",
      "memory usage: 112.7+ MB\n"
     ]
    }
   ],
   "source": [
    "train.info()"
   ]
  },
  {
   "cell_type": "code",
   "execution_count": 16,
   "metadata": {},
   "outputs": [],
   "source": [
    "train = train.drop('store_and_fwd_flag',axis=1)"
   ]
  },
  {
   "cell_type": "code",
   "execution_count": 18,
   "metadata": {},
   "outputs": [],
   "source": [
    "train = train.drop(['id', 'pickup_datetime','dropoff_datetime'],axis =1)"
   ]
  },
  {
   "cell_type": "code",
   "execution_count": 19,
   "metadata": {},
   "outputs": [
    {
     "data": {
      "text/html": [
       "<div>\n",
       "<style scoped>\n",
       "    .dataframe tbody tr th:only-of-type {\n",
       "        vertical-align: middle;\n",
       "    }\n",
       "\n",
       "    .dataframe tbody tr th {\n",
       "        vertical-align: top;\n",
       "    }\n",
       "\n",
       "    .dataframe thead th {\n",
       "        text-align: right;\n",
       "    }\n",
       "</style>\n",
       "<table border=\"1\" class=\"dataframe\">\n",
       "  <thead>\n",
       "    <tr style=\"text-align: right;\">\n",
       "      <th></th>\n",
       "      <th>vendor_id</th>\n",
       "      <th>passenger_count</th>\n",
       "      <th>pickup_longitude</th>\n",
       "      <th>pickup_latitude</th>\n",
       "      <th>dropoff_longitude</th>\n",
       "      <th>dropoff_latitude</th>\n",
       "      <th>trip_duration</th>\n",
       "      <th>flag_Y_N</th>\n",
       "    </tr>\n",
       "  </thead>\n",
       "  <tbody>\n",
       "    <tr>\n",
       "      <th>0</th>\n",
       "      <td>2</td>\n",
       "      <td>1</td>\n",
       "      <td>-73.982155</td>\n",
       "      <td>40.767937</td>\n",
       "      <td>-73.964630</td>\n",
       "      <td>40.765602</td>\n",
       "      <td>455</td>\n",
       "      <td>0</td>\n",
       "    </tr>\n",
       "    <tr>\n",
       "      <th>1</th>\n",
       "      <td>1</td>\n",
       "      <td>1</td>\n",
       "      <td>-73.980415</td>\n",
       "      <td>40.738564</td>\n",
       "      <td>-73.999481</td>\n",
       "      <td>40.731152</td>\n",
       "      <td>663</td>\n",
       "      <td>0</td>\n",
       "    </tr>\n",
       "    <tr>\n",
       "      <th>2</th>\n",
       "      <td>2</td>\n",
       "      <td>1</td>\n",
       "      <td>-73.979027</td>\n",
       "      <td>40.763939</td>\n",
       "      <td>-74.005333</td>\n",
       "      <td>40.710087</td>\n",
       "      <td>2124</td>\n",
       "      <td>0</td>\n",
       "    </tr>\n",
       "  </tbody>\n",
       "</table>\n",
       "</div>"
      ],
      "text/plain": [
       "   vendor_id  passenger_count  pickup_longitude  pickup_latitude  \\\n",
       "0          2                1        -73.982155        40.767937   \n",
       "1          1                1        -73.980415        40.738564   \n",
       "2          2                1        -73.979027        40.763939   \n",
       "\n",
       "   dropoff_longitude  dropoff_latitude  trip_duration  flag_Y_N  \n",
       "0         -73.964630         40.765602            455         0  \n",
       "1         -73.999481         40.731152            663         0  \n",
       "2         -74.005333         40.710087           2124         0  "
      ]
     },
     "execution_count": 19,
     "metadata": {},
     "output_type": "execute_result"
    }
   ],
   "source": [
    "train.head(3)"
   ]
  },
  {
   "cell_type": "code",
   "execution_count": 22,
   "metadata": {},
   "outputs": [
    {
     "name": "stdout",
     "output_type": "stream",
     "text": [
      "<class 'pandas.core.frame.DataFrame'>\n",
      "RangeIndex: 1458644 entries, 0 to 1458643\n",
      "Data columns (total 8 columns):\n",
      " #   Column             Non-Null Count    Dtype  \n",
      "---  ------             --------------    -----  \n",
      " 0   vendor_id          1458644 non-null  int64  \n",
      " 1   passenger_count    1458644 non-null  int64  \n",
      " 2   pickup_longitude   1458644 non-null  float64\n",
      " 3   pickup_latitude    1458644 non-null  float64\n",
      " 4   dropoff_longitude  1458644 non-null  float64\n",
      " 5   dropoff_latitude   1458644 non-null  float64\n",
      " 6   trip_duration      1458644 non-null  int64  \n",
      " 7   flag_Y_N           1458644 non-null  uint8  \n",
      "dtypes: float64(4), int64(3), uint8(1)\n",
      "memory usage: 79.3 MB\n"
     ]
    }
   ],
   "source": [
    "train.info()"
   ]
  },
  {
   "cell_type": "markdown",
   "metadata": {},
   "source": [
    "# Split data into X_train and y_train for feeding our model"
   ]
  },
  {
   "cell_type": "code",
   "execution_count": 20,
   "metadata": {},
   "outputs": [],
   "source": [
    "X_train = train.drop('trip_duration',axis = 1)"
   ]
  },
  {
   "cell_type": "code",
   "execution_count": 40,
   "metadata": {},
   "outputs": [
    {
     "data": {
      "text/html": [
       "<div>\n",
       "<style scoped>\n",
       "    .dataframe tbody tr th:only-of-type {\n",
       "        vertical-align: middle;\n",
       "    }\n",
       "\n",
       "    .dataframe tbody tr th {\n",
       "        vertical-align: top;\n",
       "    }\n",
       "\n",
       "    .dataframe thead th {\n",
       "        text-align: right;\n",
       "    }\n",
       "</style>\n",
       "<table border=\"1\" class=\"dataframe\">\n",
       "  <thead>\n",
       "    <tr style=\"text-align: right;\">\n",
       "      <th></th>\n",
       "      <th>vendor_id</th>\n",
       "      <th>passenger_count</th>\n",
       "      <th>pickup_longitude</th>\n",
       "      <th>pickup_latitude</th>\n",
       "      <th>dropoff_longitude</th>\n",
       "      <th>dropoff_latitude</th>\n",
       "      <th>flag_Y_N</th>\n",
       "    </tr>\n",
       "  </thead>\n",
       "  <tbody>\n",
       "    <tr>\n",
       "      <th>0</th>\n",
       "      <td>2</td>\n",
       "      <td>1</td>\n",
       "      <td>-73.982155</td>\n",
       "      <td>40.767937</td>\n",
       "      <td>-73.96463</td>\n",
       "      <td>40.765602</td>\n",
       "      <td>0</td>\n",
       "    </tr>\n",
       "  </tbody>\n",
       "</table>\n",
       "</div>"
      ],
      "text/plain": [
       "   vendor_id  passenger_count  pickup_longitude  pickup_latitude  \\\n",
       "0          2                1        -73.982155        40.767937   \n",
       "\n",
       "   dropoff_longitude  dropoff_latitude  flag_Y_N  \n",
       "0          -73.96463         40.765602         0  "
      ]
     },
     "execution_count": 40,
     "metadata": {},
     "output_type": "execute_result"
    }
   ],
   "source": [
    "X_train.head(1)"
   ]
  },
  {
   "cell_type": "code",
   "execution_count": 21,
   "metadata": {},
   "outputs": [],
   "source": [
    "y_train = train['trip_duration']"
   ]
  },
  {
   "cell_type": "markdown",
   "metadata": {},
   "source": [
    "# We import our test file and do the same steps we did for training set"
   ]
  },
  {
   "cell_type": "code",
   "execution_count": 23,
   "metadata": {},
   "outputs": [],
   "source": [
    "test = pd.read_csv('test.csv')"
   ]
  },
  {
   "cell_type": "code",
   "execution_count": 27,
   "metadata": {},
   "outputs": [
    {
     "data": {
      "text/html": [
       "<div>\n",
       "<style scoped>\n",
       "    .dataframe tbody tr th:only-of-type {\n",
       "        vertical-align: middle;\n",
       "    }\n",
       "\n",
       "    .dataframe tbody tr th {\n",
       "        vertical-align: top;\n",
       "    }\n",
       "\n",
       "    .dataframe thead th {\n",
       "        text-align: right;\n",
       "    }\n",
       "</style>\n",
       "<table border=\"1\" class=\"dataframe\">\n",
       "  <thead>\n",
       "    <tr style=\"text-align: right;\">\n",
       "      <th></th>\n",
       "      <th>id</th>\n",
       "      <th>vendor_id</th>\n",
       "      <th>pickup_datetime</th>\n",
       "      <th>passenger_count</th>\n",
       "      <th>pickup_longitude</th>\n",
       "      <th>pickup_latitude</th>\n",
       "      <th>dropoff_longitude</th>\n",
       "      <th>dropoff_latitude</th>\n",
       "      <th>store_and_fwd_flag</th>\n",
       "    </tr>\n",
       "  </thead>\n",
       "  <tbody>\n",
       "    <tr>\n",
       "      <th>0</th>\n",
       "      <td>id3004672</td>\n",
       "      <td>1</td>\n",
       "      <td>2016-06-30 23:59:58</td>\n",
       "      <td>1</td>\n",
       "      <td>-73.988129</td>\n",
       "      <td>40.732029</td>\n",
       "      <td>-73.990173</td>\n",
       "      <td>40.756680</td>\n",
       "      <td>N</td>\n",
       "    </tr>\n",
       "    <tr>\n",
       "      <th>1</th>\n",
       "      <td>id3505355</td>\n",
       "      <td>1</td>\n",
       "      <td>2016-06-30 23:59:53</td>\n",
       "      <td>1</td>\n",
       "      <td>-73.964203</td>\n",
       "      <td>40.679993</td>\n",
       "      <td>-73.959808</td>\n",
       "      <td>40.655403</td>\n",
       "      <td>N</td>\n",
       "    </tr>\n",
       "    <tr>\n",
       "      <th>2</th>\n",
       "      <td>id1217141</td>\n",
       "      <td>1</td>\n",
       "      <td>2016-06-30 23:59:47</td>\n",
       "      <td>1</td>\n",
       "      <td>-73.997437</td>\n",
       "      <td>40.737583</td>\n",
       "      <td>-73.986160</td>\n",
       "      <td>40.729523</td>\n",
       "      <td>N</td>\n",
       "    </tr>\n",
       "  </tbody>\n",
       "</table>\n",
       "</div>"
      ],
      "text/plain": [
       "          id  vendor_id      pickup_datetime  passenger_count  \\\n",
       "0  id3004672          1  2016-06-30 23:59:58                1   \n",
       "1  id3505355          1  2016-06-30 23:59:53                1   \n",
       "2  id1217141          1  2016-06-30 23:59:47                1   \n",
       "\n",
       "   pickup_longitude  pickup_latitude  dropoff_longitude  dropoff_latitude  \\\n",
       "0        -73.988129        40.732029         -73.990173         40.756680   \n",
       "1        -73.964203        40.679993         -73.959808         40.655403   \n",
       "2        -73.997437        40.737583         -73.986160         40.729523   \n",
       "\n",
       "  store_and_fwd_flag  \n",
       "0                  N  \n",
       "1                  N  \n",
       "2                  N  "
      ]
     },
     "execution_count": 27,
     "metadata": {},
     "output_type": "execute_result"
    }
   ],
   "source": [
    "test.head(3)"
   ]
  },
  {
   "cell_type": "code",
   "execution_count": 24,
   "metadata": {},
   "outputs": [
    {
     "name": "stdout",
     "output_type": "stream",
     "text": [
      "<class 'pandas.core.frame.DataFrame'>\n",
      "RangeIndex: 625134 entries, 0 to 625133\n",
      "Data columns (total 9 columns):\n",
      " #   Column              Non-Null Count   Dtype  \n",
      "---  ------              --------------   -----  \n",
      " 0   id                  625134 non-null  object \n",
      " 1   vendor_id           625134 non-null  int64  \n",
      " 2   pickup_datetime     625134 non-null  object \n",
      " 3   passenger_count     625134 non-null  int64  \n",
      " 4   pickup_longitude    625134 non-null  float64\n",
      " 5   pickup_latitude     625134 non-null  float64\n",
      " 6   dropoff_longitude   625134 non-null  float64\n",
      " 7   dropoff_latitude    625134 non-null  float64\n",
      " 8   store_and_fwd_flag  625134 non-null  object \n",
      "dtypes: float64(4), int64(2), object(3)\n",
      "memory usage: 42.9+ MB\n"
     ]
    }
   ],
   "source": [
    "test.info()"
   ]
  },
  {
   "cell_type": "code",
   "execution_count": 26,
   "metadata": {},
   "outputs": [
    {
     "data": {
      "text/plain": [
       "id                    0\n",
       "vendor_id             0\n",
       "pickup_datetime       0\n",
       "passenger_count       0\n",
       "pickup_longitude      0\n",
       "pickup_latitude       0\n",
       "dropoff_longitude     0\n",
       "dropoff_latitude      0\n",
       "store_and_fwd_flag    0\n",
       "dtype: int64"
      ]
     },
     "execution_count": 26,
     "metadata": {},
     "output_type": "execute_result"
    }
   ],
   "source": [
    "test.isnull().sum()"
   ]
  },
  {
   "cell_type": "code",
   "execution_count": 28,
   "metadata": {},
   "outputs": [],
   "source": [
    "test = test.drop(['id','pickup_datetime'],axis = 1)"
   ]
  },
  {
   "cell_type": "code",
   "execution_count": 29,
   "metadata": {},
   "outputs": [
    {
     "data": {
      "text/html": [
       "<div>\n",
       "<style scoped>\n",
       "    .dataframe tbody tr th:only-of-type {\n",
       "        vertical-align: middle;\n",
       "    }\n",
       "\n",
       "    .dataframe tbody tr th {\n",
       "        vertical-align: top;\n",
       "    }\n",
       "\n",
       "    .dataframe thead th {\n",
       "        text-align: right;\n",
       "    }\n",
       "</style>\n",
       "<table border=\"1\" class=\"dataframe\">\n",
       "  <thead>\n",
       "    <tr style=\"text-align: right;\">\n",
       "      <th></th>\n",
       "      <th>vendor_id</th>\n",
       "      <th>passenger_count</th>\n",
       "      <th>pickup_longitude</th>\n",
       "      <th>pickup_latitude</th>\n",
       "      <th>dropoff_longitude</th>\n",
       "      <th>dropoff_latitude</th>\n",
       "      <th>store_and_fwd_flag</th>\n",
       "    </tr>\n",
       "  </thead>\n",
       "  <tbody>\n",
       "    <tr>\n",
       "      <th>0</th>\n",
       "      <td>1</td>\n",
       "      <td>1</td>\n",
       "      <td>-73.988129</td>\n",
       "      <td>40.732029</td>\n",
       "      <td>-73.990173</td>\n",
       "      <td>40.756680</td>\n",
       "      <td>N</td>\n",
       "    </tr>\n",
       "    <tr>\n",
       "      <th>1</th>\n",
       "      <td>1</td>\n",
       "      <td>1</td>\n",
       "      <td>-73.964203</td>\n",
       "      <td>40.679993</td>\n",
       "      <td>-73.959808</td>\n",
       "      <td>40.655403</td>\n",
       "      <td>N</td>\n",
       "    </tr>\n",
       "    <tr>\n",
       "      <th>2</th>\n",
       "      <td>1</td>\n",
       "      <td>1</td>\n",
       "      <td>-73.997437</td>\n",
       "      <td>40.737583</td>\n",
       "      <td>-73.986160</td>\n",
       "      <td>40.729523</td>\n",
       "      <td>N</td>\n",
       "    </tr>\n",
       "  </tbody>\n",
       "</table>\n",
       "</div>"
      ],
      "text/plain": [
       "   vendor_id  passenger_count  pickup_longitude  pickup_latitude  \\\n",
       "0          1                1        -73.988129        40.732029   \n",
       "1          1                1        -73.964203        40.679993   \n",
       "2          1                1        -73.997437        40.737583   \n",
       "\n",
       "   dropoff_longitude  dropoff_latitude store_and_fwd_flag  \n",
       "0         -73.990173         40.756680                  N  \n",
       "1         -73.959808         40.655403                  N  \n",
       "2         -73.986160         40.729523                  N  "
      ]
     },
     "execution_count": 29,
     "metadata": {},
     "output_type": "execute_result"
    }
   ],
   "source": [
    "test.head(3)"
   ]
  },
  {
   "cell_type": "code",
   "execution_count": 30,
   "metadata": {},
   "outputs": [],
   "source": [
    "s = pd.get_dummies(test['store_and_fwd_flag'],drop_first=True)"
   ]
  },
  {
   "cell_type": "code",
   "execution_count": 31,
   "metadata": {},
   "outputs": [],
   "source": [
    "test = pd.concat([test,s],axis =1)"
   ]
  },
  {
   "cell_type": "code",
   "execution_count": 32,
   "metadata": {},
   "outputs": [],
   "source": [
    "test = test.drop('store_and_fwd_flag',axis=1)"
   ]
  },
  {
   "cell_type": "code",
   "execution_count": 33,
   "metadata": {},
   "outputs": [
    {
     "data": {
      "text/html": [
       "<div>\n",
       "<style scoped>\n",
       "    .dataframe tbody tr th:only-of-type {\n",
       "        vertical-align: middle;\n",
       "    }\n",
       "\n",
       "    .dataframe tbody tr th {\n",
       "        vertical-align: top;\n",
       "    }\n",
       "\n",
       "    .dataframe thead th {\n",
       "        text-align: right;\n",
       "    }\n",
       "</style>\n",
       "<table border=\"1\" class=\"dataframe\">\n",
       "  <thead>\n",
       "    <tr style=\"text-align: right;\">\n",
       "      <th></th>\n",
       "      <th>vendor_id</th>\n",
       "      <th>passenger_count</th>\n",
       "      <th>pickup_longitude</th>\n",
       "      <th>pickup_latitude</th>\n",
       "      <th>dropoff_longitude</th>\n",
       "      <th>dropoff_latitude</th>\n",
       "      <th>Y</th>\n",
       "    </tr>\n",
       "  </thead>\n",
       "  <tbody>\n",
       "    <tr>\n",
       "      <th>0</th>\n",
       "      <td>1</td>\n",
       "      <td>1</td>\n",
       "      <td>-73.988129</td>\n",
       "      <td>40.732029</td>\n",
       "      <td>-73.990173</td>\n",
       "      <td>40.756680</td>\n",
       "      <td>0</td>\n",
       "    </tr>\n",
       "    <tr>\n",
       "      <th>1</th>\n",
       "      <td>1</td>\n",
       "      <td>1</td>\n",
       "      <td>-73.964203</td>\n",
       "      <td>40.679993</td>\n",
       "      <td>-73.959808</td>\n",
       "      <td>40.655403</td>\n",
       "      <td>0</td>\n",
       "    </tr>\n",
       "    <tr>\n",
       "      <th>2</th>\n",
       "      <td>1</td>\n",
       "      <td>1</td>\n",
       "      <td>-73.997437</td>\n",
       "      <td>40.737583</td>\n",
       "      <td>-73.986160</td>\n",
       "      <td>40.729523</td>\n",
       "      <td>0</td>\n",
       "    </tr>\n",
       "  </tbody>\n",
       "</table>\n",
       "</div>"
      ],
      "text/plain": [
       "   vendor_id  passenger_count  pickup_longitude  pickup_latitude  \\\n",
       "0          1                1        -73.988129        40.732029   \n",
       "1          1                1        -73.964203        40.679993   \n",
       "2          1                1        -73.997437        40.737583   \n",
       "\n",
       "   dropoff_longitude  dropoff_latitude  Y  \n",
       "0         -73.990173         40.756680  0  \n",
       "1         -73.959808         40.655403  0  \n",
       "2         -73.986160         40.729523  0  "
      ]
     },
     "execution_count": 33,
     "metadata": {},
     "output_type": "execute_result"
    }
   ],
   "source": [
    "test.head(3)"
   ]
  },
  {
   "cell_type": "code",
   "execution_count": 34,
   "metadata": {},
   "outputs": [],
   "source": [
    "test['flag_Y_N'] = test['Y']"
   ]
  },
  {
   "cell_type": "code",
   "execution_count": 35,
   "metadata": {},
   "outputs": [],
   "source": [
    "test = test.drop('Y',axis =1)"
   ]
  },
  {
   "cell_type": "code",
   "execution_count": 36,
   "metadata": {},
   "outputs": [
    {
     "data": {
      "text/html": [
       "<div>\n",
       "<style scoped>\n",
       "    .dataframe tbody tr th:only-of-type {\n",
       "        vertical-align: middle;\n",
       "    }\n",
       "\n",
       "    .dataframe tbody tr th {\n",
       "        vertical-align: top;\n",
       "    }\n",
       "\n",
       "    .dataframe thead th {\n",
       "        text-align: right;\n",
       "    }\n",
       "</style>\n",
       "<table border=\"1\" class=\"dataframe\">\n",
       "  <thead>\n",
       "    <tr style=\"text-align: right;\">\n",
       "      <th></th>\n",
       "      <th>vendor_id</th>\n",
       "      <th>passenger_count</th>\n",
       "      <th>pickup_longitude</th>\n",
       "      <th>pickup_latitude</th>\n",
       "      <th>dropoff_longitude</th>\n",
       "      <th>dropoff_latitude</th>\n",
       "      <th>flag_Y_N</th>\n",
       "    </tr>\n",
       "  </thead>\n",
       "  <tbody>\n",
       "    <tr>\n",
       "      <th>0</th>\n",
       "      <td>1</td>\n",
       "      <td>1</td>\n",
       "      <td>-73.988129</td>\n",
       "      <td>40.732029</td>\n",
       "      <td>-73.990173</td>\n",
       "      <td>40.756680</td>\n",
       "      <td>0</td>\n",
       "    </tr>\n",
       "    <tr>\n",
       "      <th>1</th>\n",
       "      <td>1</td>\n",
       "      <td>1</td>\n",
       "      <td>-73.964203</td>\n",
       "      <td>40.679993</td>\n",
       "      <td>-73.959808</td>\n",
       "      <td>40.655403</td>\n",
       "      <td>0</td>\n",
       "    </tr>\n",
       "    <tr>\n",
       "      <th>2</th>\n",
       "      <td>1</td>\n",
       "      <td>1</td>\n",
       "      <td>-73.997437</td>\n",
       "      <td>40.737583</td>\n",
       "      <td>-73.986160</td>\n",
       "      <td>40.729523</td>\n",
       "      <td>0</td>\n",
       "    </tr>\n",
       "  </tbody>\n",
       "</table>\n",
       "</div>"
      ],
      "text/plain": [
       "   vendor_id  passenger_count  pickup_longitude  pickup_latitude  \\\n",
       "0          1                1        -73.988129        40.732029   \n",
       "1          1                1        -73.964203        40.679993   \n",
       "2          1                1        -73.997437        40.737583   \n",
       "\n",
       "   dropoff_longitude  dropoff_latitude  flag_Y_N  \n",
       "0         -73.990173         40.756680         0  \n",
       "1         -73.959808         40.655403         0  \n",
       "2         -73.986160         40.729523         0  "
      ]
     },
     "execution_count": 36,
     "metadata": {},
     "output_type": "execute_result"
    }
   ],
   "source": [
    "test.head(3)"
   ]
  },
  {
   "cell_type": "code",
   "execution_count": 37,
   "metadata": {},
   "outputs": [],
   "source": [
    "X_test = test"
   ]
  },
  {
   "cell_type": "markdown",
   "metadata": {},
   "source": [
    "# Carry out Normalization with MinMaxScaler for both X_train and X_test"
   ]
  },
  {
   "cell_type": "code",
   "execution_count": 38,
   "metadata": {},
   "outputs": [],
   "source": [
    "from sklearn.preprocessing import MinMaxScaler"
   ]
  },
  {
   "cell_type": "code",
   "execution_count": 39,
   "metadata": {},
   "outputs": [],
   "source": [
    "scaler = MinMaxScaler()"
   ]
  },
  {
   "cell_type": "code",
   "execution_count": 41,
   "metadata": {},
   "outputs": [],
   "source": [
    "X_train = scaler.fit_transform(X_train)"
   ]
  },
  {
   "cell_type": "code",
   "execution_count": 42,
   "metadata": {},
   "outputs": [],
   "source": [
    "X_test = scaler.transform(X_test)"
   ]
  },
  {
   "cell_type": "markdown",
   "metadata": {},
   "source": [
    "# Model Creation \n",
    "# We will add dropout and train our model"
   ]
  },
  {
   "cell_type": "code",
   "execution_count": 43,
   "metadata": {},
   "outputs": [],
   "source": [
    "from tensorflow.keras.models import Sequential\n",
    "from tensorflow.keras.layers import Dense,Dropout"
   ]
  },
  {
   "cell_type": "code",
   "execution_count": 44,
   "metadata": {},
   "outputs": [],
   "source": [
    "from tensorflow.keras.callbacks import EarlyStopping"
   ]
  },
  {
   "cell_type": "code",
   "execution_count": 45,
   "metadata": {},
   "outputs": [],
   "source": [
    "model = Sequential()\n",
    "\n",
    "model.add(Dense(14,activation = 'relu'))\n",
    "model.add(Dropout(.5))\n",
    "\n",
    "model.add(Dense(14,activation = 'relu'))\n",
    "model.add(Dropout(.25))\n",
    "\n",
    "model.add(Dense(14,activation = 'relu'))\n",
    "model.add(Dropout(.5))\n",
    "\n",
    "model.add(Dense(14,activation = 'relu'))\n",
    "model.add(Dropout(.25))\n",
    "\n",
    "model.add(Dense(1))\n",
    "#this is the final layer and has one nueron as we are only getting output here\n",
    "\n",
    "model.compile(optimizer = 'adam', loss = 'mse')"
   ]
  },
  {
   "cell_type": "code",
   "execution_count": 47,
   "metadata": {},
   "outputs": [
    {
     "data": {
      "text/plain": [
       "(1458644, 7)"
      ]
     },
     "execution_count": 47,
     "metadata": {},
     "output_type": "execute_result"
    }
   ],
   "source": [
    "X_train.shape"
   ]
  },
  {
   "cell_type": "code",
   "execution_count": 87,
   "metadata": {},
   "outputs": [
    {
     "name": "stdout",
     "output_type": "stream",
     "text": [
      "Model: \"sequential\"\n",
      "_________________________________________________________________\n",
      "Layer (type)                 Output Shape              Param #   \n",
      "=================================================================\n",
      "dense (Dense)                multiple                  112       \n",
      "_________________________________________________________________\n",
      "dropout (Dropout)            multiple                  0         \n",
      "_________________________________________________________________\n",
      "dense_1 (Dense)              multiple                  210       \n",
      "_________________________________________________________________\n",
      "dropout_1 (Dropout)          multiple                  0         \n",
      "_________________________________________________________________\n",
      "dense_2 (Dense)              multiple                  210       \n",
      "_________________________________________________________________\n",
      "dropout_2 (Dropout)          multiple                  0         \n",
      "_________________________________________________________________\n",
      "dense_3 (Dense)              multiple                  210       \n",
      "_________________________________________________________________\n",
      "dropout_3 (Dropout)          multiple                  0         \n",
      "_________________________________________________________________\n",
      "dense_4 (Dense)              multiple                  15        \n",
      "=================================================================\n",
      "Total params: 757\n",
      "Trainable params: 757\n",
      "Non-trainable params: 0\n",
      "_________________________________________________________________\n"
     ]
    }
   ],
   "source": [
    "model.summary()"
   ]
  },
  {
   "cell_type": "markdown",
   "metadata": {},
   "source": [
    "# We train the model and choose a batch size as the training set is too large and this can take a lot of time"
   ]
  },
  {
   "cell_type": "code",
   "execution_count": 48,
   "metadata": {
    "scrolled": true
   },
   "outputs": [
    {
     "name": "stdout",
     "output_type": "stream",
     "text": [
      "Epoch 1/50\n",
      "1313/1313 [==============================] - 2s 2ms/step - loss: 29405028.0000 - val_loss: 10072781.0000\n",
      "Epoch 2/50\n",
      "1313/1313 [==============================] - 2s 2ms/step - loss: 29406328.0000 - val_loss: 10073708.0000\n",
      "Epoch 3/50\n",
      "1313/1313 [==============================] - 2s 2ms/step - loss: 29402184.0000 - val_loss: 10073276.0000\n",
      "Epoch 4/50\n",
      "1313/1313 [==============================] - 2s 2ms/step - loss: 29402360.0000 - val_loss: 10068082.0000\n",
      "Epoch 5/50\n",
      "1313/1313 [==============================] - 2s 2ms/step - loss: 29399502.0000 - val_loss: 10080017.0000\n",
      "Epoch 6/50\n",
      "1313/1313 [==============================] - 2s 2ms/step - loss: 29399222.0000 - val_loss: 10058898.0000\n",
      "Epoch 7/50\n",
      "1313/1313 [==============================] - 2s 2ms/step - loss: 29397512.0000 - val_loss: 10074569.0000\n",
      "Epoch 8/50\n",
      "1313/1313 [==============================] - 2s 2ms/step - loss: 29396876.0000 - val_loss: 10066481.0000\n",
      "Epoch 9/50\n",
      "1313/1313 [==============================] - 2s 2ms/step - loss: 29390956.0000 - val_loss: 10068448.0000\n",
      "Epoch 10/50\n",
      "1313/1313 [==============================] - 2s 2ms/step - loss: 29396774.0000 - val_loss: 10066796.0000\n",
      "Epoch 11/50\n",
      "1313/1313 [==============================] - 2s 2ms/step - loss: 29390526.0000 - val_loss: 10050237.0000\n",
      "Epoch 12/50\n",
      "1313/1313 [==============================] - 2s 2ms/step - loss: 29388576.0000 - val_loss: 10057773.0000\n",
      "Epoch 13/50\n",
      "1313/1313 [==============================] - 2s 2ms/step - loss: 29393560.0000 - val_loss: 10062151.0000\n",
      "Epoch 14/50\n",
      "1313/1313 [==============================] - 2s 2ms/step - loss: 29388762.0000 - val_loss: 10060850.0000\n",
      "Epoch 15/50\n",
      "1313/1313 [==============================] - 2s 2ms/step - loss: 29388516.0000 - val_loss: 10057801.0000\n",
      "Epoch 16/50\n",
      "1313/1313 [==============================] - 2s 2ms/step - loss: 29388378.0000 - val_loss: 10059579.0000\n",
      "Epoch 17/50\n",
      "1313/1313 [==============================] - 2s 2ms/step - loss: 29387736.0000 - val_loss: 10061262.0000\n",
      "Epoch 18/50\n",
      "1313/1313 [==============================] - 2s 2ms/step - loss: 29384794.0000 - val_loss: 10057088.0000\n",
      "Epoch 19/50\n",
      "1313/1313 [==============================] - 2s 2ms/step - loss: 29388128.0000 - val_loss: 10063245.0000\n",
      "Epoch 20/50\n",
      "1313/1313 [==============================] - 2s 2ms/step - loss: 29385628.0000 - val_loss: 10058208.0000\n",
      "Epoch 21/50\n",
      "1313/1313 [==============================] - 2s 2ms/step - loss: 29386794.0000 - val_loss: 10065351.0000\n",
      "Epoch 22/50\n",
      "1313/1313 [==============================] - 2s 2ms/step - loss: 29382598.0000 - val_loss: 10061717.0000\n",
      "Epoch 23/50\n",
      "1313/1313 [==============================] - 2s 2ms/step - loss: 29380976.0000 - val_loss: 10058868.0000\n",
      "Epoch 24/50\n",
      "1313/1313 [==============================] - 2s 2ms/step - loss: 29382730.0000 - val_loss: 10052902.0000\n",
      "Epoch 25/50\n",
      "1313/1313 [==============================] - 2s 2ms/step - loss: 29385310.0000 - val_loss: 10054528.0000\n",
      "Epoch 26/50\n",
      "1313/1313 [==============================] - 2s 2ms/step - loss: 29380982.0000 - val_loss: 10057347.0000\n",
      "Epoch 27/50\n",
      "1313/1313 [==============================] - 2s 2ms/step - loss: 29383738.0000 - val_loss: 10051395.0000\n",
      "Epoch 28/50\n",
      "1313/1313 [==============================] - 2s 2ms/step - loss: 29381754.0000 - val_loss: 10053509.0000\n",
      "Epoch 29/50\n",
      "1313/1313 [==============================] - 2s 2ms/step - loss: 29381136.0000 - val_loss: 10051602.0000\n",
      "Epoch 30/50\n",
      "1313/1313 [==============================] - 2s 2ms/step - loss: 29377246.0000 - val_loss: 10047552.0000\n",
      "Epoch 31/50\n",
      "1313/1313 [==============================] - 2s 2ms/step - loss: 29378604.0000 - val_loss: 10048358.0000\n",
      "Epoch 32/50\n",
      "1313/1313 [==============================] - 2s 2ms/step - loss: 29377630.0000 - val_loss: 10053422.0000\n",
      "Epoch 33/50\n",
      "1313/1313 [==============================] - 2s 2ms/step - loss: 29377460.0000 - val_loss: 10049612.0000\n",
      "Epoch 34/50\n",
      "1313/1313 [==============================] - 2s 2ms/step - loss: 29378872.0000 - val_loss: 10049087.0000\n",
      "Epoch 35/50\n",
      "1313/1313 [==============================] - 2s 2ms/step - loss: 29378790.0000 - val_loss: 10051560.0000\n",
      "Epoch 36/50\n",
      "1313/1313 [==============================] - 2s 2ms/step - loss: 29380390.0000 - val_loss: 10049866.0000\n",
      "Epoch 37/50\n",
      "1313/1313 [==============================] - 2s 2ms/step - loss: 29378492.0000 - val_loss: 10045830.0000\n",
      "Epoch 38/50\n",
      "1313/1313 [==============================] - 2s 2ms/step - loss: 29377254.0000 - val_loss: 10046094.0000\n",
      "Epoch 39/50\n",
      "1313/1313 [==============================] - 2s 2ms/step - loss: 29376700.0000 - val_loss: 10046178.0000\n",
      "Epoch 40/50\n",
      "1313/1313 [==============================] - 2s 2ms/step - loss: 29379528.0000 - val_loss: 10045048.0000\n",
      "Epoch 41/50\n",
      "1313/1313 [==============================] - 2s 2ms/step - loss: 29377406.0000 - val_loss: 10046221.0000\n",
      "Epoch 42/50\n",
      "1313/1313 [==============================] - 2s 2ms/step - loss: 29379144.0000 - val_loss: 10045122.0000\n",
      "Epoch 43/50\n",
      "1313/1313 [==============================] - 2s 2ms/step - loss: 29378834.0000 - val_loss: 10045331.0000\n",
      "Epoch 44/50\n",
      "1313/1313 [==============================] - 2s 2ms/step - loss: 29376262.0000 - val_loss: 10043553.0000\n",
      "Epoch 45/50\n",
      "1313/1313 [==============================] - 2s 2ms/step - loss: 29376260.0000 - val_loss: 10044636.0000\n",
      "Epoch 46/50\n",
      "1313/1313 [==============================] - 2s 2ms/step - loss: 29377662.0000 - val_loss: 10042572.0000\n",
      "Epoch 47/50\n",
      "1313/1313 [==============================] - 2s 2ms/step - loss: 29379476.0000 - val_loss: 10040614.0000\n",
      "Epoch 48/50\n",
      "1313/1313 [==============================] - 2s 2ms/step - loss: 29380770.0000 - val_loss: 10041250.0000\n",
      "Epoch 49/50\n",
      "1313/1313 [==============================] - 2s 2ms/step - loss: 29378588.0000 - val_loss: 10043611.0000\n",
      "Epoch 50/50\n",
      "1313/1313 [==============================] - 2s 2ms/step - loss: 29376594.0000 - val_loss: 10040897.0000\n"
     ]
    },
    {
     "data": {
      "text/plain": [
       "<tensorflow.python.keras.callbacks.History at 0x7fc8db2631d0>"
      ]
     },
     "execution_count": 48,
     "metadata": {},
     "output_type": "execute_result"
    }
   ],
   "source": [
    "model.fit(x = X_train,\n",
    "         y = y_train,\n",
    "         validation_split= .10,\n",
    "         epochs= 50,\n",
    "         verbose = 1,\n",
    "         batch_size = 1000,\n",
    "         shuffle = True)"
   ]
  },
  {
   "cell_type": "code",
   "execution_count": 49,
   "metadata": {},
   "outputs": [],
   "source": [
    "loss = pd.DataFrame(model.history.history)"
   ]
  },
  {
   "cell_type": "markdown",
   "metadata": {},
   "source": [
    "# We can clearly see the model is not working properly.... It's Underfitting"
   ]
  },
  {
   "cell_type": "code",
   "execution_count": 50,
   "metadata": {},
   "outputs": [
    {
     "data": {
      "text/plain": [
       "<matplotlib.axes._subplots.AxesSubplot at 0x7fc8db278cd0>"
      ]
     },
     "execution_count": 50,
     "metadata": {},
     "output_type": "execute_result"
    },
    {
     "data": {
      "image/png": "[encoded data removed]",
      "text/plain": [
       "<Figure size 432x288 with 1 Axes>"
      ]
     },
     "metadata": {
      "needs_background": "light"
     },
     "output_type": "display_data"
    }
   ],
   "source": [
    "loss.plot()"
   ]
  },
  {
   "cell_type": "code",
   "execution_count": 54,
   "metadata": {},
   "outputs": [],
   "source": [
    "prediction = model.predict(X_test)"
   ]
  },
  {
   "cell_type": "code",
   "execution_count": 58,
   "metadata": {},
   "outputs": [],
   "source": [
    "T = pd.read_csv('test.csv')"
   ]
  },
  {
   "cell_type": "markdown",
   "metadata": {},
   "source": [
    "# Here we convert our prediction to a dataframe and export the results to csv file"
   ]
  },
  {
   "cell_type": "code",
   "execution_count": 60,
   "metadata": {},
   "outputs": [],
   "source": [
    "Result = pd.DataFrame(prediction,T['id'],columns=['trip_duration'])"
   ]
  },
  {
   "cell_type": "code",
   "execution_count": 62,
   "metadata": {},
   "outputs": [],
   "source": [
    "Result.to_csv('Result')"
   ]
  },
  {
   "cell_type": "markdown",
   "metadata": {},
   "source": [
    "# Now we will build a model and add earlystopping to it"
   ]
  },
  {
   "cell_type": "code",
   "execution_count": 63,
   "metadata": {},
   "outputs": [],
   "source": [
    "stop = EarlyStopping(monitor='val_loss',mode='min',patience=20,verbose=1)"
   ]
  },
  {
   "cell_type": "code",
   "execution_count": 79,
   "metadata": {},
   "outputs": [],
   "source": [
    "model2 = Sequential()\n",
    "\n",
    "model2.add(Dense(7,activation = 'relu'))\n",
    "\n",
    "model2.add(Dense(7,activation = 'relu'))\n",
    "\n",
    "model2.add(Dense(7,activation = 'relu'))\n",
    "\n",
    "model2.add(Dense(7,activation = 'relu'))\n",
    "\n",
    "model2.add(Dense(1,activation = 'relu'))\n",
    "#this is the final layer and has one nueron as we are only getting output here\n",
    "\n",
    "model2.compile(optimizer = 'adam', loss = 'mse')"
   ]
  },
  {
   "cell_type": "code",
   "execution_count": 80,
   "metadata": {},
   "outputs": [
    {
     "name": "stdout",
     "output_type": "stream",
     "text": [
      "Epoch 1/100\n",
      "WARNING:tensorflow:Layer dense_25 is casting an input tensor from dtype float64 to the layer's dtype of float32, which is new behavior in TensorFlow 2.  The layer has dtype float32 because it's dtype defaults to floatx.\n",
      "\n",
      "If you intended to run this layer in float32, you can safely ignore this warning. If in doubt, this warning is likely only an issue if you are porting a TensorFlow 1.X model to TensorFlow 2.\n",
      "\n",
      "To change all layers to have dtype float64 by default, call `tf.keras.backend.set_floatx('float64')`. To change just this layer, pass dtype='float64' to the layer constructor. If you are the author of this layer, you can disable autocasting by passing autocast=False to the base Layer constructor.\n",
      "\n",
      "8547/8547 [==============================] - 9s 1ms/step - loss: 33247246.0000 - val_loss: 10057121.0000\n",
      "Epoch 2/100\n",
      "8547/8547 [==============================] - 8s 890us/step - loss: 33207554.0000 - val_loss: 10056806.0000\n",
      "Epoch 3/100\n",
      "8547/8547 [==============================] - 9s 1ms/step - loss: 33207330.0000 - val_loss: 10057375.0000\n",
      "Epoch 4/100\n",
      "8547/8547 [==============================] - 11s 1ms/step - loss: 33207564.0000 - val_loss: 10057848.0000\n",
      "Epoch 5/100\n",
      "8547/8547 [==============================] - 8s 975us/step - loss: 33207036.0000 - val_loss: 10056945.0000\n",
      "Epoch 6/100\n",
      "8547/8547 [==============================] - 9s 1ms/step - loss: 33207312.0000 - val_loss: 10056900.0000\n",
      "Epoch 7/100\n",
      "8547/8547 [==============================] - 8s 911us/step - loss: 33206778.0000 - val_loss: 10057596.0000\n",
      "Epoch 8/100\n",
      "8547/8547 [==============================] - 8s 922us/step - loss: 33207136.0000 - val_loss: 10056973.0000\n",
      "Epoch 9/100\n",
      "8547/8547 [==============================] - 8s 909us/step - loss: 33207584.0000 - val_loss: 10056764.0000\n",
      "Epoch 10/100\n",
      "8547/8547 [==============================] - 8s 934us/step - loss: 33207346.0000 - val_loss: 10057424.0000\n",
      "Epoch 11/100\n",
      "8547/8547 [==============================] - 9s 1ms/step - loss: 33206998.0000 - val_loss: 10057566.0000\n",
      "Epoch 12/100\n",
      "8547/8547 [==============================] - 9s 1ms/step - loss: 33207480.0000 - val_loss: 10062695.0000\n",
      "Epoch 13/100\n",
      "8547/8547 [==============================] - 8s 930us/step - loss: 33207234.0000 - val_loss: 10056774.0000\n",
      "Epoch 14/100\n",
      "8547/8547 [==============================] - 9s 1ms/step - loss: 33207468.0000 - val_loss: 10057256.0000\n",
      "Epoch 15/100\n",
      "8547/8547 [==============================] - 8s 958us/step - loss: 33207096.0000 - val_loss: 10056817.0000\n",
      "Epoch 16/100\n",
      "8547/8547 [==============================] - 8s 903us/step - loss: 33206694.0000 - val_loss: 10057140.0000\n",
      "Epoch 17/100\n",
      "8547/8547 [==============================] - 8s 927us/step - loss: 33207186.0000 - val_loss: 10057081.0000\n",
      "Epoch 18/100\n",
      "8547/8547 [==============================] - 8s 916us/step - loss: 33207254.0000 - val_loss: 10056821.0000\n",
      "Epoch 19/100\n",
      "8547/8547 [==============================] - 8s 926us/step - loss: 33207092.0000 - val_loss: 10057198.0000\n",
      "Epoch 20/100\n",
      "8547/8547 [==============================] - 8s 908us/step - loss: 33207182.0000 - val_loss: 10057174.0000\n",
      "Epoch 21/100\n",
      "8547/8547 [==============================] - 8s 919us/step - loss: 33206986.0000 - val_loss: 10056725.0000\n",
      "Epoch 22/100\n",
      "8547/8547 [==============================] - 8s 913us/step - loss: 33207196.0000 - val_loss: 10059105.0000\n",
      "Epoch 23/100\n",
      "8547/8547 [==============================] - 8s 910us/step - loss: 33206924.0000 - val_loss: 10057746.0000\n",
      "Epoch 24/100\n",
      "8547/8547 [==============================] - 8s 920us/step - loss: 33207376.0000 - val_loss: 10056860.0000\n",
      "Epoch 25/100\n",
      "8547/8547 [==============================] - 8s 926us/step - loss: 33207108.0000 - val_loss: 10056843.0000\n",
      "Epoch 26/100\n",
      "8547/8547 [==============================] - 8s 922us/step - loss: 33207120.0000 - val_loss: 10056676.0000\n",
      "Epoch 27/100\n",
      "8547/8547 [==============================] - 8s 913us/step - loss: 33207330.0000 - val_loss: 10056790.0000\n",
      "Epoch 28/100\n",
      "8547/8547 [==============================] - 8s 917us/step - loss: 33207232.0000 - val_loss: 10056696.0000\n",
      "Epoch 29/100\n",
      "8547/8547 [==============================] - 8s 912us/step - loss: 33207046.0000 - val_loss: 10057030.0000\n",
      "Epoch 30/100\n",
      "8547/8547 [==============================] - 8s 910us/step - loss: 33206866.0000 - val_loss: 10058880.0000\n",
      "Epoch 31/100\n",
      "8547/8547 [==============================] - 8s 984us/step - loss: 33207128.0000 - val_loss: 10057436.0000\n",
      "Epoch 32/100\n",
      "8547/8547 [==============================] - 9s 1ms/step - loss: 33207300.0000 - val_loss: 10057356.0000\n",
      "Epoch 33/100\n",
      "8547/8547 [==============================] - 8s 926us/step - loss: 33206916.0000 - val_loss: 10056764.0000\n",
      "Epoch 34/100\n",
      "8547/8547 [==============================] - 8s 954us/step - loss: 33207212.0000 - val_loss: 10057289.0000\n",
      "Epoch 35/100\n",
      "8547/8547 [==============================] - 8s 940us/step - loss: 33207044.0000 - val_loss: 10056590.0000\n",
      "Epoch 36/100\n",
      "8547/8547 [==============================] - 8s 921us/step - loss: 33207082.0000 - val_loss: 10056666.0000\n",
      "Epoch 37/100\n",
      "8547/8547 [==============================] - 9s 1ms/step - loss: 33207128.0000 - val_loss: 10056724.0000\n",
      "Epoch 38/100\n",
      "8547/8547 [==============================] - 8s 927us/step - loss: 33206770.0000 - val_loss: 10057462.0000\n",
      "Epoch 39/100\n",
      "8547/8547 [==============================] - 8s 913us/step - loss: 33207036.0000 - val_loss: 10056694.0000\n",
      "Epoch 40/100\n",
      "8547/8547 [==============================] - 8s 916us/step - loss: 33206828.0000 - val_loss: 10056845.0000\n",
      "Epoch 41/100\n",
      "8547/8547 [==============================] - 8s 918us/step - loss: 33206916.0000 - val_loss: 10057337.0000\n",
      "Epoch 42/100\n",
      "8547/8547 [==============================] - 8s 920us/step - loss: 33206886.0000 - val_loss: 10056506.0000\n",
      "Epoch 43/100\n",
      "8547/8547 [==============================] - 8s 916us/step - loss: 33206764.0000 - val_loss: 10056782.0000\n",
      "Epoch 44/100\n",
      "8547/8547 [==============================] - 8s 923us/step - loss: 33206932.0000 - val_loss: 10057292.0000\n",
      "Epoch 45/100\n",
      "8547/8547 [==============================] - 8s 911us/step - loss: 33207182.0000 - val_loss: 10056453.0000\n",
      "Epoch 46/100\n",
      "8547/8547 [==============================] - 8s 917us/step - loss: 33206764.0000 - val_loss: 10058406.0000\n",
      "Epoch 47/100\n",
      "8547/8547 [==============================] - 8s 959us/step - loss: 33206994.0000 - val_loss: 10057733.0000\n",
      "Epoch 48/100\n",
      "8547/8547 [==============================] - 10s 1ms/step - loss: 33206768.0000 - val_loss: 10056683.0000\n",
      "Epoch 49/100\n",
      "8547/8547 [==============================] - 9s 1ms/step - loss: 33206640.0000 - val_loss: 10057341.0000\n",
      "Epoch 50/100\n",
      "8547/8547 [==============================] - 9s 1ms/step - loss: 33206866.0000 - val_loss: 10068099.0000\n",
      "Epoch 51/100\n",
      "8547/8547 [==============================] - 9s 1ms/step - loss: 33206856.0000 - val_loss: 10056257.0000\n",
      "Epoch 52/100\n",
      "8547/8547 [==============================] - 9s 1ms/step - loss: 33206568.0000 - val_loss: 10056820.0000\n",
      "Epoch 53/100\n",
      "8547/8547 [==============================] - 9s 1ms/step - loss: 33206632.0000 - val_loss: 10057040.0000\n",
      "Epoch 54/100\n",
      "8547/8547 [==============================] - 9s 1ms/step - loss: 33206564.0000 - val_loss: 10056320.0000\n",
      "Epoch 55/100\n",
      "8547/8547 [==============================] - 8s 970us/step - loss: 33206426.0000 - val_loss: 10057726.0000\n",
      "Epoch 56/100\n",
      "8547/8547 [==============================] - 8s 927us/step - loss: 33206710.0000 - val_loss: 10056221.0000\n",
      "Epoch 57/100\n",
      "8547/8547 [==============================] - 8s 928us/step - loss: 33206464.0000 - val_loss: 10056627.0000\n",
      "Epoch 58/100\n",
      "8547/8547 [==============================] - 8s 915us/step - loss: 33206836.0000 - val_loss: 10056768.0000\n",
      "Epoch 59/100\n",
      "8547/8547 [==============================] - 8s 913us/step - loss: 33206590.0000 - val_loss: 10056340.0000\n",
      "Epoch 60/100\n",
      "8547/8547 [==============================] - 8s 917us/step - loss: 33206226.0000 - val_loss: 10056062.0000\n",
      "Epoch 61/100\n",
      "8547/8547 [==============================] - 8s 917us/step - loss: 33206590.0000 - val_loss: 10057221.0000\n",
      "Epoch 62/100\n",
      "8547/8547 [==============================] - 8s 928us/step - loss: 33206602.0000 - val_loss: 10056476.0000\n",
      "Epoch 63/100\n"
     ]
    },
    {
     "name": "stdout",
     "output_type": "stream",
     "text": [
      "8547/8547 [==============================] - 8s 896us/step - loss: 33206672.0000 - val_loss: 10056359.0000\n",
      "Epoch 64/100\n",
      "8547/8547 [==============================] - 8s 900us/step - loss: 33206368.0000 - val_loss: 10056034.0000\n",
      "Epoch 65/100\n",
      "8547/8547 [==============================] - 8s 891us/step - loss: 33206388.0000 - val_loss: 10057663.0000\n",
      "Epoch 66/100\n",
      "8547/8547 [==============================] - 8s 896us/step - loss: 33206456.0000 - val_loss: 10061105.0000\n",
      "Epoch 67/100\n",
      "8547/8547 [==============================] - 8s 891us/step - loss: 33206442.0000 - val_loss: 10056095.0000\n",
      "Epoch 68/100\n",
      "8547/8547 [==============================] - 8s 895us/step - loss: 33206402.0000 - val_loss: 10056093.0000\n",
      "Epoch 69/100\n",
      "8547/8547 [==============================] - 8s 895us/step - loss: 33206170.0000 - val_loss: 10056539.0000\n",
      "Epoch 70/100\n",
      "8547/8547 [==============================] - 8s 911us/step - loss: 33206314.0000 - val_loss: 10056630.0000\n",
      "Epoch 71/100\n",
      "8547/8547 [==============================] - 8s 926us/step - loss: 33206230.0000 - val_loss: 10056446.0000\n",
      "Epoch 72/100\n",
      "8547/8547 [==============================] - 8s 978us/step - loss: 33205984.0000 - val_loss: 10058338.0000\n",
      "Epoch 73/100\n",
      "8547/8547 [==============================] - 8s 943us/step - loss: 33205954.0000 - val_loss: 10056764.0000\n",
      "Epoch 74/100\n",
      "8547/8547 [==============================] - 9s 1ms/step - loss: 33206350.0000 - val_loss: 10056379.0000\n",
      "Epoch 75/100\n",
      "8547/8547 [==============================] - 8s 947us/step - loss: 33206488.0000 - val_loss: 10056933.0000\n",
      "Epoch 76/100\n",
      "8547/8547 [==============================] - 8s 973us/step - loss: 33206272.0000 - val_loss: 10055943.0000\n",
      "Epoch 77/100\n",
      "8547/8547 [==============================] - 8s 990us/step - loss: 33206222.0000 - val_loss: 10055999.0000\n",
      "Epoch 78/100\n",
      "8547/8547 [==============================] - 8s 935us/step - loss: 33206138.0000 - val_loss: 10055799.0000\n",
      "Epoch 79/100\n",
      "8547/8547 [==============================] - 8s 986us/step - loss: 33206418.0000 - val_loss: 10057733.0000\n",
      "Epoch 80/100\n",
      "8547/8547 [==============================] - 9s 1ms/step - loss: 33205988.0000 - val_loss: 10056435.0000\n",
      "Epoch 81/100\n",
      "8547/8547 [==============================] - 9s 1ms/step - loss: 33206200.0000 - val_loss: 10055904.0000\n",
      "Epoch 82/100\n",
      "8547/8547 [==============================] - 8s 958us/step - loss: 33206170.0000 - val_loss: 10056620.0000\n",
      "Epoch 83/100\n",
      "8547/8547 [==============================] - 8s 897us/step - loss: 33206288.0000 - val_loss: 10056001.0000\n",
      "Epoch 84/100\n",
      "8547/8547 [==============================] - 8s 902us/step - loss: 33206254.0000 - val_loss: 10057911.0000\n",
      "Epoch 85/100\n",
      "8547/8547 [==============================] - 8s 894us/step - loss: 33205778.0000 - val_loss: 10057410.0000\n",
      "Epoch 86/100\n",
      "8547/8547 [==============================] - 8s 891us/step - loss: 33205812.0000 - val_loss: 10055933.0000\n",
      "Epoch 87/100\n",
      "8547/8547 [==============================] - 8s 890us/step - loss: 33206008.0000 - val_loss: 10056657.0000\n",
      "Epoch 88/100\n",
      "8547/8547 [==============================] - 8s 888us/step - loss: 33205982.0000 - val_loss: 10059460.0000\n",
      "Epoch 89/100\n",
      "8547/8547 [==============================] - 8s 889us/step - loss: 33206276.0000 - val_loss: 10056583.0000\n",
      "Epoch 90/100\n",
      "8547/8547 [==============================] - 8s 893us/step - loss: 33205870.0000 - val_loss: 10056612.0000\n",
      "Epoch 91/100\n",
      "8547/8547 [==============================] - 8s 891us/step - loss: 33206074.0000 - val_loss: 10055814.0000\n",
      "Epoch 92/100\n",
      "8547/8547 [==============================] - 9s 1ms/step - loss: 33206038.0000 - val_loss: 10056042.0000\n",
      "Epoch 93/100\n",
      "8547/8547 [==============================] - 9s 1ms/step - loss: 33205862.0000 - val_loss: 10055982.0000\n",
      "Epoch 94/100\n",
      "8547/8547 [==============================] - 8s 928us/step - loss: 33205556.0000 - val_loss: 10055764.0000\n",
      "Epoch 95/100\n",
      "8547/8547 [==============================] - 8s 920us/step - loss: 33205886.0000 - val_loss: 10055459.0000\n",
      "Epoch 96/100\n",
      "8547/8547 [==============================] - 8s 918us/step - loss: 33206112.0000 - val_loss: 10056487.0000\n",
      "Epoch 97/100\n",
      "8547/8547 [==============================] - 8s 915us/step - loss: 33206172.0000 - val_loss: 10055340.0000\n",
      "Epoch 98/100\n",
      "8547/8547 [==============================] - 8s 916us/step - loss: 33206180.0000 - val_loss: 10055916.0000\n",
      "Epoch 99/100\n",
      "8547/8547 [==============================] - 9s 1ms/step - loss: 33205644.0000 - val_loss: 10055394.0000\n",
      "Epoch 100/100\n",
      "8547/8547 [==============================] - 8s 967us/step - loss: 33205920.0000 - val_loss: 10056703.0000\n"
     ]
    },
    {
     "data": {
      "text/plain": [
       "<tensorflow.python.keras.callbacks.History at 0x7fc8abebb310>"
      ]
     },
     "execution_count": 80,
     "metadata": {},
     "output_type": "execute_result"
    }
   ],
   "source": [
    "model2.fit(x=X_train,\n",
    "          y=y_train,\n",
    "          validation_split=.25,\n",
    "          epochs = 100,\n",
    "          batch_size=128,\n",
    "          shuffle = True ,\n",
    "          verbose = 1,\n",
    "          callbacks=[stop])"
   ]
  },
  {
   "cell_type": "code",
   "execution_count": 89,
   "metadata": {},
   "outputs": [
    {
     "name": "stdout",
     "output_type": "stream",
     "text": [
      "Model: \"sequential_5\"\n",
      "_________________________________________________________________\n",
      "Layer (type)                 Output Shape              Param #   \n",
      "=================================================================\n",
      "dense_25 (Dense)             multiple                  56        \n",
      "_________________________________________________________________\n",
      "dense_26 (Dense)             multiple                  56        \n",
      "_________________________________________________________________\n",
      "dense_27 (Dense)             multiple                  56        \n",
      "_________________________________________________________________\n",
      "dense_28 (Dense)             multiple                  56        \n",
      "_________________________________________________________________\n",
      "dense_29 (Dense)             multiple                  8         \n",
      "=================================================================\n",
      "Total params: 232\n",
      "Trainable params: 232\n",
      "Non-trainable params: 0\n",
      "_________________________________________________________________\n"
     ]
    }
   ],
   "source": [
    "model2.summary()"
   ]
  },
  {
   "cell_type": "code",
   "execution_count": 81,
   "metadata": {},
   "outputs": [],
   "source": [
    "loss1 = pd.DataFrame(model2.history.history)"
   ]
  },
  {
   "cell_type": "code",
   "execution_count": 82,
   "metadata": {},
   "outputs": [
    {
     "data": {
      "text/plain": [
       "<matplotlib.axes._subplots.AxesSubplot at 0x7fc8c13c8410>"
      ]
     },
     "execution_count": 82,
     "metadata": {},
     "output_type": "execute_result"
    },
    {
     "data": {
      "image/png": "[encoded data removed]",
      "text/plain": [
       "<Figure size 432x288 with 1 Axes>"
      ]
     },
     "metadata": {
      "needs_background": "light"
     },
     "output_type": "display_data"
    }
   ],
   "source": [
    "loss1.plot()"
   ]
  },
  {
   "cell_type": "markdown",
   "metadata": {},
   "source": [
    "# Model is still underfitting as val_loss <<<< loss"
   ]
  },
  {
   "cell_type": "code",
   "execution_count": 83,
   "metadata": {},
   "outputs": [],
   "source": [
    "prediction1 = model2.predict(X_test)"
   ]
  },
  {
   "cell_type": "code",
   "execution_count": 84,
   "metadata": {},
   "outputs": [],
   "source": [
    "Result2 = pd.DataFrame(prediction1,T['id'],columns=['trip_duration'])"
   ]
  },
  {
   "cell_type": "code",
   "execution_count": 85,
   "metadata": {},
   "outputs": [],
   "source": [
    "Result2.to_csv('Result2')"
   ]
  },
  {
   "cell_type": "code",
   "execution_count": 92,
   "metadata": {},
   "outputs": [
    {
     "data": {
      "text/plain": [
       "990.4364"
      ]
     },
     "execution_count": 92,
     "metadata": {},
     "output_type": "execute_result"
    }
   ],
   "source": [
    "prediction1.mean()"
   ]
  },
  {
   "cell_type": "code",
   "execution_count": 93,
   "metadata": {},
   "outputs": [
    {
     "data": {
      "text/plain": [
       "864.3189"
      ]
     },
     "execution_count": 93,
     "metadata": {},
     "output_type": "execute_result"
    }
   ],
   "source": [
    "prediction.mean()"
   ]
  },
  {
   "cell_type": "markdown",
   "metadata": {},
   "source": [
    "# Comparing both the predictions it looks like model2 performed better than model 1 but still not good"
   ]
  },
  {
   "cell_type": "code",
   "execution_count": 98,
   "metadata": {},
   "outputs": [],
   "source": [
    "Comparison = pd.concat([Result,Result2],axis=1)"
   ]
  },
  {
   "cell_type": "code",
   "execution_count": 99,
   "metadata": {},
   "outputs": [
    {
     "data": {
      "text/html": [
       "<div>\n",
       "<style scoped>\n",
       "    .dataframe tbody tr th:only-of-type {\n",
       "        vertical-align: middle;\n",
       "    }\n",
       "\n",
       "    .dataframe tbody tr th {\n",
       "        vertical-align: top;\n",
       "    }\n",
       "\n",
       "    .dataframe thead th {\n",
       "        text-align: right;\n",
       "    }\n",
       "</style>\n",
       "<table border=\"1\" class=\"dataframe\">\n",
       "  <thead>\n",
       "    <tr style=\"text-align: right;\">\n",
       "      <th></th>\n",
       "      <th>trip_duration</th>\n",
       "      <th>trip_duration</th>\n",
       "    </tr>\n",
       "    <tr>\n",
       "      <th>id</th>\n",
       "      <th></th>\n",
       "      <th></th>\n",
       "    </tr>\n",
       "  </thead>\n",
       "  <tbody>\n",
       "    <tr>\n",
       "      <th>id3004672</th>\n",
       "      <td>795.021484</td>\n",
       "      <td>844.377319</td>\n",
       "    </tr>\n",
       "    <tr>\n",
       "      <th>id3505355</th>\n",
       "      <td>794.515991</td>\n",
       "      <td>850.621094</td>\n",
       "    </tr>\n",
       "    <tr>\n",
       "      <th>id1217141</th>\n",
       "      <td>794.962708</td>\n",
       "      <td>845.283020</td>\n",
       "    </tr>\n",
       "    <tr>\n",
       "      <th>id2150126</th>\n",
       "      <td>922.432739</td>\n",
       "      <td>1102.600098</td>\n",
       "    </tr>\n",
       "    <tr>\n",
       "      <th>id1598245</th>\n",
       "      <td>795.117859</td>\n",
       "      <td>844.040955</td>\n",
       "    </tr>\n",
       "    <tr>\n",
       "      <th>...</th>\n",
       "      <td>...</td>\n",
       "      <td>...</td>\n",
       "    </tr>\n",
       "    <tr>\n",
       "      <th>id3008929</th>\n",
       "      <td>794.931396</td>\n",
       "      <td>845.249146</td>\n",
       "    </tr>\n",
       "    <tr>\n",
       "      <th>id3700764</th>\n",
       "      <td>795.174072</td>\n",
       "      <td>843.277832</td>\n",
       "    </tr>\n",
       "    <tr>\n",
       "      <th>id2568735</th>\n",
       "      <td>783.262329</td>\n",
       "      <td>894.501953</td>\n",
       "    </tr>\n",
       "    <tr>\n",
       "      <th>id1384355</th>\n",
       "      <td>795.509094</td>\n",
       "      <td>840.630737</td>\n",
       "    </tr>\n",
       "    <tr>\n",
       "      <th>id0621643</th>\n",
       "      <td>923.447266</td>\n",
       "      <td>1103.748413</td>\n",
       "    </tr>\n",
       "  </tbody>\n",
       "</table>\n",
       "<p>625134 rows × 2 columns</p>\n",
       "</div>"
      ],
      "text/plain": [
       "           trip_duration  trip_duration\n",
       "id                                     \n",
       "id3004672     795.021484     844.377319\n",
       "id3505355     794.515991     850.621094\n",
       "id1217141     794.962708     845.283020\n",
       "id2150126     922.432739    1102.600098\n",
       "id1598245     795.117859     844.040955\n",
       "...                  ...            ...\n",
       "id3008929     794.931396     845.249146\n",
       "id3700764     795.174072     843.277832\n",
       "id2568735     783.262329     894.501953\n",
       "id1384355     795.509094     840.630737\n",
       "id0621643     923.447266    1103.748413\n",
       "\n",
       "[625134 rows x 2 columns]"
      ]
     },
     "execution_count": 99,
     "metadata": {},
     "output_type": "execute_result"
    }
   ],
   "source": [
    "Comparison"
   ]
  },
  {
   "cell_type": "markdown",
   "metadata": {},
   "source": [
    "# Changing our loss for under optimizer to MeanSquareLogError to kill underfitting and overfitting"
   ]
  },
  {
   "cell_type": "code",
   "execution_count": 256,
   "metadata": {},
   "outputs": [],
   "source": [
    "model3 = Sequential()\n",
    "\n",
    "model3.add(Dense(14,activation = 'relu'))\n",
    "model3.add(Dropout(.5))\n",
    "\n",
    "model3.add(Dense(14,activation = 'relu'))\n",
    "model3.add(Dropout(.5))\n",
    "\n",
    "model3.add(Dense(14,activation = 'relu'))\n",
    "model3.add(Dropout(.5))\n",
    "\n",
    "model3.add(Dense(14,activation = 'relu'))\n",
    "model3.add(Dropout(.5))\n",
    "\n",
    "model3.add(Dense(1,activation = 'relu'))\n",
    "#this is the final layer and has one nueron as we are only getting output here\n",
    "\n",
    "model3.compile(optimizer = 'adam', loss = 'msle')"
   ]
  },
  {
   "cell_type": "code",
   "execution_count": 257,
   "metadata": {},
   "outputs": [
    {
     "name": "stdout",
     "output_type": "stream",
     "text": [
      "Epoch 1/50\n",
      "WARNING:tensorflow:Layer dense_272 is casting an input tensor from dtype float64 to the layer's dtype of float32, which is new behavior in TensorFlow 2.  The layer has dtype float32 because it's dtype defaults to floatx.\n",
      "\n",
      "If you intended to run this layer in float32, you can safely ignore this warning. If in doubt, this warning is likely only an issue if you are porting a TensorFlow 1.X model to TensorFlow 2.\n",
      "\n",
      "To change all layers to have dtype float64 by default, call `tf.keras.backend.set_floatx('float64')`. To change just this layer, pass dtype='float64' to the layer constructor. If you are the author of this layer, you can disable autocasting by passing autocast=False to the base Layer constructor.\n",
      "\n",
      "13128/13128 [==============================] - 13s 992us/step - loss: 1.7009 - val_loss: 0.6432\n",
      "Epoch 2/50\n",
      "13128/13128 [==============================] - 13s 1ms/step - loss: 0.8347 - val_loss: 0.6402\n",
      "Epoch 3/50\n",
      "13128/13128 [==============================] - 14s 1ms/step - loss: 0.7637 - val_loss: 0.6367\n",
      "Epoch 4/50\n",
      "13128/13128 [==============================] - 13s 1ms/step - loss: 0.7396 - val_loss: 0.6385\n",
      "Epoch 5/50\n",
      "13128/13128 [==============================] - 13s 1ms/step - loss: 0.7328 - val_loss: 0.6361\n",
      "Epoch 6/50\n",
      "13128/13128 [==============================] - 15s 1ms/step - loss: 0.7282 - val_loss: 0.6362\n",
      "Epoch 7/50\n",
      "13128/13128 [==============================] - 17s 1ms/step - loss: 0.7245 - val_loss: 0.6359\n",
      "Epoch 8/50\n",
      "13128/13128 [==============================] - 14s 1ms/step - loss: 0.7209 - val_loss: 0.6360\n",
      "Epoch 9/50\n",
      "13128/13128 [==============================] - 13s 1ms/step - loss: 0.7167 - val_loss: 0.6360\n",
      "Epoch 10/50\n",
      "13128/13128 [==============================] - 13s 993us/step - loss: 0.7129 - val_loss: 0.6356\n",
      "Epoch 11/50\n",
      "13128/13128 [==============================] - 13s 1ms/step - loss: 0.7096 - val_loss: 0.6352\n",
      "Epoch 12/50\n",
      "13128/13128 [==============================] - 13s 1ms/step - loss: 0.7070 - val_loss: 0.6352\n",
      "Epoch 13/50\n",
      "13128/13128 [==============================] - 13s 1ms/step - loss: 0.7028 - val_loss: 0.6352\n",
      "Epoch 14/50\n",
      "13128/13128 [==============================] - 13s 1ms/step - loss: 0.7006 - val_loss: 0.6351\n",
      "Epoch 15/50\n",
      "13128/13128 [==============================] - 13s 1ms/step - loss: 0.6979 - val_loss: 0.6350\n",
      "Epoch 16/50\n",
      "13128/13128 [==============================] - 13s 1ms/step - loss: 0.6949 - val_loss: 0.6349\n",
      "Epoch 17/50\n",
      "13128/13128 [==============================] - 13s 1ms/step - loss: 0.6927 - val_loss: 0.6350\n",
      "Epoch 18/50\n",
      "13128/13128 [==============================] - 13s 999us/step - loss: 0.6901 - val_loss: 0.6349\n",
      "Epoch 19/50\n",
      "13128/13128 [==============================] - 13s 998us/step - loss: 0.6877 - val_loss: 0.6352\n",
      "Epoch 20/50\n",
      "13128/13128 [==============================] - 13s 1ms/step - loss: 0.6850 - val_loss: 0.6348\n",
      "Epoch 21/50\n",
      "13128/13128 [==============================] - 13s 1ms/step - loss: 0.6832 - val_loss: 0.6349\n",
      "Epoch 22/50\n",
      "13128/13128 [==============================] - 13s 1ms/step - loss: 0.6811 - val_loss: 0.6348\n",
      "Epoch 23/50\n",
      "13128/13128 [==============================] - 13s 1ms/step - loss: 0.6791 - val_loss: 0.6349\n",
      "Epoch 24/50\n",
      "13128/13128 [==============================] - 14s 1ms/step - loss: 0.6765 - val_loss: 0.6348\n",
      "Epoch 25/50\n",
      "13128/13128 [==============================] - 14s 1ms/step - loss: 0.6755 - val_loss: 0.6358\n",
      "Epoch 26/50\n",
      "13128/13128 [==============================] - 15s 1ms/step - loss: 0.6743 - val_loss: 0.6357\n",
      "Epoch 27/50\n",
      "13128/13128 [==============================] - 13s 998us/step - loss: 0.6722 - val_loss: 0.6351\n",
      "Epoch 28/50\n",
      "13128/13128 [==============================] - 13s 1ms/step - loss: 0.6701 - val_loss: 0.6348\n",
      "Epoch 29/50\n",
      "13128/13128 [==============================] - 13s 999us/step - loss: 0.6692 - val_loss: 0.6347\n",
      "Epoch 30/50\n",
      "13128/13128 [==============================] - 14s 1ms/step - loss: 0.6672 - val_loss: 0.6349\n",
      "Epoch 31/50\n",
      "13128/13128 [==============================] - 14s 1ms/step - loss: 0.6655 - val_loss: 0.6352\n",
      "Epoch 32/50\n",
      "13128/13128 [==============================] - 14s 1ms/step - loss: 0.6642 - val_loss: 0.6349\n",
      "Epoch 33/50\n",
      "13128/13128 [==============================] - 13s 1ms/step - loss: 0.6634 - val_loss: 0.6348\n",
      "Epoch 34/50\n",
      "13128/13128 [==============================] - 14s 1ms/step - loss: 0.6620 - val_loss: 0.6349\n",
      "Epoch 35/50\n",
      "13128/13128 [==============================] - 14s 1ms/step - loss: 0.6609 - val_loss: 0.6351\n",
      "Epoch 36/50\n",
      "13128/13128 [==============================] - 14s 1ms/step - loss: 0.6594 - val_loss: 0.6353\n",
      "Epoch 37/50\n",
      "13128/13128 [==============================] - 13s 1ms/step - loss: 0.6585 - val_loss: 0.6360\n",
      "Epoch 38/50\n",
      "13128/13128 [==============================] - 13s 1ms/step - loss: 0.6576 - val_loss: 0.6360\n",
      "Epoch 39/50\n",
      "13128/13128 [==============================] - 13s 1ms/step - loss: 0.6569 - val_loss: 0.6360\n",
      "Epoch 40/50\n",
      "13128/13128 [==============================] - 14s 1ms/step - loss: 0.6554 - val_loss: 0.6360\n",
      "Epoch 41/50\n",
      "13128/13128 [==============================] - 15s 1ms/step - loss: 0.6548 - val_loss: 0.6361\n",
      "Epoch 42/50\n",
      "13128/13128 [==============================] - 13s 1ms/step - loss: 0.6536 - val_loss: 0.6360\n",
      "Epoch 43/50\n",
      "13128/13128 [==============================] - 13s 1ms/step - loss: 0.6532 - val_loss: 0.6360\n",
      "Epoch 44/50\n",
      "13128/13128 [==============================] - 13s 1ms/step - loss: 0.6519 - val_loss: 0.6362\n",
      "Epoch 45/50\n",
      "13128/13128 [==============================] - 13s 1ms/step - loss: 0.6509 - val_loss: 0.6361\n",
      "Epoch 46/50\n",
      "13128/13128 [==============================] - 13s 1ms/step - loss: 0.6508 - val_loss: 0.6361\n",
      "Epoch 47/50\n",
      "13128/13128 [==============================] - 13s 1ms/step - loss: 0.6497 - val_loss: 0.6361\n",
      "Epoch 48/50\n",
      "13128/13128 [==============================] - 15s 1ms/step - loss: 0.6490 - val_loss: 0.6363\n",
      "Epoch 49/50\n",
      "13128/13128 [==============================] - 14s 1ms/step - loss: 0.6487 - val_loss: 0.6361\n",
      "Epoch 00049: early stopping\n"
     ]
    },
    {
     "data": {
      "text/plain": [
       "<tensorflow.python.keras.callbacks.History at 0x7fc84b086c10>"
      ]
     },
     "execution_count": 257,
     "metadata": {},
     "output_type": "execute_result"
    }
   ],
   "source": [
    "model3.fit(x=X_train,\n",
    "          y=y_train,\n",
    "          validation_split= .1,\n",
    "          epochs = 50,\n",
    "          batch_size = 100,\n",
    "          verbose = 1,\n",
    "          callbacks=[stop])"
   ]
  },
  {
   "cell_type": "code",
   "execution_count": 258,
   "metadata": {},
   "outputs": [],
   "source": [
    "loss3=pd.DataFrame(model3.history.history)\n"
   ]
  },
  {
   "cell_type": "code",
   "execution_count": 263,
   "metadata": {},
   "outputs": [
    {
     "data": {
      "text/plain": [
       "<matplotlib.axes._subplots.AxesSubplot at 0x7fc7169e4fd0>"
      ]
     },
     "execution_count": 263,
     "metadata": {},
     "output_type": "execute_result"
    },
    {
     "data": {
      "image/png": "[encoded data removed]",
      "text/plain": [
       "<Figure size 864x432 with 1 Axes>"
      ]
     },
     "metadata": {
      "needs_background": "light"
     },
     "output_type": "display_data"
    }
   ],
   "source": [
    "\n",
    "loss3.plot(figsize=(12,6))"
   ]
  },
  {
   "cell_type": "markdown",
   "metadata": {},
   "source": [
    "# The graph clearly shows we have no under or over fitting"
   ]
  },
  {
   "cell_type": "code",
   "execution_count": 264,
   "metadata": {},
   "outputs": [],
   "source": [
    "Result = model3.predict(X_test)"
   ]
  },
  {
   "cell_type": "code",
   "execution_count": 265,
   "metadata": {},
   "outputs": [
    {
     "data": {
      "text/plain": [
       "633.4265"
      ]
     },
     "execution_count": 265,
     "metadata": {},
     "output_type": "execute_result"
    }
   ],
   "source": [
    "Result.mean()"
   ]
  },
  {
   "cell_type": "markdown",
   "metadata": {},
   "source": [
    "# Exporting result to a csv file"
   ]
  },
  {
   "cell_type": "code",
   "execution_count": 266,
   "metadata": {},
   "outputs": [],
   "source": [
    "R = pd.DataFrame(Result,T['id'],columns=['trip_duration'])"
   ]
  },
  {
   "cell_type": "code",
   "execution_count": 267,
   "metadata": {},
   "outputs": [],
   "source": [
    "R.to_csv('Result2')"
   ]
  }
 ],
 "metadata": {
  "kernelspec": {
   "display_name": "Python 3",
   "language": "python",
   "name": "python3"
  },
  "language_info": {
   "codemirror_mode": {
    "name": "ipython",
    "version": 3
   },
   "file_extension": ".py",
   "mimetype": "text/x-python",
   "name": "python",
   "nbconvert_exporter": "python",
   "pygments_lexer": "ipython3",
   "version": "3.7.6"
  }
 },
 "nbformat": 4,
 "nbformat_minor": 4
}
