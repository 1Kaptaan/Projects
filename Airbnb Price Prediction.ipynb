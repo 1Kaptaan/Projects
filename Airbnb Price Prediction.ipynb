{
 "cells": [
  {
   "cell_type": "markdown",
   "metadata": {},
   "source": [
    "# Predict U.S. Airbnb Prices\n",
    "# We will use 226,029 Airbnb listings to build a model to predict the Airbnd prices"
   ]
  },
  {
   "cell_type": "markdown",
   "metadata": {},
   "source": [
    "# First we start by importing our libraries and then importing our data using PANDAS."
   ]
  },
  {
   "cell_type": "code",
   "execution_count": 2,
   "metadata": {},
   "outputs": [],
   "source": [
    "import numpy as np\n",
    "import seaborn as sns\n",
    "import matplotlib.pyplot as plt\n",
    "import pandas as pd\n",
    "%matplotlib inline"
   ]
  },
  {
   "cell_type": "code",
   "execution_count": 4,
   "metadata": {},
   "outputs": [
    {
     "name": "stderr",
     "output_type": "stream",
     "text": [
      "/Users/1kaptaan/opt/anaconda3/lib/python3.7/site-packages/IPython/core/interactiveshell.py:3063: DtypeWarning: Columns (4) have mixed types.Specify dtype option on import or set low_memory=False.\n",
      "  interactivity=interactivity, compiler=compiler, result=result)\n"
     ]
    }
   ],
   "source": [
    "df = pd.read_csv('AB_US_2020.csv')"
   ]
  },
  {
   "cell_type": "markdown",
   "metadata": {},
   "source": [
    "# Now we will look at the data head, description, Information and then look at the columns we are working with."
   ]
  },
  {
   "cell_type": "code",
   "execution_count": 5,
   "metadata": {},
   "outputs": [
    {
     "data": {
      "text/html": [
       "<div>\n",
       "<style scoped>\n",
       "    .dataframe tbody tr th:only-of-type {\n",
       "        vertical-align: middle;\n",
       "    }\n",
       "\n",
       "    .dataframe tbody tr th {\n",
       "        vertical-align: top;\n",
       "    }\n",
       "\n",
       "    .dataframe thead th {\n",
       "        text-align: right;\n",
       "    }\n",
       "</style>\n",
       "<table border=\"1\" class=\"dataframe\">\n",
       "  <thead>\n",
       "    <tr style=\"text-align: right;\">\n",
       "      <th></th>\n",
       "      <th>id</th>\n",
       "      <th>name</th>\n",
       "      <th>host_id</th>\n",
       "      <th>host_name</th>\n",
       "      <th>neighbourhood_group</th>\n",
       "      <th>neighbourhood</th>\n",
       "      <th>latitude</th>\n",
       "      <th>longitude</th>\n",
       "      <th>room_type</th>\n",
       "      <th>price</th>\n",
       "      <th>minimum_nights</th>\n",
       "      <th>number_of_reviews</th>\n",
       "      <th>last_review</th>\n",
       "      <th>reviews_per_month</th>\n",
       "      <th>calculated_host_listings_count</th>\n",
       "      <th>availability_365</th>\n",
       "      <th>city</th>\n",
       "    </tr>\n",
       "  </thead>\n",
       "  <tbody>\n",
       "    <tr>\n",
       "      <th>0</th>\n",
       "      <td>38585</td>\n",
       "      <td>Charming Victorian home - twin beds + breakfast</td>\n",
       "      <td>165529</td>\n",
       "      <td>Evelyne</td>\n",
       "      <td>NaN</td>\n",
       "      <td>28804</td>\n",
       "      <td>35.65146</td>\n",
       "      <td>-82.62792</td>\n",
       "      <td>Private room</td>\n",
       "      <td>60</td>\n",
       "      <td>1</td>\n",
       "      <td>138</td>\n",
       "      <td>16/02/20</td>\n",
       "      <td>1.14</td>\n",
       "      <td>1</td>\n",
       "      <td>0</td>\n",
       "      <td>Asheville</td>\n",
       "    </tr>\n",
       "    <tr>\n",
       "      <th>1</th>\n",
       "      <td>80905</td>\n",
       "      <td>French Chic Loft</td>\n",
       "      <td>427027</td>\n",
       "      <td>Celeste</td>\n",
       "      <td>NaN</td>\n",
       "      <td>28801</td>\n",
       "      <td>35.59779</td>\n",
       "      <td>-82.55540</td>\n",
       "      <td>Entire home/apt</td>\n",
       "      <td>470</td>\n",
       "      <td>1</td>\n",
       "      <td>114</td>\n",
       "      <td>07/09/20</td>\n",
       "      <td>1.03</td>\n",
       "      <td>11</td>\n",
       "      <td>288</td>\n",
       "      <td>Asheville</td>\n",
       "    </tr>\n",
       "    <tr>\n",
       "      <th>2</th>\n",
       "      <td>108061</td>\n",
       "      <td>Walk to stores/parks/downtown. Fenced yard/Pet...</td>\n",
       "      <td>320564</td>\n",
       "      <td>Lisa</td>\n",
       "      <td>NaN</td>\n",
       "      <td>28801</td>\n",
       "      <td>35.60670</td>\n",
       "      <td>-82.55563</td>\n",
       "      <td>Entire home/apt</td>\n",
       "      <td>75</td>\n",
       "      <td>30</td>\n",
       "      <td>89</td>\n",
       "      <td>30/11/19</td>\n",
       "      <td>0.81</td>\n",
       "      <td>2</td>\n",
       "      <td>298</td>\n",
       "      <td>Asheville</td>\n",
       "    </tr>\n",
       "    <tr>\n",
       "      <th>3</th>\n",
       "      <td>155305</td>\n",
       "      <td>Cottage! BonPaul + Sharky's Hostel</td>\n",
       "      <td>746673</td>\n",
       "      <td>BonPaul</td>\n",
       "      <td>NaN</td>\n",
       "      <td>28806</td>\n",
       "      <td>35.57864</td>\n",
       "      <td>-82.59578</td>\n",
       "      <td>Entire home/apt</td>\n",
       "      <td>90</td>\n",
       "      <td>1</td>\n",
       "      <td>267</td>\n",
       "      <td>22/09/20</td>\n",
       "      <td>2.39</td>\n",
       "      <td>5</td>\n",
       "      <td>0</td>\n",
       "      <td>Asheville</td>\n",
       "    </tr>\n",
       "  </tbody>\n",
       "</table>\n",
       "</div>"
      ],
      "text/plain": [
       "       id                                               name  host_id  \\\n",
       "0   38585    Charming Victorian home - twin beds + breakfast   165529   \n",
       "1   80905                                   French Chic Loft   427027   \n",
       "2  108061  Walk to stores/parks/downtown. Fenced yard/Pet...   320564   \n",
       "3  155305                 Cottage! BonPaul + Sharky's Hostel   746673   \n",
       "\n",
       "  host_name neighbourhood_group neighbourhood  latitude  longitude  \\\n",
       "0   Evelyne                 NaN         28804  35.65146  -82.62792   \n",
       "1   Celeste                 NaN         28801  35.59779  -82.55540   \n",
       "2      Lisa                 NaN         28801  35.60670  -82.55563   \n",
       "3   BonPaul                 NaN         28806  35.57864  -82.59578   \n",
       "\n",
       "         room_type  price  minimum_nights  number_of_reviews last_review  \\\n",
       "0     Private room     60               1                138    16/02/20   \n",
       "1  Entire home/apt    470               1                114    07/09/20   \n",
       "2  Entire home/apt     75              30                 89    30/11/19   \n",
       "3  Entire home/apt     90               1                267    22/09/20   \n",
       "\n",
       "   reviews_per_month  calculated_host_listings_count  availability_365  \\\n",
       "0               1.14                               1                 0   \n",
       "1               1.03                              11               288   \n",
       "2               0.81                               2               298   \n",
       "3               2.39                               5                 0   \n",
       "\n",
       "        city  \n",
       "0  Asheville  \n",
       "1  Asheville  \n",
       "2  Asheville  \n",
       "3  Asheville  "
      ]
     },
     "execution_count": 5,
     "metadata": {},
     "output_type": "execute_result"
    }
   ],
   "source": [
    "df.head(4)"
   ]
  },
  {
   "cell_type": "code",
   "execution_count": 6,
   "metadata": {},
   "outputs": [
    {
     "name": "stdout",
     "output_type": "stream",
     "text": [
      "<class 'pandas.core.frame.DataFrame'>\n",
      "RangeIndex: 226030 entries, 0 to 226029\n",
      "Data columns (total 17 columns):\n",
      " #   Column                          Non-Null Count   Dtype  \n",
      "---  ------                          --------------   -----  \n",
      " 0   id                              226030 non-null  int64  \n",
      " 1   name                            226002 non-null  object \n",
      " 2   host_id                         226030 non-null  int64  \n",
      " 3   host_name                       225997 non-null  object \n",
      " 4   neighbourhood_group             110185 non-null  object \n",
      " 5   neighbourhood                   226030 non-null  object \n",
      " 6   latitude                        226030 non-null  float64\n",
      " 7   longitude                       226030 non-null  float64\n",
      " 8   room_type                       226030 non-null  object \n",
      " 9   price                           226030 non-null  int64  \n",
      " 10  minimum_nights                  226030 non-null  int64  \n",
      " 11  number_of_reviews               226030 non-null  int64  \n",
      " 12  last_review                     177428 non-null  object \n",
      " 13  reviews_per_month               177428 non-null  float64\n",
      " 14  calculated_host_listings_count  226030 non-null  int64  \n",
      " 15  availability_365                226030 non-null  int64  \n",
      " 16  city                            226030 non-null  object \n",
      "dtypes: float64(3), int64(7), object(7)\n",
      "memory usage: 29.3+ MB\n"
     ]
    }
   ],
   "source": [
    "df.info()"
   ]
  },
  {
   "cell_type": "code",
   "execution_count": 7,
   "metadata": {},
   "outputs": [
    {
     "data": {
      "text/html": [
       "<div>\n",
       "<style scoped>\n",
       "    .dataframe tbody tr th:only-of-type {\n",
       "        vertical-align: middle;\n",
       "    }\n",
       "\n",
       "    .dataframe tbody tr th {\n",
       "        vertical-align: top;\n",
       "    }\n",
       "\n",
       "    .dataframe thead th {\n",
       "        text-align: right;\n",
       "    }\n",
       "</style>\n",
       "<table border=\"1\" class=\"dataframe\">\n",
       "  <thead>\n",
       "    <tr style=\"text-align: right;\">\n",
       "      <th></th>\n",
       "      <th>id</th>\n",
       "      <th>host_id</th>\n",
       "      <th>latitude</th>\n",
       "      <th>longitude</th>\n",
       "      <th>price</th>\n",
       "      <th>minimum_nights</th>\n",
       "      <th>number_of_reviews</th>\n",
       "      <th>reviews_per_month</th>\n",
       "      <th>calculated_host_listings_count</th>\n",
       "      <th>availability_365</th>\n",
       "    </tr>\n",
       "  </thead>\n",
       "  <tbody>\n",
       "    <tr>\n",
       "      <th>count</th>\n",
       "      <td>2.260300e+05</td>\n",
       "      <td>2.260300e+05</td>\n",
       "      <td>226030.000000</td>\n",
       "      <td>226030.000000</td>\n",
       "      <td>226030.000000</td>\n",
       "      <td>2.260300e+05</td>\n",
       "      <td>226030.000000</td>\n",
       "      <td>177428.00000</td>\n",
       "      <td>226030.000000</td>\n",
       "      <td>226030.000000</td>\n",
       "    </tr>\n",
       "    <tr>\n",
       "      <th>mean</th>\n",
       "      <td>2.547176e+07</td>\n",
       "      <td>9.352385e+07</td>\n",
       "      <td>35.662829</td>\n",
       "      <td>-103.220662</td>\n",
       "      <td>219.716529</td>\n",
       "      <td>4.525490e+02</td>\n",
       "      <td>34.506530</td>\n",
       "      <td>1.43145</td>\n",
       "      <td>16.698562</td>\n",
       "      <td>159.314856</td>\n",
       "    </tr>\n",
       "    <tr>\n",
       "      <th>std</th>\n",
       "      <td>1.317814e+07</td>\n",
       "      <td>9.827422e+07</td>\n",
       "      <td>6.849855</td>\n",
       "      <td>26.222091</td>\n",
       "      <td>570.353609</td>\n",
       "      <td>2.103376e+05</td>\n",
       "      <td>63.602914</td>\n",
       "      <td>1.68321</td>\n",
       "      <td>51.068966</td>\n",
       "      <td>140.179628</td>\n",
       "    </tr>\n",
       "    <tr>\n",
       "      <th>min</th>\n",
       "      <td>1.090000e+02</td>\n",
       "      <td>2.300000e+01</td>\n",
       "      <td>18.920990</td>\n",
       "      <td>-159.714900</td>\n",
       "      <td>0.000000</td>\n",
       "      <td>1.000000e+00</td>\n",
       "      <td>0.000000</td>\n",
       "      <td>0.01000</td>\n",
       "      <td>1.000000</td>\n",
       "      <td>0.000000</td>\n",
       "    </tr>\n",
       "    <tr>\n",
       "      <th>25%</th>\n",
       "      <td>1.515890e+07</td>\n",
       "      <td>1.399275e+07</td>\n",
       "      <td>32.761783</td>\n",
       "      <td>-118.598115</td>\n",
       "      <td>75.000000</td>\n",
       "      <td>1.000000e+00</td>\n",
       "      <td>1.000000</td>\n",
       "      <td>0.23000</td>\n",
       "      <td>1.000000</td>\n",
       "      <td>0.000000</td>\n",
       "    </tr>\n",
       "    <tr>\n",
       "      <th>50%</th>\n",
       "      <td>2.590916e+07</td>\n",
       "      <td>5.138266e+07</td>\n",
       "      <td>37.261125</td>\n",
       "      <td>-97.817200</td>\n",
       "      <td>121.000000</td>\n",
       "      <td>2.000000e+00</td>\n",
       "      <td>8.000000</td>\n",
       "      <td>0.81000</td>\n",
       "      <td>2.000000</td>\n",
       "      <td>140.000000</td>\n",
       "    </tr>\n",
       "    <tr>\n",
       "      <th>75%</th>\n",
       "      <td>3.772624e+07</td>\n",
       "      <td>1.497179e+08</td>\n",
       "      <td>40.724038</td>\n",
       "      <td>-76.919322</td>\n",
       "      <td>201.000000</td>\n",
       "      <td>7.000000e+00</td>\n",
       "      <td>39.000000</td>\n",
       "      <td>2.06000</td>\n",
       "      <td>6.000000</td>\n",
       "      <td>311.000000</td>\n",
       "    </tr>\n",
       "    <tr>\n",
       "      <th>max</th>\n",
       "      <td>4.556085e+07</td>\n",
       "      <td>3.679176e+08</td>\n",
       "      <td>47.734620</td>\n",
       "      <td>-70.995950</td>\n",
       "      <td>24999.000000</td>\n",
       "      <td>1.000000e+08</td>\n",
       "      <td>966.000000</td>\n",
       "      <td>44.06000</td>\n",
       "      <td>593.000000</td>\n",
       "      <td>365.000000</td>\n",
       "    </tr>\n",
       "  </tbody>\n",
       "</table>\n",
       "</div>"
      ],
      "text/plain": [
       "                 id       host_id       latitude      longitude  \\\n",
       "count  2.260300e+05  2.260300e+05  226030.000000  226030.000000   \n",
       "mean   2.547176e+07  9.352385e+07      35.662829    -103.220662   \n",
       "std    1.317814e+07  9.827422e+07       6.849855      26.222091   \n",
       "min    1.090000e+02  2.300000e+01      18.920990    -159.714900   \n",
       "25%    1.515890e+07  1.399275e+07      32.761783    -118.598115   \n",
       "50%    2.590916e+07  5.138266e+07      37.261125     -97.817200   \n",
       "75%    3.772624e+07  1.497179e+08      40.724038     -76.919322   \n",
       "max    4.556085e+07  3.679176e+08      47.734620     -70.995950   \n",
       "\n",
       "               price  minimum_nights  number_of_reviews  reviews_per_month  \\\n",
       "count  226030.000000    2.260300e+05      226030.000000       177428.00000   \n",
       "mean      219.716529    4.525490e+02          34.506530            1.43145   \n",
       "std       570.353609    2.103376e+05          63.602914            1.68321   \n",
       "min         0.000000    1.000000e+00           0.000000            0.01000   \n",
       "25%        75.000000    1.000000e+00           1.000000            0.23000   \n",
       "50%       121.000000    2.000000e+00           8.000000            0.81000   \n",
       "75%       201.000000    7.000000e+00          39.000000            2.06000   \n",
       "max     24999.000000    1.000000e+08         966.000000           44.06000   \n",
       "\n",
       "       calculated_host_listings_count  availability_365  \n",
       "count                   226030.000000     226030.000000  \n",
       "mean                        16.698562        159.314856  \n",
       "std                         51.068966        140.179628  \n",
       "min                          1.000000          0.000000  \n",
       "25%                          1.000000          0.000000  \n",
       "50%                          2.000000        140.000000  \n",
       "75%                          6.000000        311.000000  \n",
       "max                        593.000000        365.000000  "
      ]
     },
     "execution_count": 7,
     "metadata": {},
     "output_type": "execute_result"
    }
   ],
   "source": [
    "df.describe()"
   ]
  },
  {
   "cell_type": "code",
   "execution_count": 8,
   "metadata": {},
   "outputs": [
    {
     "data": {
      "text/plain": [
       "Index(['id', 'name', 'host_id', 'host_name', 'neighbourhood_group',\n",
       "       'neighbourhood', 'latitude', 'longitude', 'room_type', 'price',\n",
       "       'minimum_nights', 'number_of_reviews', 'last_review',\n",
       "       'reviews_per_month', 'calculated_host_listings_count',\n",
       "       'availability_365', 'city'],\n",
       "      dtype='object')"
      ]
     },
     "execution_count": 8,
     "metadata": {},
     "output_type": "execute_result"
    }
   ],
   "source": [
    "df.columns"
   ]
  },
  {
   "cell_type": "markdown",
   "metadata": {},
   "source": [
    "# We go on and drop the columns that clearly don't affect the price."
   ]
  },
  {
   "cell_type": "code",
   "execution_count": 9,
   "metadata": {},
   "outputs": [],
   "source": [
    "df = df.drop(['id','name','host_id','host_name'],axis=1)"
   ]
  },
  {
   "cell_type": "code",
   "execution_count": 10,
   "metadata": {},
   "outputs": [
    {
     "data": {
      "text/plain": [
       "Index(['neighbourhood_group', 'neighbourhood', 'latitude', 'longitude',\n",
       "       'room_type', 'price', 'minimum_nights', 'number_of_reviews',\n",
       "       'last_review', 'reviews_per_month', 'calculated_host_listings_count',\n",
       "       'availability_365', 'city'],\n",
       "      dtype='object')"
      ]
     },
     "execution_count": 10,
     "metadata": {},
     "output_type": "execute_result"
    }
   ],
   "source": [
    "df.columns"
   ]
  },
  {
   "cell_type": "markdown",
   "metadata": {},
   "source": [
    "# Further we look at some visualizations to get some insights of the data."
   ]
  },
  {
   "cell_type": "markdown",
   "metadata": {},
   "source": [
    "# The countplot below shows the number of different rooms."
   ]
  },
  {
   "cell_type": "code",
   "execution_count": 11,
   "metadata": {},
   "outputs": [
    {
     "data": {
      "text/plain": [
       "<matplotlib.axes._subplots.AxesSubplot at 0x7f98f893b690>"
      ]
     },
     "execution_count": 11,
     "metadata": {},
     "output_type": "execute_result"
    },
    {
     "data": {
      "image/png": "[encoded data removed]",
      "text/plain": [
       "<Figure size 864x432 with 1 Axes>"
      ]
     },
     "metadata": {
      "needs_background": "light"
     },
     "output_type": "display_data"
    }
   ],
   "source": [
    "plt.figure(figsize=(12,6))\n",
    "sns.countplot(df['room_type'])"
   ]
  },
  {
   "cell_type": "markdown",
   "metadata": {},
   "source": [
    "# From the distribution plot below it is clear that the price is mostly distributed in an area with some outliers."
   ]
  },
  {
   "cell_type": "code",
   "execution_count": 12,
   "metadata": {},
   "outputs": [
    {
     "data": {
      "text/plain": [
       "<matplotlib.axes._subplots.AxesSubplot at 0x7f98f2fb1850>"
      ]
     },
     "execution_count": 12,
     "metadata": {},
     "output_type": "execute_result"
    },
    {
     "data": {
      "image/png": "[encoded data removed]",
      "text/plain": [
       "<Figure size 864x504 with 1 Axes>"
      ]
     },
     "metadata": {
      "needs_background": "light"
     },
     "output_type": "display_data"
    }
   ],
   "source": [
    "plt.figure(figsize=(12,7))\n",
    "sns.distplot(df['price'],kde=True,bins=100)"
   ]
  },
  {
   "cell_type": "markdown",
   "metadata": {},
   "source": [
    "# This scatterplot shows that entire home/apt are the one that have the outliers as they can be usually higher in price."
   ]
  },
  {
   "cell_type": "code",
   "execution_count": 13,
   "metadata": {},
   "outputs": [
    {
     "data": {
      "text/plain": [
       "<matplotlib.axes._subplots.AxesSubplot at 0x7f98f26400d0>"
      ]
     },
     "execution_count": 13,
     "metadata": {},
     "output_type": "execute_result"
    },
    {
     "data": {
      "image/png": "[encoded data removed]",
      "text/plain": [
       "<Figure size 864x432 with 1 Axes>"
      ]
     },
     "metadata": {
      "needs_background": "light"
     },
     "output_type": "display_data"
    }
   ],
   "source": [
    "plt.figure(figsize=(12,6))\n",
    "sns.scatterplot(x='price',y='room_type',data=df)"
   ]
  },
  {
   "cell_type": "markdown",
   "metadata": {},
   "source": [
    "# With the heatmap we can clearly look at the factors that are in high correlation with the price."
   ]
  },
  {
   "cell_type": "code",
   "execution_count": 14,
   "metadata": {},
   "outputs": [
    {
     "data": {
      "text/plain": [
       "<matplotlib.axes._subplots.AxesSubplot at 0x7f98daf6b750>"
      ]
     },
     "execution_count": 14,
     "metadata": {},
     "output_type": "execute_result"
    },
    {
     "data": {
      "image/png": "[encoded data removed]",
      "text/plain": [
       "<Figure size 864x504 with 2 Axes>"
      ]
     },
     "metadata": {
      "needs_background": "light"
     },
     "output_type": "display_data"
    }
   ],
   "source": [
    "plt.figure(figsize=(12,7))\n",
    "sns.heatmap(df.corr(),cmap='RdYlBu')"
   ]
  },
  {
   "cell_type": "code",
   "execution_count": 15,
   "metadata": {},
   "outputs": [
    {
     "name": "stdout",
     "output_type": "stream",
     "text": [
      "<class 'pandas.core.frame.DataFrame'>\n",
      "RangeIndex: 226030 entries, 0 to 226029\n",
      "Data columns (total 13 columns):\n",
      " #   Column                          Non-Null Count   Dtype  \n",
      "---  ------                          --------------   -----  \n",
      " 0   neighbourhood_group             110185 non-null  object \n",
      " 1   neighbourhood                   226030 non-null  object \n",
      " 2   latitude                        226030 non-null  float64\n",
      " 3   longitude                       226030 non-null  float64\n",
      " 4   room_type                       226030 non-null  object \n",
      " 5   price                           226030 non-null  int64  \n",
      " 6   minimum_nights                  226030 non-null  int64  \n",
      " 7   number_of_reviews               226030 non-null  int64  \n",
      " 8   last_review                     177428 non-null  object \n",
      " 9   reviews_per_month               177428 non-null  float64\n",
      " 10  calculated_host_listings_count  226030 non-null  int64  \n",
      " 11  availability_365                226030 non-null  int64  \n",
      " 12  city                            226030 non-null  object \n",
      "dtypes: float64(3), int64(5), object(5)\n",
      "memory usage: 22.4+ MB\n"
     ]
    }
   ],
   "source": [
    "df.info()"
   ]
  },
  {
   "cell_type": "markdown",
   "metadata": {},
   "source": [
    "# We need to convert the strings into dummies that can be easily read and understood by our machine learning model."
   ]
  },
  {
   "cell_type": "code",
   "execution_count": 21,
   "metadata": {},
   "outputs": [],
   "source": [
    "ng = pd.get_dummies(df['neighbourhood_group'],drop_first=True)"
   ]
  },
  {
   "cell_type": "code",
   "execution_count": 22,
   "metadata": {},
   "outputs": [],
   "source": [
    "n = pd.get_dummies(df['neighbourhood'],drop_first=True)"
   ]
  },
  {
   "cell_type": "code",
   "execution_count": 23,
   "metadata": {},
   "outputs": [],
   "source": [
    "rt = pd.get_dummies(df['room_type'],drop_first=True)"
   ]
  },
  {
   "cell_type": "code",
   "execution_count": 24,
   "metadata": {},
   "outputs": [],
   "source": [
    "c = pd.get_dummies(df['city'],drop_first=True)"
   ]
  },
  {
   "cell_type": "code",
   "execution_count": 25,
   "metadata": {},
   "outputs": [],
   "source": [
    "df = pd.concat([df,ng,n,rt,c],axis=1)"
   ]
  },
  {
   "cell_type": "code",
   "execution_count": 26,
   "metadata": {},
   "outputs": [],
   "source": [
    "df = df.drop(['neighbourhood_group','neighbourhood','room_type','city'],axis=1)"
   ]
  },
  {
   "cell_type": "code",
   "execution_count": 16,
   "metadata": {},
   "outputs": [],
   "source": [
    "df['neighbourhood_group'] = df['neighbourhood_group'].replace(np.nan,'ND')"
   ]
  },
  {
   "cell_type": "code",
   "execution_count": 17,
   "metadata": {},
   "outputs": [
    {
     "data": {
      "text/plain": [
       "array(['ND', 'Hawaii', 'Kauai', 'Maui', 'Honolulu', 'Other Cities',\n",
       "       'City of Los Angeles', 'Unincorporated Areas', 'Manhattan',\n",
       "       'Brooklyn', 'Queens', 'Staten Island', 'Bronx', 'Providence',\n",
       "       'Washington', 'Newport', 'Bristol', 'Kent', 'Central Area',\n",
       "       'Other neighborhoods', 'West Seattle', 'Downtown', 'Ballard',\n",
       "       'Capitol Hill', 'Beacon Hill', 'Seward Park', 'Queen Anne',\n",
       "       'Rainier Valley', 'Lake City', 'Cascade', 'Delridge',\n",
       "       'University District', 'Northgate', 'Magnolia', 'Interbay'],\n",
       "      dtype=object)"
      ]
     },
     "execution_count": 17,
     "metadata": {},
     "output_type": "execute_result"
    }
   ],
   "source": [
    "df['neighbourhood_group'].unique()"
   ]
  },
  {
   "cell_type": "code",
   "execution_count": 18,
   "metadata": {},
   "outputs": [
    {
     "data": {
      "text/plain": [
       "array(['28804', '28801', '28806', ..., 'Near Southeast, Navy Yard',\n",
       "       'Eastland Gardens, Kenilworth',\n",
       "       'Woodland/Fort Stanton, Garfield Heights, Knox Hill'], dtype=object)"
      ]
     },
     "execution_count": 18,
     "metadata": {},
     "output_type": "execute_result"
    }
   ],
   "source": [
    "df['neighbourhood'].unique()"
   ]
  },
  {
   "cell_type": "code",
   "execution_count": 19,
   "metadata": {},
   "outputs": [
    {
     "data": {
      "text/plain": [
       "array(['Private room', 'Entire home/apt', 'Hotel room', 'Shared room'],\n",
       "      dtype=object)"
      ]
     },
     "execution_count": 19,
     "metadata": {},
     "output_type": "execute_result"
    }
   ],
   "source": [
    "df['room_type'].unique()"
   ]
  },
  {
   "cell_type": "code",
   "execution_count": 20,
   "metadata": {},
   "outputs": [],
   "source": [
    "df['last_review'] = df['last_review'].replace(np.nan,'ND')"
   ]
  },
  {
   "cell_type": "code",
   "execution_count": 52,
   "metadata": {},
   "outputs": [],
   "source": [
    "df['last_review'] = pd.to_datetime(df['last_review'])"
   ]
  },
  {
   "cell_type": "markdown",
   "metadata": {},
   "source": [
    "# The heatmap below shows that we don't have any missing data in out DataFrame."
   ]
  },
  {
   "cell_type": "code",
   "execution_count": 27,
   "metadata": {},
   "outputs": [
    {
     "data": {
      "text/plain": [
       "<matplotlib.axes._subplots.AxesSubplot at 0x7f98b0256dd0>"
      ]
     },
     "execution_count": 27,
     "metadata": {},
     "output_type": "execute_result"
    },
    {
     "data": {
      "image/png": "[encoded data removed]",
      "text/plain": [
       "<Figure size 864x504 with 2 Axes>"
      ]
     },
     "metadata": {
      "needs_background": "light"
     },
     "output_type": "display_data"
    }
   ],
   "source": [
    "plt.figure(figsize=(12,7))\n",
    "sns.heatmap(df.isnull(),cmap='RdYlBu')"
   ]
  },
  {
   "cell_type": "code",
   "execution_count": 28,
   "metadata": {},
   "outputs": [
    {
     "data": {
      "text/html": [
       "<div>\n",
       "<style scoped>\n",
       "    .dataframe tbody tr th:only-of-type {\n",
       "        vertical-align: middle;\n",
       "    }\n",
       "\n",
       "    .dataframe tbody tr th {\n",
       "        vertical-align: top;\n",
       "    }\n",
       "\n",
       "    .dataframe thead th {\n",
       "        text-align: right;\n",
       "    }\n",
       "</style>\n",
       "<table border=\"1\" class=\"dataframe\">\n",
       "  <thead>\n",
       "    <tr style=\"text-align: right;\">\n",
       "      <th></th>\n",
       "      <th>latitude</th>\n",
       "      <th>longitude</th>\n",
       "      <th>price</th>\n",
       "      <th>minimum_nights</th>\n",
       "      <th>number_of_reviews</th>\n",
       "      <th>last_review</th>\n",
       "      <th>reviews_per_month</th>\n",
       "      <th>calculated_host_listings_count</th>\n",
       "      <th>availability_365</th>\n",
       "      <th>Beacon Hill</th>\n",
       "      <th>...</th>\n",
       "      <th>Rhode Island</th>\n",
       "      <th>Salem</th>\n",
       "      <th>San Clara Country</th>\n",
       "      <th>San Diego</th>\n",
       "      <th>San Francisco</th>\n",
       "      <th>San Mateo County</th>\n",
       "      <th>Santa Cruz County</th>\n",
       "      <th>Seattle</th>\n",
       "      <th>Twin Cities MSA</th>\n",
       "      <th>Washington D.C.</th>\n",
       "    </tr>\n",
       "  </thead>\n",
       "  <tbody>\n",
       "    <tr>\n",
       "      <th>0</th>\n",
       "      <td>35.65146</td>\n",
       "      <td>-82.62792</td>\n",
       "      <td>60</td>\n",
       "      <td>1</td>\n",
       "      <td>138</td>\n",
       "      <td>16/02/20</td>\n",
       "      <td>1.14</td>\n",
       "      <td>1</td>\n",
       "      <td>0</td>\n",
       "      <td>0</td>\n",
       "      <td>...</td>\n",
       "      <td>0</td>\n",
       "      <td>0</td>\n",
       "      <td>0</td>\n",
       "      <td>0</td>\n",
       "      <td>0</td>\n",
       "      <td>0</td>\n",
       "      <td>0</td>\n",
       "      <td>0</td>\n",
       "      <td>0</td>\n",
       "      <td>0</td>\n",
       "    </tr>\n",
       "    <tr>\n",
       "      <th>1</th>\n",
       "      <td>35.59779</td>\n",
       "      <td>-82.55540</td>\n",
       "      <td>470</td>\n",
       "      <td>1</td>\n",
       "      <td>114</td>\n",
       "      <td>07/09/20</td>\n",
       "      <td>1.03</td>\n",
       "      <td>11</td>\n",
       "      <td>288</td>\n",
       "      <td>0</td>\n",
       "      <td>...</td>\n",
       "      <td>0</td>\n",
       "      <td>0</td>\n",
       "      <td>0</td>\n",
       "      <td>0</td>\n",
       "      <td>0</td>\n",
       "      <td>0</td>\n",
       "      <td>0</td>\n",
       "      <td>0</td>\n",
       "      <td>0</td>\n",
       "      <td>0</td>\n",
       "    </tr>\n",
       "    <tr>\n",
       "      <th>2</th>\n",
       "      <td>35.60670</td>\n",
       "      <td>-82.55563</td>\n",
       "      <td>75</td>\n",
       "      <td>30</td>\n",
       "      <td>89</td>\n",
       "      <td>30/11/19</td>\n",
       "      <td>0.81</td>\n",
       "      <td>2</td>\n",
       "      <td>298</td>\n",
       "      <td>0</td>\n",
       "      <td>...</td>\n",
       "      <td>0</td>\n",
       "      <td>0</td>\n",
       "      <td>0</td>\n",
       "      <td>0</td>\n",
       "      <td>0</td>\n",
       "      <td>0</td>\n",
       "      <td>0</td>\n",
       "      <td>0</td>\n",
       "      <td>0</td>\n",
       "      <td>0</td>\n",
       "    </tr>\n",
       "    <tr>\n",
       "      <th>3</th>\n",
       "      <td>35.57864</td>\n",
       "      <td>-82.59578</td>\n",
       "      <td>90</td>\n",
       "      <td>1</td>\n",
       "      <td>267</td>\n",
       "      <td>22/09/20</td>\n",
       "      <td>2.39</td>\n",
       "      <td>5</td>\n",
       "      <td>0</td>\n",
       "      <td>0</td>\n",
       "      <td>...</td>\n",
       "      <td>0</td>\n",
       "      <td>0</td>\n",
       "      <td>0</td>\n",
       "      <td>0</td>\n",
       "      <td>0</td>\n",
       "      <td>0</td>\n",
       "      <td>0</td>\n",
       "      <td>0</td>\n",
       "      <td>0</td>\n",
       "      <td>0</td>\n",
       "    </tr>\n",
       "  </tbody>\n",
       "</table>\n",
       "<p>4 rows × 1522 columns</p>\n",
       "</div>"
      ],
      "text/plain": [
       "   latitude  longitude  price  minimum_nights  number_of_reviews last_review  \\\n",
       "0  35.65146  -82.62792     60               1                138    16/02/20   \n",
       "1  35.59779  -82.55540    470               1                114    07/09/20   \n",
       "2  35.60670  -82.55563     75              30                 89    30/11/19   \n",
       "3  35.57864  -82.59578     90               1                267    22/09/20   \n",
       "\n",
       "   reviews_per_month  calculated_host_listings_count  availability_365  \\\n",
       "0               1.14                               1                 0   \n",
       "1               1.03                              11               288   \n",
       "2               0.81                               2               298   \n",
       "3               2.39                               5                 0   \n",
       "\n",
       "   Beacon Hill  ...  Rhode Island  Salem  San Clara Country  San Diego  \\\n",
       "0            0  ...             0      0                  0          0   \n",
       "1            0  ...             0      0                  0          0   \n",
       "2            0  ...             0      0                  0          0   \n",
       "3            0  ...             0      0                  0          0   \n",
       "\n",
       "   San Francisco  San Mateo County  Santa Cruz County  Seattle  \\\n",
       "0              0                 0                  0        0   \n",
       "1              0                 0                  0        0   \n",
       "2              0                 0                  0        0   \n",
       "3              0                 0                  0        0   \n",
       "\n",
       "   Twin Cities MSA  Washington D.C.  \n",
       "0                0                0  \n",
       "1                0                0  \n",
       "2                0                0  \n",
       "3                0                0  \n",
       "\n",
       "[4 rows x 1522 columns]"
      ]
     },
     "execution_count": 28,
     "metadata": {},
     "output_type": "execute_result"
    }
   ],
   "source": [
    "df.head(4)"
   ]
  },
  {
   "cell_type": "markdown",
   "metadata": {},
   "source": [
    "# We now divide our dataframe into the prediction variable (y) and the Dependent variables (x)."
   ]
  },
  {
   "cell_type": "code",
   "execution_count": 30,
   "metadata": {},
   "outputs": [],
   "source": [
    "X = df.drop('price',axis=1)"
   ]
  },
  {
   "cell_type": "code",
   "execution_count": 31,
   "metadata": {},
   "outputs": [],
   "source": [
    "y = df['price']"
   ]
  },
  {
   "cell_type": "markdown",
   "metadata": {},
   "source": [
    "# Now we split our data into training and testing data."
   ]
  },
  {
   "cell_type": "code",
   "execution_count": 32,
   "metadata": {},
   "outputs": [],
   "source": [
    "from sklearn.model_selection import train_test_split"
   ]
  },
  {
   "cell_type": "code",
   "execution_count": 33,
   "metadata": {},
   "outputs": [],
   "source": [
    "X_train, X_test, y_train, y_test= train_test_split(X,y,test_size=.33,random_state = 101)"
   ]
  },
  {
   "cell_type": "markdown",
   "metadata": {},
   "source": [
    "# After splitting the data we scale the data with MinMaxScaler in order for our model to read data easily. "
   ]
  },
  {
   "cell_type": "code",
   "execution_count": 34,
   "metadata": {},
   "outputs": [],
   "source": [
    "from sklearn.preprocessing import MinMaxScaler"
   ]
  },
  {
   "cell_type": "code",
   "execution_count": 35,
   "metadata": {},
   "outputs": [],
   "source": [
    "scaler = MinMaxScaler()"
   ]
  },
  {
   "cell_type": "markdown",
   "metadata": {},
   "source": [
    "# We need to convert any string value to integer in order to fit and transform our test and train data."
   ]
  },
  {
   "cell_type": "code",
   "execution_count": 36,
   "metadata": {},
   "outputs": [],
   "source": [
    "X_train = X_train.drop('last_review',axis=1)"
   ]
  },
  {
   "cell_type": "code",
   "execution_count": 37,
   "metadata": {},
   "outputs": [],
   "source": [
    "X_train = X_train.replace('ND',0)"
   ]
  },
  {
   "cell_type": "code",
   "execution_count": 38,
   "metadata": {},
   "outputs": [],
   "source": [
    "X_train = scaler.fit_transform(X_train)"
   ]
  },
  {
   "cell_type": "code",
   "execution_count": 39,
   "metadata": {},
   "outputs": [],
   "source": [
    "X_test = X_test.drop('last_review',axis=1)"
   ]
  },
  {
   "cell_type": "code",
   "execution_count": 40,
   "metadata": {},
   "outputs": [],
   "source": [
    "X_test = X_test.replace('ND',0)"
   ]
  },
  {
   "cell_type": "code",
   "execution_count": 41,
   "metadata": {},
   "outputs": [],
   "source": [
    "X_test = scaler.transform(X_test)"
   ]
  },
  {
   "cell_type": "markdown",
   "metadata": {},
   "source": [
    "# Now that we are done with scaling our data we can go ahead and create our deep learning model."
   ]
  },
  {
   "cell_type": "markdown",
   "metadata": {},
   "source": [
    "# We are gonna use tensorflow library."
   ]
  },
  {
   "cell_type": "code",
   "execution_count": 43,
   "metadata": {},
   "outputs": [],
   "source": [
    "import tensorflow as tf\n",
    "from tensorflow.keras.models import Sequential\n",
    "from tensorflow.keras.layers import Dense, Dropout"
   ]
  },
  {
   "cell_type": "markdown",
   "metadata": {},
   "source": [
    "# With the help of Sequential we will create our sequential model and with the help of Dense and Dropout we will add layers and dropout layers."
   ]
  },
  {
   "cell_type": "code",
   "execution_count": 100,
   "metadata": {},
   "outputs": [],
   "source": [
    "model = Sequential()\n",
    "\n",
    "model.add(Dense(1522,activation='relu')) # This is the first layer with 1522 neurons and 50% dropped layers.\n",
    "model.add(Dropout(.5))                   # We have rectified linear activation function as the activator.\n",
    "\n",
    "model.add(Dense(710,activation='relu'))  # 2nd layer with 710 neurons and 50% dropout layers.\n",
    "model.add(Dropout(.5))\n",
    "\n",
    "model.add(Dense(305,activation='relu'))  # 3rd layer with 305 neurons and 50% dropout layers.\n",
    "model.add(Dropout(.5))\n",
    "\n",
    "model.add(Dense(150,activation='relu'))  # 4th layer with 150 neurons and 50% dropout layers.\n",
    "model.add(Dropout(.5 ))\n",
    "\n",
    "model.add(Dense(1,activation='relu'))    # The final output layer with a single output neuron.\n",
    "\n",
    "model.compile(optimizer = 'adam', loss='msle')\n",
    "# Now we compile the model and use adam optimizer and track msle (mean square logistic error)."
   ]
  },
  {
   "cell_type": "code",
   "execution_count": 101,
   "metadata": {},
   "outputs": [
    {
     "name": "stdout",
     "output_type": "stream",
     "text": [
      "Epoch 1/25\n",
      "WARNING:tensorflow:Layer dense_4 is casting an input tensor from dtype float64 to the layer's dtype of float32, which is new behavior in TensorFlow 2.  The layer has dtype float32 because it's dtype defaults to floatx.\n",
      "\n",
      "If you intended to run this layer in float32, you can safely ignore this warning. If in doubt, this warning is likely only an issue if you are porting a TensorFlow 1.X model to TensorFlow 2.\n",
      "\n",
      "To change all layers to have dtype float64 by default, call `tf.keras.backend.set_floatx('float64')`. To change just this layer, pass dtype='float64' to the layer constructor. If you are the author of this layer, you can disable autocasting by passing autocast=False to the base Layer constructor.\n",
      "\n",
      "107/107 [==============================] - 15s 141ms/step - loss: 1.7491 - val_loss: 0.4776\n",
      "Epoch 2/25\n",
      "107/107 [==============================] - 17s 156ms/step - loss: 0.4846 - val_loss: 0.4433\n",
      "Epoch 3/25\n",
      "107/107 [==============================] - 15s 141ms/step - loss: 0.4637 - val_loss: 0.4327\n",
      "Epoch 4/25\n",
      "107/107 [==============================] - 15s 137ms/step - loss: 0.4511 - val_loss: 0.4282\n",
      "Epoch 5/25\n",
      "107/107 [==============================] - 14s 133ms/step - loss: 0.4420 - val_loss: 0.4256\n",
      "Epoch 6/25\n",
      "107/107 [==============================] - 14s 135ms/step - loss: 0.4361 - val_loss: 0.4205\n",
      "Epoch 7/25\n",
      "107/107 [==============================] - 14s 135ms/step - loss: 0.4300 - val_loss: 0.4167\n",
      "Epoch 8/25\n",
      "107/107 [==============================] - 14s 134ms/step - loss: 0.4230 - val_loss: 0.4144\n",
      "Epoch 9/25\n",
      "107/107 [==============================] - 14s 133ms/step - loss: 0.4203 - val_loss: 0.4117\n",
      "Epoch 10/25\n",
      "107/107 [==============================] - 14s 134ms/step - loss: 0.4157 - val_loss: 0.4098\n",
      "Epoch 11/25\n",
      "107/107 [==============================] - 14s 135ms/step - loss: 0.4119 - val_loss: 0.4076\n",
      "Epoch 12/25\n",
      "107/107 [==============================] - 14s 134ms/step - loss: 0.4108 - val_loss: 0.4066\n",
      "Epoch 13/25\n",
      "107/107 [==============================] - 14s 134ms/step - loss: 0.4079 - val_loss: 0.4067\n",
      "Epoch 14/25\n",
      "107/107 [==============================] - 14s 135ms/step - loss: 0.4075 - val_loss: 0.4048\n",
      "Epoch 15/25\n",
      "107/107 [==============================] - 14s 134ms/step - loss: 0.4039 - val_loss: 0.4027\n",
      "Epoch 16/25\n",
      "107/107 [==============================] - 14s 133ms/step - loss: 0.4000 - val_loss: 0.4050\n",
      "Epoch 17/25\n",
      "107/107 [==============================] - 14s 134ms/step - loss: 0.4012 - val_loss: 0.4055\n",
      "Epoch 18/25\n",
      "107/107 [==============================] - 14s 135ms/step - loss: 0.4005 - val_loss: 0.4021\n",
      "Epoch 19/25\n",
      "107/107 [==============================] - 14s 134ms/step - loss: 0.3975 - val_loss: 0.4122\n",
      "Epoch 20/25\n",
      "107/107 [==============================] - 14s 134ms/step - loss: 0.4016 - val_loss: 0.4008\n",
      "Epoch 21/25\n",
      "107/107 [==============================] - 14s 135ms/step - loss: 0.3960 - val_loss: 0.4001\n",
      "Epoch 22/25\n",
      "107/107 [==============================] - 14s 135ms/step - loss: 0.3927 - val_loss: 0.4001\n",
      "Epoch 23/25\n",
      "107/107 [==============================] - 13s 121ms/step - loss: 0.3918 - val_loss: 0.3987\n",
      "Epoch 24/25\n",
      "107/107 [==============================] - 10s 89ms/step - loss: 0.3910 - val_loss: 0.3990\n",
      "Epoch 25/25\n",
      "107/107 [==============================] - 10s 92ms/step - loss: 0.3906 - val_loss: 0.3972\n"
     ]
    },
    {
     "data": {
      "text/plain": [
       "<tensorflow.python.keras.callbacks.History at 0x7fa14300aed0>"
      ]
     },
     "execution_count": 101,
     "metadata": {},
     "output_type": "execute_result"
    }
   ],
   "source": [
    "model.fit(x = X_train,\n",
    "         y = y_train,\n",
    "         validation_split=.30, # 30% of training data will be used as validation data.\n",
    "         epochs=25,            # 25 times the data will be passed through the model.\n",
    "         verbose=1,\n",
    "         batch_size = 1000,    # Data will be passed in the batches of 1000.\n",
    "         shuffle=True)         # The data will be passed randomly."
   ]
  },
  {
   "cell_type": "markdown",
   "metadata": {},
   "source": [
    "# Once we are done training the model we go ahead and look at loss our model has and check for Underfitting and Overfitting."
   ]
  },
  {
   "cell_type": "code",
   "execution_count": 103,
   "metadata": {},
   "outputs": [],
   "source": [
    "loss = pd.DataFrame(model.history.history)"
   ]
  },
  {
   "cell_type": "code",
   "execution_count": 114,
   "metadata": {},
   "outputs": [
    {
     "data": {
      "text/plain": [
       "<matplotlib.axes._subplots.AxesSubplot at 0x7fa0d2b52f90>"
      ]
     },
     "execution_count": 114,
     "metadata": {},
     "output_type": "execute_result"
    },
    {
     "data": {
      "image/png": "[encoded data removed]",
      "text/plain": [
       "<Figure size 720x432 with 1 Axes>"
      ]
     },
     "metadata": {
      "needs_background": "light"
     },
     "output_type": "display_data"
    }
   ],
   "source": [
    "loss.plot(figsize=(10,6))"
   ]
  },
  {
   "cell_type": "markdown",
   "metadata": {},
   "source": [
    "# Now we go ahead and test our data and get our predictions."
   ]
  },
  {
   "cell_type": "code",
   "execution_count": 106,
   "metadata": {},
   "outputs": [],
   "source": [
    "pred = model.predict(X_test)"
   ]
  },
  {
   "cell_type": "markdown",
   "metadata": {},
   "source": [
    "# Now that we are done with the predictions we will go ahead and check a sample for testing whether our model predicts the price or not."
   ]
  },
  {
   "cell_type": "code",
   "execution_count": 111,
   "metadata": {},
   "outputs": [
    {
     "data": {
      "text/html": [
       "<div>\n",
       "<style scoped>\n",
       "    .dataframe tbody tr th:only-of-type {\n",
       "        vertical-align: middle;\n",
       "    }\n",
       "\n",
       "    .dataframe tbody tr th {\n",
       "        vertical-align: top;\n",
       "    }\n",
       "\n",
       "    .dataframe thead th {\n",
       "        text-align: right;\n",
       "    }\n",
       "</style>\n",
       "<table border=\"1\" class=\"dataframe\">\n",
       "  <thead>\n",
       "    <tr style=\"text-align: right;\">\n",
       "      <th></th>\n",
       "      <th>latitude</th>\n",
       "      <th>longitude</th>\n",
       "      <th>price</th>\n",
       "      <th>minimum_nights</th>\n",
       "      <th>number_of_reviews</th>\n",
       "      <th>last_review</th>\n",
       "      <th>reviews_per_month</th>\n",
       "      <th>calculated_host_listings_count</th>\n",
       "      <th>availability_365</th>\n",
       "      <th>Beacon Hill</th>\n",
       "      <th>...</th>\n",
       "      <th>Rhode Island</th>\n",
       "      <th>Salem</th>\n",
       "      <th>San Clara Country</th>\n",
       "      <th>San Diego</th>\n",
       "      <th>San Francisco</th>\n",
       "      <th>San Mateo County</th>\n",
       "      <th>Santa Cruz County</th>\n",
       "      <th>Seattle</th>\n",
       "      <th>Twin Cities MSA</th>\n",
       "      <th>Washington D.C.</th>\n",
       "    </tr>\n",
       "  </thead>\n",
       "  <tbody>\n",
       "    <tr>\n",
       "      <th>0</th>\n",
       "      <td>35.651460</td>\n",
       "      <td>-82.627920</td>\n",
       "      <td>60</td>\n",
       "      <td>1</td>\n",
       "      <td>138</td>\n",
       "      <td>2020-02-16</td>\n",
       "      <td>1.14</td>\n",
       "      <td>1</td>\n",
       "      <td>0</td>\n",
       "      <td>0</td>\n",
       "      <td>...</td>\n",
       "      <td>0</td>\n",
       "      <td>0</td>\n",
       "      <td>0</td>\n",
       "      <td>0</td>\n",
       "      <td>0</td>\n",
       "      <td>0</td>\n",
       "      <td>0</td>\n",
       "      <td>0</td>\n",
       "      <td>0</td>\n",
       "      <td>0</td>\n",
       "    </tr>\n",
       "    <tr>\n",
       "      <th>1</th>\n",
       "      <td>35.597790</td>\n",
       "      <td>-82.555400</td>\n",
       "      <td>470</td>\n",
       "      <td>1</td>\n",
       "      <td>114</td>\n",
       "      <td>2020-07-09</td>\n",
       "      <td>1.03</td>\n",
       "      <td>11</td>\n",
       "      <td>288</td>\n",
       "      <td>0</td>\n",
       "      <td>...</td>\n",
       "      <td>0</td>\n",
       "      <td>0</td>\n",
       "      <td>0</td>\n",
       "      <td>0</td>\n",
       "      <td>0</td>\n",
       "      <td>0</td>\n",
       "      <td>0</td>\n",
       "      <td>0</td>\n",
       "      <td>0</td>\n",
       "      <td>0</td>\n",
       "    </tr>\n",
       "    <tr>\n",
       "      <th>2</th>\n",
       "      <td>35.606700</td>\n",
       "      <td>-82.555630</td>\n",
       "      <td>75</td>\n",
       "      <td>30</td>\n",
       "      <td>89</td>\n",
       "      <td>2019-11-30</td>\n",
       "      <td>0.81</td>\n",
       "      <td>2</td>\n",
       "      <td>298</td>\n",
       "      <td>0</td>\n",
       "      <td>...</td>\n",
       "      <td>0</td>\n",
       "      <td>0</td>\n",
       "      <td>0</td>\n",
       "      <td>0</td>\n",
       "      <td>0</td>\n",
       "      <td>0</td>\n",
       "      <td>0</td>\n",
       "      <td>0</td>\n",
       "      <td>0</td>\n",
       "      <td>0</td>\n",
       "    </tr>\n",
       "    <tr>\n",
       "      <th>3</th>\n",
       "      <td>35.578640</td>\n",
       "      <td>-82.595780</td>\n",
       "      <td>90</td>\n",
       "      <td>1</td>\n",
       "      <td>267</td>\n",
       "      <td>2020-09-22</td>\n",
       "      <td>2.39</td>\n",
       "      <td>5</td>\n",
       "      <td>0</td>\n",
       "      <td>0</td>\n",
       "      <td>...</td>\n",
       "      <td>0</td>\n",
       "      <td>0</td>\n",
       "      <td>0</td>\n",
       "      <td>0</td>\n",
       "      <td>0</td>\n",
       "      <td>0</td>\n",
       "      <td>0</td>\n",
       "      <td>0</td>\n",
       "      <td>0</td>\n",
       "      <td>0</td>\n",
       "    </tr>\n",
       "    <tr>\n",
       "      <th>4</th>\n",
       "      <td>35.614420</td>\n",
       "      <td>-82.541270</td>\n",
       "      <td>125</td>\n",
       "      <td>30</td>\n",
       "      <td>58</td>\n",
       "      <td>2015-10-19</td>\n",
       "      <td>0.52</td>\n",
       "      <td>1</td>\n",
       "      <td>0</td>\n",
       "      <td>0</td>\n",
       "      <td>...</td>\n",
       "      <td>0</td>\n",
       "      <td>0</td>\n",
       "      <td>0</td>\n",
       "      <td>0</td>\n",
       "      <td>0</td>\n",
       "      <td>0</td>\n",
       "      <td>0</td>\n",
       "      <td>0</td>\n",
       "      <td>0</td>\n",
       "      <td>0</td>\n",
       "    </tr>\n",
       "    <tr>\n",
       "      <th>...</th>\n",
       "      <td>...</td>\n",
       "      <td>...</td>\n",
       "      <td>...</td>\n",
       "      <td>...</td>\n",
       "      <td>...</td>\n",
       "      <td>...</td>\n",
       "      <td>...</td>\n",
       "      <td>...</td>\n",
       "      <td>...</td>\n",
       "      <td>...</td>\n",
       "      <td>...</td>\n",
       "      <td>...</td>\n",
       "      <td>...</td>\n",
       "      <td>...</td>\n",
       "      <td>...</td>\n",
       "      <td>...</td>\n",
       "      <td>...</td>\n",
       "      <td>...</td>\n",
       "      <td>...</td>\n",
       "      <td>...</td>\n",
       "      <td>...</td>\n",
       "    </tr>\n",
       "    <tr>\n",
       "      <th>226025</th>\n",
       "      <td>38.903880</td>\n",
       "      <td>-77.029730</td>\n",
       "      <td>104</td>\n",
       "      <td>1</td>\n",
       "      <td>0</td>\n",
       "      <td>1970-01-01</td>\n",
       "      <td>ND</td>\n",
       "      <td>2</td>\n",
       "      <td>99</td>\n",
       "      <td>0</td>\n",
       "      <td>...</td>\n",
       "      <td>0</td>\n",
       "      <td>0</td>\n",
       "      <td>0</td>\n",
       "      <td>0</td>\n",
       "      <td>0</td>\n",
       "      <td>0</td>\n",
       "      <td>0</td>\n",
       "      <td>0</td>\n",
       "      <td>0</td>\n",
       "      <td>1</td>\n",
       "    </tr>\n",
       "    <tr>\n",
       "      <th>226026</th>\n",
       "      <td>38.920820</td>\n",
       "      <td>-76.990980</td>\n",
       "      <td>151</td>\n",
       "      <td>2</td>\n",
       "      <td>0</td>\n",
       "      <td>1970-01-01</td>\n",
       "      <td>ND</td>\n",
       "      <td>1</td>\n",
       "      <td>300</td>\n",
       "      <td>0</td>\n",
       "      <td>...</td>\n",
       "      <td>0</td>\n",
       "      <td>0</td>\n",
       "      <td>0</td>\n",
       "      <td>0</td>\n",
       "      <td>0</td>\n",
       "      <td>0</td>\n",
       "      <td>0</td>\n",
       "      <td>0</td>\n",
       "      <td>0</td>\n",
       "      <td>1</td>\n",
       "    </tr>\n",
       "    <tr>\n",
       "      <th>226027</th>\n",
       "      <td>38.911170</td>\n",
       "      <td>-77.033540</td>\n",
       "      <td>240</td>\n",
       "      <td>2</td>\n",
       "      <td>0</td>\n",
       "      <td>1970-01-01</td>\n",
       "      <td>ND</td>\n",
       "      <td>1</td>\n",
       "      <td>173</td>\n",
       "      <td>0</td>\n",
       "      <td>...</td>\n",
       "      <td>0</td>\n",
       "      <td>0</td>\n",
       "      <td>0</td>\n",
       "      <td>0</td>\n",
       "      <td>0</td>\n",
       "      <td>0</td>\n",
       "      <td>0</td>\n",
       "      <td>0</td>\n",
       "      <td>0</td>\n",
       "      <td>1</td>\n",
       "    </tr>\n",
       "    <tr>\n",
       "      <th>226028</th>\n",
       "      <td>38.926630</td>\n",
       "      <td>-77.044360</td>\n",
       "      <td>60</td>\n",
       "      <td>21</td>\n",
       "      <td>0</td>\n",
       "      <td>1970-01-01</td>\n",
       "      <td>ND</td>\n",
       "      <td>5</td>\n",
       "      <td>362</td>\n",
       "      <td>0</td>\n",
       "      <td>...</td>\n",
       "      <td>0</td>\n",
       "      <td>0</td>\n",
       "      <td>0</td>\n",
       "      <td>0</td>\n",
       "      <td>0</td>\n",
       "      <td>0</td>\n",
       "      <td>0</td>\n",
       "      <td>0</td>\n",
       "      <td>0</td>\n",
       "      <td>1</td>\n",
       "    </tr>\n",
       "    <tr>\n",
       "      <th>226029</th>\n",
       "      <td>38.911569</td>\n",
       "      <td>-77.009431</td>\n",
       "      <td>79</td>\n",
       "      <td>7</td>\n",
       "      <td>0</td>\n",
       "      <td>1970-01-01</td>\n",
       "      <td>ND</td>\n",
       "      <td>2</td>\n",
       "      <td>62</td>\n",
       "      <td>0</td>\n",
       "      <td>...</td>\n",
       "      <td>0</td>\n",
       "      <td>0</td>\n",
       "      <td>0</td>\n",
       "      <td>0</td>\n",
       "      <td>0</td>\n",
       "      <td>0</td>\n",
       "      <td>0</td>\n",
       "      <td>0</td>\n",
       "      <td>0</td>\n",
       "      <td>1</td>\n",
       "    </tr>\n",
       "  </tbody>\n",
       "</table>\n",
       "<p>226030 rows × 1522 columns</p>\n",
       "</div>"
      ],
      "text/plain": [
       "         latitude  longitude  price  minimum_nights  number_of_reviews  \\\n",
       "0       35.651460 -82.627920     60               1                138   \n",
       "1       35.597790 -82.555400    470               1                114   \n",
       "2       35.606700 -82.555630     75              30                 89   \n",
       "3       35.578640 -82.595780     90               1                267   \n",
       "4       35.614420 -82.541270    125              30                 58   \n",
       "...           ...        ...    ...             ...                ...   \n",
       "226025  38.903880 -77.029730    104               1                  0   \n",
       "226026  38.920820 -76.990980    151               2                  0   \n",
       "226027  38.911170 -77.033540    240               2                  0   \n",
       "226028  38.926630 -77.044360     60              21                  0   \n",
       "226029  38.911569 -77.009431     79               7                  0   \n",
       "\n",
       "       last_review reviews_per_month  calculated_host_listings_count  \\\n",
       "0       2020-02-16              1.14                               1   \n",
       "1       2020-07-09              1.03                              11   \n",
       "2       2019-11-30              0.81                               2   \n",
       "3       2020-09-22              2.39                               5   \n",
       "4       2015-10-19              0.52                               1   \n",
       "...            ...               ...                             ...   \n",
       "226025  1970-01-01                ND                               2   \n",
       "226026  1970-01-01                ND                               1   \n",
       "226027  1970-01-01                ND                               1   \n",
       "226028  1970-01-01                ND                               5   \n",
       "226029  1970-01-01                ND                               2   \n",
       "\n",
       "        availability_365  Beacon Hill  ...  Rhode Island  Salem  \\\n",
       "0                      0            0  ...             0      0   \n",
       "1                    288            0  ...             0      0   \n",
       "2                    298            0  ...             0      0   \n",
       "3                      0            0  ...             0      0   \n",
       "4                      0            0  ...             0      0   \n",
       "...                  ...          ...  ...           ...    ...   \n",
       "226025                99            0  ...             0      0   \n",
       "226026               300            0  ...             0      0   \n",
       "226027               173            0  ...             0      0   \n",
       "226028               362            0  ...             0      0   \n",
       "226029                62            0  ...             0      0   \n",
       "\n",
       "        San Clara Country  San Diego  San Francisco  San Mateo County  \\\n",
       "0                       0          0              0                 0   \n",
       "1                       0          0              0                 0   \n",
       "2                       0          0              0                 0   \n",
       "3                       0          0              0                 0   \n",
       "4                       0          0              0                 0   \n",
       "...                   ...        ...            ...               ...   \n",
       "226025                  0          0              0                 0   \n",
       "226026                  0          0              0                 0   \n",
       "226027                  0          0              0                 0   \n",
       "226028                  0          0              0                 0   \n",
       "226029                  0          0              0                 0   \n",
       "\n",
       "        Santa Cruz County  Seattle  Twin Cities MSA  Washington D.C.  \n",
       "0                       0        0                0                0  \n",
       "1                       0        0                0                0  \n",
       "2                       0        0                0                0  \n",
       "3                       0        0                0                0  \n",
       "4                       0        0                0                0  \n",
       "...                   ...      ...              ...              ...  \n",
       "226025                  0        0                0                1  \n",
       "226026                  0        0                0                1  \n",
       "226027                  0        0                0                1  \n",
       "226028                  0        0                0                1  \n",
       "226029                  0        0                0                1  \n",
       "\n",
       "[226030 rows x 1522 columns]"
      ]
     },
     "execution_count": 111,
     "metadata": {},
     "output_type": "execute_result"
    }
   ],
   "source": [
    "df"
   ]
  },
  {
   "cell_type": "markdown",
   "metadata": {},
   "source": [
    "# We take the below entry as our sample. Drop the price value and then reshape it to transform and then pass through the model to predict the price."
   ]
  },
  {
   "cell_type": "code",
   "execution_count": 131,
   "metadata": {},
   "outputs": [],
   "source": [
    "sample = df.iloc[555].drop(['price','last_review'])"
   ]
  },
  {
   "cell_type": "code",
   "execution_count": 132,
   "metadata": {},
   "outputs": [],
   "source": [
    "s1=sample.values.reshape(-1,1520)"
   ]
  },
  {
   "cell_type": "code",
   "execution_count": 133,
   "metadata": {},
   "outputs": [
    {
     "data": {
      "text/plain": [
       "array([[35.58998, -82.51724, 1, ..., 0, 0, 0]], dtype=object)"
      ]
     },
     "execution_count": 133,
     "metadata": {},
     "output_type": "execute_result"
    }
   ],
   "source": [
    "s1"
   ]
  },
  {
   "cell_type": "code",
   "execution_count": 134,
   "metadata": {},
   "outputs": [],
   "source": [
    "s1 = scaler.transform(s1)"
   ]
  },
  {
   "cell_type": "code",
   "execution_count": 135,
   "metadata": {},
   "outputs": [
    {
     "data": {
      "text/plain": [
       "array([[162.21822]], dtype=float32)"
      ]
     },
     "execution_count": 135,
     "metadata": {},
     "output_type": "execute_result"
    }
   ],
   "source": [
    "model.predict(s1)"
   ]
  },
  {
   "cell_type": "code",
   "execution_count": 138,
   "metadata": {},
   "outputs": [
    {
     "data": {
      "text/plain": [
       "latitude               35.59\n",
       "longitude           -82.5172\n",
       "price                    213\n",
       "minimum_nights             1\n",
       "number_of_reviews         42\n",
       "                      ...   \n",
       "San Mateo County           0\n",
       "Santa Cruz County          0\n",
       "Seattle                    0\n",
       "Twin Cities MSA            0\n",
       "Washington D.C.            0\n",
       "Name: 555, Length: 1522, dtype: object"
      ]
     },
     "execution_count": 138,
     "metadata": {},
     "output_type": "execute_result"
    }
   ],
   "source": [
    "df.iloc[555]"
   ]
  },
  {
   "cell_type": "markdown",
   "metadata": {},
   "source": [
    "# This way we can use the above deep learning model for price prediction of any airbnb."
   ]
  },
  {
   "cell_type": "code",
   "execution_count": null,
   "metadata": {},
   "outputs": [],
   "source": []
  }
 ],
 "metadata": {
  "kernelspec": {
   "display_name": "Python 3",
   "language": "python",
   "name": "python3"
  },
  "language_info": {
   "codemirror_mode": {
    "name": "ipython",
    "version": 3
   },
   "file_extension": ".py",
   "mimetype": "text/x-python",
   "name": "python",
   "nbconvert_exporter": "python",
   "pygments_lexer": "ipython3",
   "version": "3.7.6"
  }
 },
 "nbformat": 4,
 "nbformat_minor": 4
}
