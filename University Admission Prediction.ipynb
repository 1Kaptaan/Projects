{
 "cells": [
  {
   "cell_type": "markdown",
   "metadata": {},
   "source": [
    "# We are building a model to detect chances of Admission in a University.  "
   ]
  },
  {
   "cell_type": "markdown",
   "metadata": {},
   "source": [
    "# We will start by importing certain python libraries, then import data and inspect for any missing values."
   ]
  },
  {
   "cell_type": "code",
   "execution_count": 2,
   "metadata": {},
   "outputs": [],
   "source": [
    "import numpy as np\n",
    "import pandas as pd\n",
    "import matplotlib.pyplot as plt\n",
    "import seaborn as sns\n",
    "%matplotlib inline\n",
    "#this command is used to get all the visualizations in the same working window"
   ]
  },
  {
   "cell_type": "code",
   "execution_count": 3,
   "metadata": {},
   "outputs": [],
   "source": [
    "df = pd.read_csv('Admission_Predict_Ver1.1.csv')"
   ]
  },
  {
   "cell_type": "markdown",
   "metadata": {},
   "source": [
    "# We will check the head of data, describe the data and derive various info"
   ]
  },
  {
   "cell_type": "code",
   "execution_count": 4,
   "metadata": {},
   "outputs": [
    {
     "data": {
      "text/html": [
       "<div>\n",
       "<style scoped>\n",
       "    .dataframe tbody tr th:only-of-type {\n",
       "        vertical-align: middle;\n",
       "    }\n",
       "\n",
       "    .dataframe tbody tr th {\n",
       "        vertical-align: top;\n",
       "    }\n",
       "\n",
       "    .dataframe thead th {\n",
       "        text-align: right;\n",
       "    }\n",
       "</style>\n",
       "<table border=\"1\" class=\"dataframe\">\n",
       "  <thead>\n",
       "    <tr style=\"text-align: right;\">\n",
       "      <th></th>\n",
       "      <th>Serial No.</th>\n",
       "      <th>GRE Score</th>\n",
       "      <th>TOEFL Score</th>\n",
       "      <th>University Rating</th>\n",
       "      <th>SOP</th>\n",
       "      <th>LOR</th>\n",
       "      <th>CGPA</th>\n",
       "      <th>Research</th>\n",
       "      <th>Chance of Admit</th>\n",
       "    </tr>\n",
       "  </thead>\n",
       "  <tbody>\n",
       "    <tr>\n",
       "      <th>0</th>\n",
       "      <td>1</td>\n",
       "      <td>337</td>\n",
       "      <td>118</td>\n",
       "      <td>4</td>\n",
       "      <td>4.5</td>\n",
       "      <td>4.5</td>\n",
       "      <td>9.65</td>\n",
       "      <td>1</td>\n",
       "      <td>0.92</td>\n",
       "    </tr>\n",
       "    <tr>\n",
       "      <th>1</th>\n",
       "      <td>2</td>\n",
       "      <td>324</td>\n",
       "      <td>107</td>\n",
       "      <td>4</td>\n",
       "      <td>4.0</td>\n",
       "      <td>4.5</td>\n",
       "      <td>8.87</td>\n",
       "      <td>1</td>\n",
       "      <td>0.76</td>\n",
       "    </tr>\n",
       "    <tr>\n",
       "      <th>2</th>\n",
       "      <td>3</td>\n",
       "      <td>316</td>\n",
       "      <td>104</td>\n",
       "      <td>3</td>\n",
       "      <td>3.0</td>\n",
       "      <td>3.5</td>\n",
       "      <td>8.00</td>\n",
       "      <td>1</td>\n",
       "      <td>0.72</td>\n",
       "    </tr>\n",
       "  </tbody>\n",
       "</table>\n",
       "</div>"
      ],
      "text/plain": [
       "   Serial No.  GRE Score  TOEFL Score  University Rating  SOP  LOR   CGPA  \\\n",
       "0           1        337          118                  4  4.5   4.5  9.65   \n",
       "1           2        324          107                  4  4.0   4.5  8.87   \n",
       "2           3        316          104                  3  3.0   3.5  8.00   \n",
       "\n",
       "   Research  Chance of Admit   \n",
       "0         1              0.92  \n",
       "1         1              0.76  \n",
       "2         1              0.72  "
      ]
     },
     "execution_count": 4,
     "metadata": {},
     "output_type": "execute_result"
    }
   ],
   "source": [
    "df.head(3)"
   ]
  },
  {
   "cell_type": "code",
   "execution_count": 5,
   "metadata": {},
   "outputs": [
    {
     "name": "stdout",
     "output_type": "stream",
     "text": [
      "<class 'pandas.core.frame.DataFrame'>\n",
      "RangeIndex: 500 entries, 0 to 499\n",
      "Data columns (total 9 columns):\n",
      " #   Column             Non-Null Count  Dtype  \n",
      "---  ------             --------------  -----  \n",
      " 0   Serial No.         500 non-null    int64  \n",
      " 1   GRE Score          500 non-null    int64  \n",
      " 2   TOEFL Score        500 non-null    int64  \n",
      " 3   University Rating  500 non-null    int64  \n",
      " 4   SOP                500 non-null    float64\n",
      " 5   LOR                500 non-null    float64\n",
      " 6   CGPA               500 non-null    float64\n",
      " 7   Research           500 non-null    int64  \n",
      " 8   Chance of Admit    500 non-null    float64\n",
      "dtypes: float64(4), int64(5)\n",
      "memory usage: 35.3 KB\n"
     ]
    }
   ],
   "source": [
    "df.info()"
   ]
  },
  {
   "cell_type": "code",
   "execution_count": 6,
   "metadata": {},
   "outputs": [
    {
     "data": {
      "text/html": [
       "<div>\n",
       "<style scoped>\n",
       "    .dataframe tbody tr th:only-of-type {\n",
       "        vertical-align: middle;\n",
       "    }\n",
       "\n",
       "    .dataframe tbody tr th {\n",
       "        vertical-align: top;\n",
       "    }\n",
       "\n",
       "    .dataframe thead th {\n",
       "        text-align: right;\n",
       "    }\n",
       "</style>\n",
       "<table border=\"1\" class=\"dataframe\">\n",
       "  <thead>\n",
       "    <tr style=\"text-align: right;\">\n",
       "      <th></th>\n",
       "      <th>Serial No.</th>\n",
       "      <th>GRE Score</th>\n",
       "      <th>TOEFL Score</th>\n",
       "      <th>University Rating</th>\n",
       "      <th>SOP</th>\n",
       "      <th>LOR</th>\n",
       "      <th>CGPA</th>\n",
       "      <th>Research</th>\n",
       "      <th>Chance of Admit</th>\n",
       "    </tr>\n",
       "  </thead>\n",
       "  <tbody>\n",
       "    <tr>\n",
       "      <th>count</th>\n",
       "      <td>500.000000</td>\n",
       "      <td>500.000000</td>\n",
       "      <td>500.000000</td>\n",
       "      <td>500.000000</td>\n",
       "      <td>500.000000</td>\n",
       "      <td>500.00000</td>\n",
       "      <td>500.000000</td>\n",
       "      <td>500.000000</td>\n",
       "      <td>500.00000</td>\n",
       "    </tr>\n",
       "    <tr>\n",
       "      <th>mean</th>\n",
       "      <td>250.500000</td>\n",
       "      <td>316.472000</td>\n",
       "      <td>107.192000</td>\n",
       "      <td>3.114000</td>\n",
       "      <td>3.374000</td>\n",
       "      <td>3.48400</td>\n",
       "      <td>8.576440</td>\n",
       "      <td>0.560000</td>\n",
       "      <td>0.72174</td>\n",
       "    </tr>\n",
       "    <tr>\n",
       "      <th>std</th>\n",
       "      <td>144.481833</td>\n",
       "      <td>11.295148</td>\n",
       "      <td>6.081868</td>\n",
       "      <td>1.143512</td>\n",
       "      <td>0.991004</td>\n",
       "      <td>0.92545</td>\n",
       "      <td>0.604813</td>\n",
       "      <td>0.496884</td>\n",
       "      <td>0.14114</td>\n",
       "    </tr>\n",
       "    <tr>\n",
       "      <th>min</th>\n",
       "      <td>1.000000</td>\n",
       "      <td>290.000000</td>\n",
       "      <td>92.000000</td>\n",
       "      <td>1.000000</td>\n",
       "      <td>1.000000</td>\n",
       "      <td>1.00000</td>\n",
       "      <td>6.800000</td>\n",
       "      <td>0.000000</td>\n",
       "      <td>0.34000</td>\n",
       "    </tr>\n",
       "    <tr>\n",
       "      <th>50%</th>\n",
       "      <td>250.500000</td>\n",
       "      <td>317.000000</td>\n",
       "      <td>107.000000</td>\n",
       "      <td>3.000000</td>\n",
       "      <td>3.500000</td>\n",
       "      <td>3.50000</td>\n",
       "      <td>8.560000</td>\n",
       "      <td>1.000000</td>\n",
       "      <td>0.72000</td>\n",
       "    </tr>\n",
       "    <tr>\n",
       "      <th>max</th>\n",
       "      <td>500.000000</td>\n",
       "      <td>340.000000</td>\n",
       "      <td>120.000000</td>\n",
       "      <td>5.000000</td>\n",
       "      <td>5.000000</td>\n",
       "      <td>5.00000</td>\n",
       "      <td>9.920000</td>\n",
       "      <td>1.000000</td>\n",
       "      <td>0.97000</td>\n",
       "    </tr>\n",
       "  </tbody>\n",
       "</table>\n",
       "</div>"
      ],
      "text/plain": [
       "       Serial No.   GRE Score  TOEFL Score  University Rating         SOP  \\\n",
       "count  500.000000  500.000000   500.000000         500.000000  500.000000   \n",
       "mean   250.500000  316.472000   107.192000           3.114000    3.374000   \n",
       "std    144.481833   11.295148     6.081868           1.143512    0.991004   \n",
       "min      1.000000  290.000000    92.000000           1.000000    1.000000   \n",
       "50%    250.500000  317.000000   107.000000           3.000000    3.500000   \n",
       "max    500.000000  340.000000   120.000000           5.000000    5.000000   \n",
       "\n",
       "            LOR         CGPA    Research  Chance of Admit   \n",
       "count  500.00000  500.000000  500.000000         500.00000  \n",
       "mean     3.48400    8.576440    0.560000           0.72174  \n",
       "std      0.92545    0.604813    0.496884           0.14114  \n",
       "min      1.00000    6.800000    0.000000           0.34000  \n",
       "50%      3.50000    8.560000    1.000000           0.72000  \n",
       "max      5.00000    9.920000    1.000000           0.97000  "
      ]
     },
     "execution_count": 6,
     "metadata": {},
     "output_type": "execute_result"
    }
   ],
   "source": [
    "df.describe()"
   ]
  },
  {
   "cell_type": "code",
   "execution_count": 7,
   "metadata": {},
   "outputs": [
    {
     "data": {
      "text/plain": [
       "<matplotlib.axes._subplots.AxesSubplot at 0x7fc111bd7290>"
      ]
     },
     "execution_count": 7,
     "metadata": {},
     "output_type": "execute_result"
    },
    {
     "data": {
      "image/png": "[encoded data removed]",
      "text/plain": [
       "<Figure size 864x504 with 2 Axes>"
      ]
     },
     "metadata": {
      "needs_background": "light"
     },
     "output_type": "display_data"
    }
   ],
   "source": [
    "plt.figure(figsize=(12,7))\n",
    "sns.heatmap(df.isnull())\n",
    "\n",
    "# This will give us any spot with missing Values."
   ]
  },
  {
   "cell_type": "markdown",
   "metadata": {},
   "source": [
    "# This way we know that there are no missing values and there is no need of conversion."
   ]
  },
  {
   "cell_type": "markdown",
   "metadata": {},
   "source": [
    "# Now we will do some Exploratory Analysis  \n",
    "# with the help of Matplotlib and Seaborn"
   ]
  },
  {
   "cell_type": "code",
   "execution_count": 8,
   "metadata": {},
   "outputs": [
    {
     "data": {
      "text/plain": [
       "<matplotlib.axes._subplots.AxesSubplot at 0x7fc111f91e50>"
      ]
     },
     "execution_count": 8,
     "metadata": {},
     "output_type": "execute_result"
    },
    {
     "data": {
      "image/png": "[encoded data removed]",
      "text/plain": [
       "<Figure size 792x504 with 2 Axes>"
      ]
     },
     "metadata": {
      "needs_background": "light"
     },
     "output_type": "display_data"
    }
   ],
   "source": [
    "plt.figure(figsize=(11,7))\n",
    "sns.heatmap(df.corr(),cmap='RdYlBu')"
   ]
  },
  {
   "cell_type": "markdown",
   "metadata": {},
   "source": [
    "# The above heatmap clearly shows the values that are highly correlated to Chace of Admit\n",
    "# These are CGPA, TOEFL Score, GRE Score"
   ]
  },
  {
   "cell_type": "code",
   "execution_count": 12,
   "metadata": {},
   "outputs": [
    {
     "data": {
      "text/plain": [
       "<matplotlib.axes._subplots.AxesSubplot at 0x7fc1146c3390>"
      ]
     },
     "execution_count": 12,
     "metadata": {},
     "output_type": "execute_result"
    },
    {
     "data": {
      "image/png": "[encoded data removed]",
      "text/plain": [
       "<Figure size 864x432 with 1 Axes>"
      ]
     },
     "metadata": {
      "needs_background": "light"
     },
     "output_type": "display_data"
    }
   ],
   "source": [
    "plt.figure(figsize=(12,6))\n",
    "sns.distplot(df['CGPA'])"
   ]
  },
  {
   "cell_type": "code",
   "execution_count": 13,
   "metadata": {},
   "outputs": [
    {
     "data": {
      "text/plain": [
       "<matplotlib.axes._subplots.AxesSubplot at 0x7fc11497d150>"
      ]
     },
     "execution_count": 13,
     "metadata": {},
     "output_type": "execute_result"
    },
    {
     "data": {
      "image/png": "[encoded data removed]",
      "text/plain": [
       "<Figure size 864x432 with 1 Axes>"
      ]
     },
     "metadata": {
      "needs_background": "light"
     },
     "output_type": "display_data"
    }
   ],
   "source": [
    "plt.figure(figsize=(12,6))\n",
    "sns.distplot(df['GRE Score'],kde=False)"
   ]
  },
  {
   "cell_type": "markdown",
   "metadata": {},
   "source": [
    "# The jointplots below show how CGPA, GRE Score and TOFEL Score relate to each other"
   ]
  },
  {
   "cell_type": "code",
   "execution_count": 14,
   "metadata": {},
   "outputs": [
    {
     "data": {
      "text/plain": [
       "<seaborn.axisgrid.JointGrid at 0x7fc114c58410>"
      ]
     },
     "execution_count": 14,
     "metadata": {},
     "output_type": "execute_result"
    },
    {
     "data": {
      "text/plain": [
       "<Figure size 648x504 with 0 Axes>"
      ]
     },
     "metadata": {},
     "output_type": "display_data"
    },
    {
     "data": {
      "image/png": "[encoded data removed]",
      "text/plain": [
       "<Figure size 432x432 with 3 Axes>"
      ]
     },
     "metadata": {
      "needs_background": "light"
     },
     "output_type": "display_data"
    }
   ],
   "source": [
    "sns.jointplot(x='GRE Score',y='CGPA',data= df)"
   ]
  },
  {
   "cell_type": "code",
   "execution_count": 15,
   "metadata": {},
   "outputs": [
    {
     "data": {
      "text/plain": [
       "<seaborn.axisgrid.JointGrid at 0x7fc1114d1310>"
      ]
     },
     "execution_count": 15,
     "metadata": {},
     "output_type": "execute_result"
    },
    {
     "data": {
      "image/png": "[encoded data removed]",
      "text/plain": [
       "<Figure size 432x432 with 3 Axes>"
      ]
     },
     "metadata": {
      "needs_background": "light"
     },
     "output_type": "display_data"
    }
   ],
   "source": [
    "sns.jointplot(x='TOEFL Score', y='CGPA',data = df)"
   ]
  },
  {
   "cell_type": "markdown",
   "metadata": {},
   "source": [
    "# Once we are clear with the Dependents we will go ahead and choose X(Dependent Variables) and y(outcome)"
   ]
  },
  {
   "cell_type": "code",
   "execution_count": 16,
   "metadata": {},
   "outputs": [],
   "source": [
    "X = df.drop('Chance of Admit ',axis = 1)"
   ]
  },
  {
   "cell_type": "code",
   "execution_count": 17,
   "metadata": {},
   "outputs": [],
   "source": [
    "y = df['Chance of Admit ']"
   ]
  },
  {
   "cell_type": "markdown",
   "metadata": {},
   "source": [
    "# We will split the data into train and test set."
   ]
  },
  {
   "cell_type": "code",
   "execution_count": 18,
   "metadata": {},
   "outputs": [],
   "source": [
    "from sklearn.model_selection import train_test_split"
   ]
  },
  {
   "cell_type": "code",
   "execution_count": 29,
   "metadata": {},
   "outputs": [],
   "source": [
    "X_train, X_test, y_train, y_test = train_test_split(X, y, test_size = .20, random_state = 101)"
   ]
  },
  {
   "cell_type": "code",
   "execution_count": 32,
   "metadata": {},
   "outputs": [],
   "source": [
    "X_train = X_train.drop('Serial No.', axis=1)"
   ]
  },
  {
   "cell_type": "code",
   "execution_count": 33,
   "metadata": {},
   "outputs": [],
   "source": [
    "X_test = X_test.drop('Serial No.', axis=1)"
   ]
  },
  {
   "cell_type": "markdown",
   "metadata": {},
   "source": [
    "# After the train test split we need to normalize the data to make it easier for our model to work on"
   ]
  },
  {
   "cell_type": "code",
   "execution_count": 34,
   "metadata": {},
   "outputs": [],
   "source": [
    "from sklearn.preprocessing import MinMaxScaler"
   ]
  },
  {
   "cell_type": "code",
   "execution_count": 35,
   "metadata": {},
   "outputs": [],
   "source": [
    "scaler = MinMaxScaler()"
   ]
  },
  {
   "cell_type": "code",
   "execution_count": 36,
   "metadata": {},
   "outputs": [],
   "source": [
    "X_train = scaler.fit_transform(X_train)"
   ]
  },
  {
   "cell_type": "code",
   "execution_count": 37,
   "metadata": {},
   "outputs": [],
   "source": [
    "X_test = scaler.transform(X_test)"
   ]
  },
  {
   "cell_type": "code",
   "execution_count": 38,
   "metadata": {},
   "outputs": [
    {
     "data": {
      "text/plain": [
       "array([[0.16      , 0.22222222, 0.        , ..., 0.5       , 0.21153846,\n",
       "        0.        ],\n",
       "       [0.62      , 0.66666667, 1.        , ..., 1.        , 0.84935897,\n",
       "        1.        ],\n",
       "       [0.52      , 0.44444444, 0.5       , ..., 0.625     , 0.61858974,\n",
       "        0.        ],\n",
       "       ...,\n",
       "       [0.84      , 0.92592593, 1.        , ..., 1.        , 0.85576923,\n",
       "        1.        ],\n",
       "       [0.74      , 0.66666667, 0.75      , ..., 0.875     , 0.70512821,\n",
       "        1.        ],\n",
       "       [0.7       , 0.62962963, 0.75      , ..., 0.75      , 0.59935897,\n",
       "        1.        ]])"
      ]
     },
     "execution_count": 38,
     "metadata": {},
     "output_type": "execute_result"
    }
   ],
   "source": [
    "X_train"
   ]
  },
  {
   "cell_type": "markdown",
   "metadata": {},
   "source": [
    "# Now we go ahead and build our model with help of Tensorflow"
   ]
  },
  {
   "cell_type": "code",
   "execution_count": 39,
   "metadata": {},
   "outputs": [],
   "source": [
    "import tensorflow as tf"
   ]
  },
  {
   "cell_type": "code",
   "execution_count": 40,
   "metadata": {},
   "outputs": [],
   "source": [
    "from tensorflow.keras.models import Sequential\n",
    "from tensorflow.keras.layers import Dense, Dropout"
   ]
  },
  {
   "cell_type": "code",
   "execution_count": null,
   "metadata": {},
   "outputs": [],
   "source": []
  },
  {
   "cell_type": "code",
   "execution_count": 41,
   "metadata": {},
   "outputs": [],
   "source": [
    "model = Sequential()\n",
    "\n",
    "model.add(Dense(21, activation='relu'))\n",
    "model.add(Dropout(.5)) \n",
    "# This is our first layer with 50% dropout.\n",
    "\n",
    "model.add(Dense(14,activation='relu'))\n",
    "model.add(Dropout(.5)) \n",
    "# This is our second layer(1st hidden layer) with 50% droput.\n",
    "\n",
    "model.add(Dense(7,activation='relu'))\n",
    "model.add(Dropout(.25)) \n",
    "#This is our third layer(2nd hidden layer) with 25% dropout.\n",
    "\n",
    "model.add(Dense(1,activation='relu')) \n",
    "# This is our final layer(output layer).\n",
    "\n",
    "# Now we will compile the model and for loss we will check for Mean Squared Error.\n",
    "model.compile(optimizer = 'adam', loss = 'mse')"
   ]
  },
  {
   "cell_type": "code",
   "execution_count": 42,
   "metadata": {},
   "outputs": [
    {
     "name": "stdout",
     "output_type": "stream",
     "text": [
      "Epoch 1/128\n",
      "WARNING:tensorflow:Layer dense is casting an input tensor from dtype float64 to the layer's dtype of float32, which is new behavior in TensorFlow 2.  The layer has dtype float32 because it's dtype defaults to floatx.\n",
      "\n",
      "If you intended to run this layer in float32, you can safely ignore this warning. If in doubt, this warning is likely only an issue if you are porting a TensorFlow 1.X model to TensorFlow 2.\n",
      "\n",
      "To change all layers to have dtype float64 by default, call `tf.keras.backend.set_floatx('float64')`. To change just this layer, pass dtype='float64' to the layer constructor. If you are the author of this layer, you can disable autocasting by passing autocast=False to the base Layer constructor.\n",
      "\n",
      "9/9 - 0s - loss: 0.5196 - val_loss: 0.5477\n",
      "Epoch 2/128\n",
      "9/9 - 0s - loss: 0.5164 - val_loss: 0.5477\n",
      "Epoch 3/128\n",
      "9/9 - 0s - loss: 0.5161 - val_loss: 0.5477\n",
      "Epoch 4/128\n",
      "9/9 - 0s - loss: 0.4880 - val_loss: 0.5477\n",
      "Epoch 5/128\n",
      "9/9 - 0s - loss: 0.4836 - val_loss: 0.5477\n",
      "Epoch 6/128\n",
      "9/9 - 0s - loss: 0.4751 - val_loss: 0.5476\n",
      "Epoch 7/128\n",
      "9/9 - 0s - loss: 0.4684 - val_loss: 0.5463\n",
      "Epoch 8/128\n",
      "9/9 - 0s - loss: 0.4735 - val_loss: 0.5407\n",
      "Epoch 9/128\n",
      "9/9 - 0s - loss: 0.4362 - val_loss: 0.5204\n",
      "Epoch 10/128\n",
      "9/9 - 0s - loss: 0.4193 - val_loss: 0.4330\n",
      "Epoch 11/128\n",
      "9/9 - 0s - loss: 0.3704 - val_loss: 0.2633\n",
      "Epoch 12/128\n",
      "9/9 - 0s - loss: 0.3618 - val_loss: 0.1653\n",
      "Epoch 13/128\n",
      "9/9 - 0s - loss: 0.3374 - val_loss: 0.1179\n",
      "Epoch 14/128\n",
      "9/9 - 0s - loss: 0.2511 - val_loss: 0.0747\n",
      "Epoch 15/128\n",
      "9/9 - 0s - loss: 0.2618 - val_loss: 0.0582\n",
      "Epoch 16/128\n",
      "9/9 - 0s - loss: 0.2043 - val_loss: 0.0540\n",
      "Epoch 17/128\n",
      "9/9 - 0s - loss: 0.2008 - val_loss: 0.0483\n",
      "Epoch 18/128\n",
      "9/9 - 0s - loss: 0.1509 - val_loss: 0.0399\n",
      "Epoch 19/128\n",
      "9/9 - 0s - loss: 0.1387 - val_loss: 0.0335\n",
      "Epoch 20/128\n",
      "9/9 - 0s - loss: 0.1171 - val_loss: 0.0289\n",
      "Epoch 21/128\n",
      "9/9 - 0s - loss: 0.1269 - val_loss: 0.0264\n",
      "Epoch 22/128\n",
      "9/9 - 0s - loss: 0.1031 - val_loss: 0.0228\n",
      "Epoch 23/128\n",
      "9/9 - 0s - loss: 0.0902 - val_loss: 0.0214\n",
      "Epoch 24/128\n",
      "9/9 - 0s - loss: 0.0837 - val_loss: 0.0211\n",
      "Epoch 25/128\n",
      "9/9 - 0s - loss: 0.0870 - val_loss: 0.0229\n",
      "Epoch 26/128\n",
      "9/9 - 0s - loss: 0.0706 - val_loss: 0.0236\n",
      "Epoch 27/128\n",
      "9/9 - 0s - loss: 0.0579 - val_loss: 0.0227\n",
      "Epoch 28/128\n",
      "9/9 - 0s - loss: 0.0613 - val_loss: 0.0206\n",
      "Epoch 29/128\n",
      "9/9 - 0s - loss: 0.0547 - val_loss: 0.0206\n",
      "Epoch 30/128\n",
      "9/9 - 0s - loss: 0.0575 - val_loss: 0.0215\n",
      "Epoch 31/128\n",
      "9/9 - 0s - loss: 0.0562 - val_loss: 0.0231\n",
      "Epoch 32/128\n",
      "9/9 - 0s - loss: 0.0551 - val_loss: 0.0225\n",
      "Epoch 33/128\n",
      "9/9 - 0s - loss: 0.0478 - val_loss: 0.0220\n",
      "Epoch 34/128\n",
      "9/9 - 0s - loss: 0.0522 - val_loss: 0.0218\n",
      "Epoch 35/128\n",
      "9/9 - 0s - loss: 0.0508 - val_loss: 0.0227\n",
      "Epoch 36/128\n",
      "9/9 - 0s - loss: 0.0442 - val_loss: 0.0227\n",
      "Epoch 37/128\n",
      "9/9 - 0s - loss: 0.0446 - val_loss: 0.0226\n",
      "Epoch 38/128\n",
      "9/9 - 0s - loss: 0.0373 - val_loss: 0.0225\n",
      "Epoch 39/128\n",
      "9/9 - 0s - loss: 0.0383 - val_loss: 0.0230\n",
      "Epoch 40/128\n",
      "9/9 - 0s - loss: 0.0346 - val_loss: 0.0242\n",
      "Epoch 41/128\n",
      "9/9 - 0s - loss: 0.0455 - val_loss: 0.0243\n",
      "Epoch 42/128\n",
      "9/9 - 0s - loss: 0.0377 - val_loss: 0.0237\n",
      "Epoch 43/128\n",
      "9/9 - 0s - loss: 0.0339 - val_loss: 0.0230\n",
      "Epoch 44/128\n",
      "9/9 - 0s - loss: 0.0403 - val_loss: 0.0223\n",
      "Epoch 45/128\n",
      "9/9 - 0s - loss: 0.0348 - val_loss: 0.0212\n",
      "Epoch 46/128\n",
      "9/9 - 0s - loss: 0.0319 - val_loss: 0.0215\n",
      "Epoch 47/128\n",
      "9/9 - 0s - loss: 0.0344 - val_loss: 0.0207\n",
      "Epoch 48/128\n",
      "9/9 - 0s - loss: 0.0347 - val_loss: 0.0202\n",
      "Epoch 49/128\n",
      "9/9 - 0s - loss: 0.0368 - val_loss: 0.0206\n",
      "Epoch 50/128\n",
      "9/9 - 0s - loss: 0.0335 - val_loss: 0.0213\n",
      "Epoch 51/128\n",
      "9/9 - 0s - loss: 0.0268 - val_loss: 0.0213\n",
      "Epoch 52/128\n",
      "9/9 - 0s - loss: 0.0364 - val_loss: 0.0208\n",
      "Epoch 53/128\n",
      "9/9 - 0s - loss: 0.0368 - val_loss: 0.0211\n",
      "Epoch 54/128\n",
      "9/9 - 0s - loss: 0.0311 - val_loss: 0.0212\n",
      "Epoch 55/128\n",
      "9/9 - 0s - loss: 0.0308 - val_loss: 0.0210\n",
      "Epoch 56/128\n",
      "9/9 - 0s - loss: 0.0336 - val_loss: 0.0202\n",
      "Epoch 57/128\n",
      "9/9 - 0s - loss: 0.0305 - val_loss: 0.0196\n",
      "Epoch 58/128\n",
      "9/9 - 0s - loss: 0.0287 - val_loss: 0.0193\n",
      "Epoch 59/128\n",
      "9/9 - 0s - loss: 0.0298 - val_loss: 0.0193\n",
      "Epoch 60/128\n",
      "9/9 - 0s - loss: 0.0303 - val_loss: 0.0194\n",
      "Epoch 61/128\n",
      "9/9 - 0s - loss: 0.0292 - val_loss: 0.0195\n",
      "Epoch 62/128\n",
      "9/9 - 0s - loss: 0.0249 - val_loss: 0.0194\n",
      "Epoch 63/128\n",
      "9/9 - 0s - loss: 0.0242 - val_loss: 0.0196\n",
      "Epoch 64/128\n",
      "9/9 - 0s - loss: 0.0261 - val_loss: 0.0192\n",
      "Epoch 65/128\n",
      "9/9 - 0s - loss: 0.0250 - val_loss: 0.0190\n",
      "Epoch 66/128\n",
      "9/9 - 0s - loss: 0.0271 - val_loss: 0.0188\n",
      "Epoch 67/128\n",
      "9/9 - 0s - loss: 0.0288 - val_loss: 0.0185\n",
      "Epoch 68/128\n",
      "9/9 - 0s - loss: 0.0238 - val_loss: 0.0186\n",
      "Epoch 69/128\n",
      "9/9 - 0s - loss: 0.0285 - val_loss: 0.0183\n",
      "Epoch 70/128\n",
      "9/9 - 0s - loss: 0.0284 - val_loss: 0.0179\n",
      "Epoch 71/128\n",
      "9/9 - 0s - loss: 0.0296 - val_loss: 0.0178\n",
      "Epoch 72/128\n",
      "9/9 - 0s - loss: 0.0269 - val_loss: 0.0180\n",
      "Epoch 73/128\n",
      "9/9 - 0s - loss: 0.0300 - val_loss: 0.0182\n",
      "Epoch 74/128\n",
      "9/9 - 0s - loss: 0.0246 - val_loss: 0.0176\n",
      "Epoch 75/128\n",
      "9/9 - 0s - loss: 0.0246 - val_loss: 0.0174\n",
      "Epoch 76/128\n",
      "9/9 - 0s - loss: 0.0258 - val_loss: 0.0174\n",
      "Epoch 77/128\n",
      "9/9 - 0s - loss: 0.0226 - val_loss: 0.0176\n",
      "Epoch 78/128\n",
      "9/9 - 0s - loss: 0.0258 - val_loss: 0.0178\n",
      "Epoch 79/128\n",
      "9/9 - 0s - loss: 0.0235 - val_loss: 0.0180\n",
      "Epoch 80/128\n",
      "9/9 - 0s - loss: 0.0260 - val_loss: 0.0179\n",
      "Epoch 81/128\n",
      "9/9 - 0s - loss: 0.0296 - val_loss: 0.0174\n",
      "Epoch 82/128\n",
      "9/9 - 0s - loss: 0.0224 - val_loss: 0.0172\n",
      "Epoch 83/128\n",
      "9/9 - 0s - loss: 0.0244 - val_loss: 0.0173\n",
      "Epoch 84/128\n",
      "9/9 - 0s - loss: 0.0249 - val_loss: 0.0172\n",
      "Epoch 85/128\n",
      "9/9 - 0s - loss: 0.0201 - val_loss: 0.0171\n",
      "Epoch 86/128\n",
      "9/9 - 0s - loss: 0.0255 - val_loss: 0.0171\n",
      "Epoch 87/128\n",
      "9/9 - 0s - loss: 0.0229 - val_loss: 0.0168\n",
      "Epoch 88/128\n",
      "9/9 - 0s - loss: 0.0238 - val_loss: 0.0167\n",
      "Epoch 89/128\n",
      "9/9 - 0s - loss: 0.0215 - val_loss: 0.0166\n",
      "Epoch 90/128\n",
      "9/9 - 0s - loss: 0.0235 - val_loss: 0.0168\n",
      "Epoch 91/128\n",
      "9/9 - 0s - loss: 0.0222 - val_loss: 0.0171\n",
      "Epoch 92/128\n",
      "9/9 - 0s - loss: 0.0211 - val_loss: 0.0172\n",
      "Epoch 93/128\n",
      "9/9 - 0s - loss: 0.0211 - val_loss: 0.0171\n",
      "Epoch 94/128\n",
      "9/9 - 0s - loss: 0.0242 - val_loss: 0.0167\n",
      "Epoch 95/128\n",
      "9/9 - 0s - loss: 0.0236 - val_loss: 0.0164\n",
      "Epoch 96/128\n",
      "9/9 - 0s - loss: 0.0199 - val_loss: 0.0163\n",
      "Epoch 97/128\n",
      "9/9 - 0s - loss: 0.0223 - val_loss: 0.0158\n",
      "Epoch 98/128\n",
      "9/9 - 0s - loss: 0.0240 - val_loss: 0.0156\n",
      "Epoch 99/128\n",
      "9/9 - 0s - loss: 0.0206 - val_loss: 0.0160\n",
      "Epoch 100/128\n",
      "9/9 - 0s - loss: 0.0196 - val_loss: 0.0157\n",
      "Epoch 101/128\n",
      "9/9 - 0s - loss: 0.0187 - val_loss: 0.0156\n",
      "Epoch 102/128\n",
      "9/9 - 0s - loss: 0.0203 - val_loss: 0.0155\n",
      "Epoch 103/128\n",
      "9/9 - 0s - loss: 0.0231 - val_loss: 0.0150\n",
      "Epoch 104/128\n",
      "9/9 - 0s - loss: 0.0201 - val_loss: 0.0143\n",
      "Epoch 105/128\n",
      "9/9 - 0s - loss: 0.0223 - val_loss: 0.0137\n",
      "Epoch 106/128\n",
      "9/9 - 0s - loss: 0.0201 - val_loss: 0.0146\n",
      "Epoch 107/128\n",
      "9/9 - 0s - loss: 0.0202 - val_loss: 0.0154\n",
      "Epoch 108/128\n",
      "9/9 - 0s - loss: 0.0201 - val_loss: 0.0155\n",
      "Epoch 109/128\n",
      "9/9 - 0s - loss: 0.0206 - val_loss: 0.0151\n",
      "Epoch 110/128\n",
      "9/9 - 0s - loss: 0.0187 - val_loss: 0.0145\n",
      "Epoch 111/128\n",
      "9/9 - 0s - loss: 0.0207 - val_loss: 0.0142\n",
      "Epoch 112/128\n",
      "9/9 - 0s - loss: 0.0184 - val_loss: 0.0140\n",
      "Epoch 113/128\n",
      "9/9 - 0s - loss: 0.0199 - val_loss: 0.0139\n",
      "Epoch 114/128\n",
      "9/9 - 0s - loss: 0.0201 - val_loss: 0.0138\n",
      "Epoch 115/128\n",
      "9/9 - 0s - loss: 0.0168 - val_loss: 0.0141\n",
      "Epoch 116/128\n",
      "9/9 - 0s - loss: 0.0171 - val_loss: 0.0145\n",
      "Epoch 117/128\n",
      "9/9 - 0s - loss: 0.0175 - val_loss: 0.0149\n",
      "Epoch 118/128\n",
      "9/9 - 0s - loss: 0.0173 - val_loss: 0.0147\n",
      "Epoch 119/128\n",
      "9/9 - 0s - loss: 0.0194 - val_loss: 0.0146\n",
      "Epoch 120/128\n",
      "9/9 - 0s - loss: 0.0165 - val_loss: 0.0140\n",
      "Epoch 121/128\n",
      "9/9 - 0s - loss: 0.0181 - val_loss: 0.0138\n",
      "Epoch 122/128\n",
      "9/9 - 0s - loss: 0.0168 - val_loss: 0.0138\n",
      "Epoch 123/128\n",
      "9/9 - 0s - loss: 0.0187 - val_loss: 0.0141\n",
      "Epoch 124/128\n",
      "9/9 - 0s - loss: 0.0191 - val_loss: 0.0145\n",
      "Epoch 125/128\n",
      "9/9 - 0s - loss: 0.0177 - val_loss: 0.0149\n",
      "Epoch 126/128\n",
      "9/9 - 0s - loss: 0.0186 - val_loss: 0.0150\n",
      "Epoch 127/128\n",
      "9/9 - 0s - loss: 0.0169 - val_loss: 0.0148\n",
      "Epoch 128/128\n",
      "9/9 - 0s - loss: 0.0167 - val_loss: 0.0147\n"
     ]
    },
    {
     "data": {
      "text/plain": [
       "<tensorflow.python.keras.callbacks.History at 0x7fc0fce6b890>"
      ]
     },
     "execution_count": 42,
     "metadata": {},
     "output_type": "execute_result"
    }
   ],
   "source": [
    "model.fit(x = X_train,\n",
    "          y =y_train,\n",
    "          epochs = 128,\n",
    "          verbose = 2,\n",
    "          validation_split = .33,\n",
    "          shuffle = True)"
   ]
  },
  {
   "cell_type": "code",
   "execution_count": 43,
   "metadata": {},
   "outputs": [
    {
     "name": "stdout",
     "output_type": "stream",
     "text": [
      "Model: \"sequential\"\n",
      "_________________________________________________________________\n",
      "Layer (type)                 Output Shape              Param #   \n",
      "=================================================================\n",
      "dense (Dense)                multiple                  168       \n",
      "_________________________________________________________________\n",
      "dropout (Dropout)            multiple                  0         \n",
      "_________________________________________________________________\n",
      "dense_1 (Dense)              multiple                  308       \n",
      "_________________________________________________________________\n",
      "dropout_1 (Dropout)          multiple                  0         \n",
      "_________________________________________________________________\n",
      "dense_2 (Dense)              multiple                  105       \n",
      "_________________________________________________________________\n",
      "dropout_2 (Dropout)          multiple                  0         \n",
      "_________________________________________________________________\n",
      "dense_3 (Dense)              multiple                  8         \n",
      "=================================================================\n",
      "Total params: 589\n",
      "Trainable params: 589\n",
      "Non-trainable params: 0\n",
      "_________________________________________________________________\n"
     ]
    }
   ],
   "source": [
    "model.summary()"
   ]
  },
  {
   "cell_type": "markdown",
   "metadata": {},
   "source": [
    "# Now we create a DataFrame for the model loss.\n",
    "# Then we will plot the loss to check if the model works fine and there is no Underfitting or Overfitting"
   ]
  },
  {
   "cell_type": "code",
   "execution_count": 44,
   "metadata": {},
   "outputs": [],
   "source": [
    "loss = pd.DataFrame(model.history.history)"
   ]
  },
  {
   "cell_type": "code",
   "execution_count": 46,
   "metadata": {},
   "outputs": [
    {
     "data": {
      "text/plain": [
       "<matplotlib.axes._subplots.AxesSubplot at 0x7fc0fe8cf790>"
      ]
     },
     "execution_count": 46,
     "metadata": {},
     "output_type": "execute_result"
    },
    {
     "data": {
      "image/png": "[encoded data removed]",
      "text/plain": [
       "<Figure size 864x504 with 1 Axes>"
      ]
     },
     "metadata": {
      "needs_background": "light"
     },
     "output_type": "display_data"
    }
   ],
   "source": [
    "loss.plot(figsize=(12,7))"
   ]
  },
  {
   "cell_type": "code",
   "execution_count": 47,
   "metadata": {},
   "outputs": [],
   "source": [
    "prediction = model.predict(X_test)"
   ]
  },
  {
   "cell_type": "code",
   "execution_count": 55,
   "metadata": {},
   "outputs": [
    {
     "data": {
      "image/png": "[encoded data removed]",
      "text/plain": [
       "<Figure size 720x504 with 1 Axes>"
      ]
     },
     "metadata": {
      "needs_background": "light"
     },
     "output_type": "display_data"
    }
   ],
   "source": [
    "plt.scatter(y_test,prediction)\n",
    "plt.gcf().set_size_inches((10,7))"
   ]
  },
  {
   "cell_type": "markdown",
   "metadata": {},
   "source": [
    "# The scatter plot above shows how our predictions are scattered with respect to the y_test"
   ]
  },
  {
   "cell_type": "markdown",
   "metadata": {},
   "source": [
    "# In order to predict the Chance of Admit for a new person we just need to convert the variables to numpy array and feed it to our model."
   ]
  },
  {
   "cell_type": "markdown",
   "metadata": {},
   "source": [
    "# Now we will try this with simple linear regression model"
   ]
  },
  {
   "cell_type": "markdown",
   "metadata": {},
   "source": [
    "# First we import LinearRegression model"
   ]
  },
  {
   "cell_type": "code",
   "execution_count": 56,
   "metadata": {},
   "outputs": [],
   "source": [
    "from sklearn.linear_model import LinearRegression"
   ]
  },
  {
   "cell_type": "code",
   "execution_count": 57,
   "metadata": {},
   "outputs": [],
   "source": [
    "lr = LinearRegression()"
   ]
  },
  {
   "cell_type": "markdown",
   "metadata": {},
   "source": [
    "# Now we will fit our training data and then compare the predictions with our y_test with help of scatterplot"
   ]
  },
  {
   "cell_type": "code",
   "execution_count": 58,
   "metadata": {},
   "outputs": [
    {
     "data": {
      "text/plain": [
       "LinearRegression(copy_X=True, fit_intercept=True, n_jobs=None, normalize=False)"
      ]
     },
     "execution_count": 58,
     "metadata": {},
     "output_type": "execute_result"
    }
   ],
   "source": [
    "lr.fit(X_train, y_train)"
   ]
  },
  {
   "cell_type": "code",
   "execution_count": 59,
   "metadata": {},
   "outputs": [
    {
     "name": "stdout",
     "output_type": "stream",
     "text": [
      "Coefficients: \n",
      " [0.09630528 0.08286086 0.02574855 0.00409588 0.06965886 0.36603095\n",
      " 0.02144187]\n"
     ]
    }
   ],
   "source": [
    "print('Coefficients: \\n' , lr.coef_)"
   ]
  },
  {
   "cell_type": "code",
   "execution_count": 60,
   "metadata": {},
   "outputs": [],
   "source": [
    "lr_prediction = lr.predict(X_test)"
   ]
  },
  {
   "cell_type": "code",
   "execution_count": 63,
   "metadata": {},
   "outputs": [
    {
     "data": {
      "image/png": "[encoded data removed]",
      "text/plain": [
       "<Figure size 720x504 with 1 Axes>"
      ]
     },
     "metadata": {
      "needs_background": "light"
     },
     "output_type": "display_data"
    }
   ],
   "source": [
    "plt.scatter(y_test,lr_prediction)\n",
    "plt.gcf().set_size_inches((10,7))"
   ]
  },
  {
   "cell_type": "markdown",
   "metadata": {},
   "source": [
    "# With this scatter plot we can clearly see that our deep learning Neural model performs better than the simple Linear Regression model."
   ]
  },
  {
   "cell_type": "code",
   "execution_count": null,
   "metadata": {},
   "outputs": [],
   "source": []
  }
 ],
 "metadata": {
  "kernelspec": {
   "display_name": "Python 3",
   "language": "python",
   "name": "python3"
  },
  "language_info": {
   "codemirror_mode": {
    "name": "ipython",
    "version": 3
   },
   "file_extension": ".py",
   "mimetype": "text/x-python",
   "name": "python",
   "nbconvert_exporter": "python",
   "pygments_lexer": "ipython3",
   "version": "3.7.6"
  }
 },
 "nbformat": 4,
 "nbformat_minor": 4
}
